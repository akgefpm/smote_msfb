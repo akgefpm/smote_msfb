{
 "cells": [
  {
   "cell_type": "code",
   "execution_count": 1,
   "id": "56a26558-d752-4265-b9eb-b3e5bfbec0e8",
   "metadata": {},
   "outputs": [],
   "source": [
    "import numpy as np\n",
    "import pandas as pd\n",
    "import matplotlib.pyplot as plt\n",
    "import seaborn as sns"
   ]
  },
  {
   "cell_type": "code",
   "execution_count": 2,
   "id": "f3db33b5-9794-4295-98b5-9f44de2c0735",
   "metadata": {},
   "outputs": [],
   "source": [
    "from sklearn.datasets import make_classification\n",
    "from sklearn.model_selection import train_test_split\n",
    "from sklearn.naive_bayes import BernoulliNB\n",
    "from sklearn.calibration import CalibratedClassifierCV"
   ]
  },
  {
   "cell_type": "code",
   "execution_count": 3,
   "id": "adbaea36-cf60-410f-b7a7-010a734e4597",
   "metadata": {},
   "outputs": [],
   "source": [
    "# -----------------------------\n",
    "# 1. Generate high-dimensional imbalanced dataset\n",
    "# -----------------------------\n",
    "X, y = make_classification(n_samples=2000,\n",
    "                           n_features=2500,\n",
    "                           n_informative=50,\n",
    "                           n_redundant=0,\n",
    "                           n_classes=2,\n",
    "                           weights=[0.90, 0.1],\n",
    "                           random_state=42)"
   ]
  },
  {
   "cell_type": "code",
   "execution_count": 4,
   "id": "f6ddb1e4-f005-4f73-a413-5b96ecd1ebbc",
   "metadata": {},
   "outputs": [],
   "source": [
    "X_train, X_test, y_train, y_test = train_test_split(\n",
    "    X, y, test_size=0.3, stratify=y, random_state=42\n",
    ")"
   ]
  },
  {
   "cell_type": "code",
   "execution_count": 5,
   "id": "32830594-ac56-4f56-81c6-ce86a41c3777",
   "metadata": {},
   "outputs": [
    {
     "data": {
      "text/html": [
       "<style>#sk-container-id-1 {color: black;}#sk-container-id-1 pre{padding: 0;}#sk-container-id-1 div.sk-toggleable {background-color: white;}#sk-container-id-1 label.sk-toggleable__label {cursor: pointer;display: block;width: 100%;margin-bottom: 0;padding: 0.3em;box-sizing: border-box;text-align: center;}#sk-container-id-1 label.sk-toggleable__label-arrow:before {content: \"▸\";float: left;margin-right: 0.25em;color: #696969;}#sk-container-id-1 label.sk-toggleable__label-arrow:hover:before {color: black;}#sk-container-id-1 div.sk-estimator:hover label.sk-toggleable__label-arrow:before {color: black;}#sk-container-id-1 div.sk-toggleable__content {max-height: 0;max-width: 0;overflow: hidden;text-align: left;background-color: #f0f8ff;}#sk-container-id-1 div.sk-toggleable__content pre {margin: 0.2em;color: black;border-radius: 0.25em;background-color: #f0f8ff;}#sk-container-id-1 input.sk-toggleable__control:checked~div.sk-toggleable__content {max-height: 200px;max-width: 100%;overflow: auto;}#sk-container-id-1 input.sk-toggleable__control:checked~label.sk-toggleable__label-arrow:before {content: \"▾\";}#sk-container-id-1 div.sk-estimator input.sk-toggleable__control:checked~label.sk-toggleable__label {background-color: #d4ebff;}#sk-container-id-1 div.sk-label input.sk-toggleable__control:checked~label.sk-toggleable__label {background-color: #d4ebff;}#sk-container-id-1 input.sk-hidden--visually {border: 0;clip: rect(1px 1px 1px 1px);clip: rect(1px, 1px, 1px, 1px);height: 1px;margin: -1px;overflow: hidden;padding: 0;position: absolute;width: 1px;}#sk-container-id-1 div.sk-estimator {font-family: monospace;background-color: #f0f8ff;border: 1px dotted black;border-radius: 0.25em;box-sizing: border-box;margin-bottom: 0.5em;}#sk-container-id-1 div.sk-estimator:hover {background-color: #d4ebff;}#sk-container-id-1 div.sk-parallel-item::after {content: \"\";width: 100%;border-bottom: 1px solid gray;flex-grow: 1;}#sk-container-id-1 div.sk-label:hover label.sk-toggleable__label {background-color: #d4ebff;}#sk-container-id-1 div.sk-serial::before {content: \"\";position: absolute;border-left: 1px solid gray;box-sizing: border-box;top: 0;bottom: 0;left: 50%;z-index: 0;}#sk-container-id-1 div.sk-serial {display: flex;flex-direction: column;align-items: center;background-color: white;padding-right: 0.2em;padding-left: 0.2em;position: relative;}#sk-container-id-1 div.sk-item {position: relative;z-index: 1;}#sk-container-id-1 div.sk-parallel {display: flex;align-items: stretch;justify-content: center;background-color: white;position: relative;}#sk-container-id-1 div.sk-item::before, #sk-container-id-1 div.sk-parallel-item::before {content: \"\";position: absolute;border-left: 1px solid gray;box-sizing: border-box;top: 0;bottom: 0;left: 50%;z-index: -1;}#sk-container-id-1 div.sk-parallel-item {display: flex;flex-direction: column;z-index: 1;position: relative;background-color: white;}#sk-container-id-1 div.sk-parallel-item:first-child::after {align-self: flex-end;width: 50%;}#sk-container-id-1 div.sk-parallel-item:last-child::after {align-self: flex-start;width: 50%;}#sk-container-id-1 div.sk-parallel-item:only-child::after {width: 0;}#sk-container-id-1 div.sk-dashed-wrapped {border: 1px dashed gray;margin: 0 0.4em 0.5em 0.4em;box-sizing: border-box;padding-bottom: 0.4em;background-color: white;}#sk-container-id-1 div.sk-label label {font-family: monospace;font-weight: bold;display: inline-block;line-height: 1.2em;}#sk-container-id-1 div.sk-label-container {text-align: center;}#sk-container-id-1 div.sk-container {/* jupyter's `normalize.less` sets `[hidden] { display: none; }` but bootstrap.min.css set `[hidden] { display: none !important; }` so we also need the `!important` here to be able to override the default hidden behavior on the sphinx rendered scikit-learn.org. See: https://github.com/scikit-learn/scikit-learn/issues/21755 */display: inline-block !important;position: relative;}#sk-container-id-1 div.sk-text-repr-fallback {display: none;}</style><div id=\"sk-container-id-1\" class=\"sk-top-container\"><div class=\"sk-text-repr-fallback\"><pre>BernoulliNB()</pre><b>In a Jupyter environment, please rerun this cell to show the HTML representation or trust the notebook. <br />On GitHub, the HTML representation is unable to render, please try loading this page with nbviewer.org.</b></div><div class=\"sk-container\" hidden><div class=\"sk-item\"><div class=\"sk-estimator sk-toggleable\"><input class=\"sk-toggleable__control sk-hidden--visually\" id=\"sk-estimator-id-1\" type=\"checkbox\" checked><label for=\"sk-estimator-id-1\" class=\"sk-toggleable__label sk-toggleable__label-arrow\">BernoulliNB</label><div class=\"sk-toggleable__content\"><pre>BernoulliNB()</pre></div></div></div></div></div>"
      ],
      "text/plain": [
       "BernoulliNB()"
      ]
     },
     "execution_count": 5,
     "metadata": {},
     "output_type": "execute_result"
    }
   ],
   "source": [
    "# -----------------------------\n",
    "# 2. Train plain Naïve Bayes\n",
    "# -----------------------------\n",
    "nb = LogisticRegression(max_iter=1000)  #BernoulliNB()\n",
    "nb.fit(X_train, y_train)"
   ]
  },
  {
   "cell_type": "code",
   "execution_count": 6,
   "id": "d3450938-7ab1-4f85-bf8a-8ba1dea081da",
   "metadata": {},
   "outputs": [],
   "source": [
    "# Raw probabilities\n",
    "y_proba_raw = nb.predict_proba(X_test)[:, 1]  # class=1 probs"
   ]
  },
  {
   "cell_type": "code",
   "execution_count": null,
   "id": "9280ef85-c45f-4b55-b0ce-58e0f44fb897",
   "metadata": {},
   "outputs": [],
   "source": []
  },
  {
   "cell_type": "code",
   "execution_count": 14,
   "id": "de8687dd-92c8-409e-80cc-08ed54f1e62c",
   "metadata": {},
   "outputs": [
    {
     "data": {
      "text/plain": [
       "array([3.10311207e-06, 1.43660546e-06, 4.46909766e-07, 1.59793204e-06,\n",
       "       2.35522770e-02, 2.60308006e-04, 7.05771171e-07, 4.23691670e-07,\n",
       "       2.75727194e-05, 8.53585058e-05, 1.34249109e-07, 1.85870502e-05,\n",
       "       2.42171172e-06, 5.33062245e-01, 4.12016040e-03, 5.74014098e-06,\n",
       "       1.97717266e-01, 5.34796903e-06, 4.26655449e-07, 8.44373718e-02,\n",
       "       3.12003016e-04, 6.20111023e-03, 6.98526812e-06, 2.41410370e-07,\n",
       "       1.04238593e-06, 7.12417851e-09, 1.94301944e-03, 4.54079888e-02,\n",
       "       5.87298650e-07, 2.91116516e-03, 2.22599094e-03, 1.59743695e-03,\n",
       "       6.31797265e-05, 7.71252423e-08, 1.12000664e-01, 1.01448434e-09,\n",
       "       5.00655637e-06, 1.70525657e-04, 1.19380256e-03, 1.12569536e-02,\n",
       "       2.24791869e-05, 5.76220441e-02, 2.39225732e-05, 1.11890301e-01,\n",
       "       3.05328674e-04, 1.67683287e-05, 2.41182076e-01, 9.71463534e-06,\n",
       "       1.97146565e-08, 5.84746797e-02, 2.64383668e-06, 5.87238794e-07,\n",
       "       2.80844755e-03, 6.35156707e-08, 3.95278434e-03, 6.88764123e-09,\n",
       "       6.77483468e-06, 3.43060684e-03, 2.59297089e-04, 2.58067892e-03,\n",
       "       8.18030925e-11, 3.27771063e-04, 5.58621347e-08, 3.06080011e-08,\n",
       "       6.87441554e-09, 4.72513822e-05, 1.10203998e-04, 8.99768423e-03,\n",
       "       2.43373603e-08, 2.90880042e-05, 1.14632147e-04, 1.63328827e-04,\n",
       "       1.27618212e-01, 9.57014977e-05, 3.78883028e-02, 3.81337577e-05,\n",
       "       1.51558769e-02, 6.81336898e-08, 2.74760066e-08, 1.35872597e-05,\n",
       "       3.48654718e-05, 6.14589092e-05, 1.10120442e-04, 4.24752814e-05,\n",
       "       5.54085596e-02, 7.59237775e-02, 2.48743130e-03, 4.18201398e-07,\n",
       "       3.23571342e-08, 1.65836924e-05, 1.60701696e-03, 3.05116950e-02,\n",
       "       6.37635637e-05, 6.32218079e-10, 1.64434453e-05, 2.95944608e-06,\n",
       "       7.15423832e-05, 2.08454599e-02, 9.80003218e-05, 3.71537492e-06,\n",
       "       1.81775860e-07, 2.42277396e-06, 6.87447840e-05, 2.34333422e-01,\n",
       "       2.35318953e-06, 1.63463428e-05, 9.17187214e-05, 7.83334739e-03,\n",
       "       5.18600512e-03, 1.84522746e-06, 2.76106795e-04, 9.04243273e-04,\n",
       "       2.93415655e-06, 2.18082199e-06, 5.81777388e-07, 2.11218331e-03,\n",
       "       4.78914557e-05, 3.45963395e-05, 3.37655149e-04, 2.35800595e-03,\n",
       "       2.42271325e-03, 4.29405374e-07, 1.01958947e-08, 1.91482890e-05,\n",
       "       1.97839219e-05, 2.83848706e-07, 9.24030263e-03, 7.05915020e-05,\n",
       "       3.60285311e-04, 1.12513335e-08, 1.92074331e-06, 5.39615486e-01,\n",
       "       3.24623036e-03, 1.20493952e-06, 1.07022752e-01, 2.86780444e-04,\n",
       "       1.86634909e-06, 8.01335902e-03, 1.28849089e-04, 1.65507546e-02,\n",
       "       1.49059411e-07, 5.83145536e-03, 1.19148516e-08, 2.23859798e-05,\n",
       "       7.07178870e-05, 5.71425139e-05, 1.28437463e-03, 1.50111098e-02,\n",
       "       1.13964066e-05, 2.01814951e-06, 4.48977271e-04, 1.77402890e-01,\n",
       "       7.89420634e-04, 5.93793458e-03, 4.10062408e-04, 7.15988104e-03,\n",
       "       4.93242508e-07, 9.92571686e-05, 6.71249578e-05, 2.41476038e-05,\n",
       "       1.04065870e-03, 1.45104776e-01, 2.59394166e-06, 3.71437483e-03,\n",
       "       5.79525362e-05, 5.64466240e-07, 4.78492188e-07, 4.51239108e-04,\n",
       "       2.86336048e-07, 7.61735179e-06, 2.41118970e-07, 1.63549558e-04,\n",
       "       8.77338410e-05, 1.61263290e-06, 5.86970373e-05, 1.91291828e-07,\n",
       "       7.65350161e-07, 5.07912171e-06, 4.22663124e-05, 2.02538301e-04,\n",
       "       1.67395858e-03, 2.05031667e-04, 1.27715969e-07, 9.57409017e-07,\n",
       "       1.96864838e-06, 3.87095974e-06, 6.86014772e-05, 1.21299189e-02,\n",
       "       8.19983825e-05, 5.22592167e-03, 2.44425933e-07, 1.56008273e-04,\n",
       "       5.49578297e-05, 7.04015411e-09, 6.67426130e-05, 1.15680437e-03,\n",
       "       3.46362316e-06, 6.57228425e-02, 7.05859121e-03, 3.71384998e-03,\n",
       "       6.88752919e-07, 5.68205706e-06, 3.51218516e-03, 1.09495229e-03,\n",
       "       8.43409321e-05, 2.02728445e-02, 1.72031810e-03, 8.95277304e-03,\n",
       "       3.45789779e-07, 2.48019696e-04, 1.28036745e-04, 5.00661462e-05,\n",
       "       8.88571274e-01, 1.99081657e-04, 3.90344260e-09, 1.60575951e-02,\n",
       "       5.33200055e-04, 7.15353110e-07, 2.57790699e-06, 5.30081839e-06,\n",
       "       1.76317958e-04, 9.24656328e-05, 4.24047710e-04, 3.65413198e-08,\n",
       "       8.55094245e-05, 7.90004987e-07, 4.36984140e-07, 3.85043147e-09,\n",
       "       6.21158933e-06, 3.07987223e-05, 6.85717947e-05, 1.78214610e-09,\n",
       "       1.32488666e-04, 1.46330650e-06, 1.41196310e-05, 9.94969359e-04,\n",
       "       2.59575602e-05, 5.19549210e-04, 4.83810720e-06, 2.07562369e-05,\n",
       "       5.44365882e-04, 2.11104725e-02, 1.26017429e-07, 7.87140174e-07,\n",
       "       6.87411729e-07, 6.34145676e-05, 7.02252479e-05, 2.77044728e-04,\n",
       "       5.49382046e-04, 9.85598016e-01, 8.31903050e-07, 3.28993274e-07,\n",
       "       3.95854513e-02, 9.59948155e-09, 3.95606951e-08, 1.05110587e-06,\n",
       "       1.16199283e-04, 4.20501108e-04, 5.35383550e-04, 2.95162963e-04,\n",
       "       1.51260394e-04, 6.95851566e-06, 6.05753488e-09, 9.32655973e-05,\n",
       "       7.06564331e-08, 1.85822152e-06, 5.02150785e-07, 7.10590262e-06,\n",
       "       8.73599069e-04, 2.34711358e-08, 6.62848209e-08, 2.51501065e-04,\n",
       "       5.03563304e-07, 5.18210907e-08, 3.14833550e-06, 2.01647585e-02,\n",
       "       1.44519283e-07, 1.61343426e-05, 2.75612996e-05, 2.95243863e-04,\n",
       "       1.67865544e-06, 8.53557500e-06, 4.53691900e-06, 3.29848654e-02,\n",
       "       7.09799407e-07, 3.61591149e-03, 1.34747183e-02, 1.48027367e-08,\n",
       "       4.13329521e-06, 1.80869114e-07, 5.52453923e-05, 4.23752825e-06,\n",
       "       9.92774034e-04, 5.03109604e-06, 2.72656759e-06, 2.09019098e-02,\n",
       "       1.35144086e-04, 6.76082220e-05, 3.28480551e-06, 1.52525729e-05,\n",
       "       1.04205724e-04, 2.32016797e-03, 2.54003821e-05, 2.60979537e-04,\n",
       "       2.50670680e-05, 1.84148201e-05, 7.32070860e-02, 7.77829585e-07,\n",
       "       5.71910986e-03, 4.16692939e-04, 9.03528790e-05, 1.12573997e-05,\n",
       "       1.46154754e-03, 1.60312359e-03, 2.38402013e-07, 2.84020191e-03,\n",
       "       1.55857841e-06, 5.66099317e-05, 8.02617903e-06, 7.30492326e-06,\n",
       "       3.66860683e-06, 5.09239047e-03, 3.00600147e-06, 4.22021702e-05,\n",
       "       5.05520112e-04, 6.52932584e-07, 6.38552194e-04, 5.67055308e-03,\n",
       "       8.97811545e-05, 6.21573938e-06, 2.42270572e-03, 1.08114461e-06,\n",
       "       1.78415874e-06, 2.25345535e-04, 1.38946820e-05, 1.49262335e-05,\n",
       "       3.87277636e-06, 1.77354727e-05, 1.38322537e-05, 2.40726976e-05,\n",
       "       1.19017061e-06, 9.34760458e-05, 2.11431403e-06, 2.23596776e-05,\n",
       "       2.32090071e-04, 1.34093709e-02, 2.44528187e-03, 5.51047101e-03,\n",
       "       4.58281354e-03, 2.10016935e-03, 6.84000662e-04, 1.58175404e-06,\n",
       "       1.35265125e-03, 4.25975337e-06, 5.73444059e-08, 6.18872997e-06,\n",
       "       2.69527062e-04, 1.00583911e-09, 5.77334398e-07, 2.72864629e-08,\n",
       "       1.90629211e-06, 4.53163511e-04, 3.08770460e-04, 3.24426567e-03,\n",
       "       7.85327403e-04, 4.79864714e-07, 4.87563325e-05, 1.31710068e-04,\n",
       "       5.66177582e-06, 3.65058063e-07, 2.65580755e-08, 2.34607493e-02,\n",
       "       1.55764558e-04, 2.98693738e-03, 2.09850562e-03, 7.47670448e-09,\n",
       "       1.96224788e-05, 3.13624923e-07, 1.67512845e-06, 1.61173503e-06,\n",
       "       5.13129699e-09, 1.75856550e-05, 1.76484895e-06, 1.36619894e-05,\n",
       "       2.06157221e-04, 3.14714990e-05, 1.28118603e-04, 9.41462418e-02,\n",
       "       8.77153876e-04, 2.52059788e-06, 4.43789407e-03, 1.91882832e-02,\n",
       "       3.83848882e-05, 3.90190039e-04, 6.92115131e-03, 1.37465615e-06,\n",
       "       1.70134651e-05, 6.68362879e-01, 1.24487022e-05, 3.18891848e-02,\n",
       "       4.25726127e-05, 1.29702718e-07, 7.35676358e-04, 1.10053383e-04,\n",
       "       1.17872372e-03, 4.34532637e-09, 5.50286088e-07, 3.32569672e-04,\n",
       "       3.43573555e-02, 2.35088499e-03, 1.24394217e-04, 3.03683238e-06,\n",
       "       7.58960836e-09, 9.43222362e-05, 9.64562082e-05, 8.03641998e-02,\n",
       "       3.61055052e-10, 1.20962598e-02, 8.97882741e-05, 7.77028777e-02,\n",
       "       5.34666133e-06, 5.66271711e-08, 8.57769167e-06, 2.01747060e-08,\n",
       "       1.94719121e-06, 2.67032537e-06, 2.38181921e-06, 2.04142388e-05,\n",
       "       5.07042983e-04, 6.44823131e-05, 8.47961869e-04, 5.40860737e-06,\n",
       "       2.25612442e-06, 5.45539324e-03, 1.65414203e-06, 8.41845797e-06,\n",
       "       1.19537199e-03, 7.33833115e-08, 4.16722887e-03, 4.88144209e-04,\n",
       "       3.77787074e-03, 7.43257552e-06, 7.96869635e-08, 3.94718812e-05,\n",
       "       4.36753152e-06, 3.81051967e-06, 6.39007312e-03, 4.86683932e-06,\n",
       "       2.59870285e-02, 1.04245081e-05, 1.37219934e-05, 1.77381373e-07,\n",
       "       1.98518148e-04, 1.22418818e-06, 4.49908760e-04, 1.23800935e-04,\n",
       "       1.98274602e-07, 2.85171094e-08, 1.95889033e-04, 4.69429614e-03,\n",
       "       1.18150098e-02, 2.27366602e-07, 8.87625341e-06, 2.46167549e-04,\n",
       "       7.60582145e-07, 1.42833537e-03, 1.02949876e-03, 1.68819321e-08,\n",
       "       2.70416900e-03, 2.15811724e-06, 1.03079746e-06, 3.81672148e-04,\n",
       "       1.68533112e-06, 5.67319136e-08, 3.83472706e-01, 9.29073948e-02,\n",
       "       5.72279403e-05, 3.25462583e-02, 2.27917622e-06, 5.90851973e-02,\n",
       "       1.25576365e-07, 1.40054292e-06, 1.53568379e-04, 4.51535155e-02,\n",
       "       2.78196952e-03, 2.58318297e-02, 5.63392440e-05, 1.39972333e-02,\n",
       "       1.22386774e-06, 4.51756133e-03, 1.00889477e-02, 2.52420037e-05,\n",
       "       5.49277234e-07, 1.43356158e-06, 5.29480670e-03, 6.54496591e-02,\n",
       "       1.43135671e-02, 4.09793303e-06, 2.35437873e-06, 4.60584803e-03,\n",
       "       2.64892714e-03, 1.30399152e-04, 6.00398100e-08, 4.93457897e-06,\n",
       "       4.62385744e-03, 4.75752400e-04, 1.95130369e-07, 2.47037158e-02,\n",
       "       1.78683107e-05, 6.40395120e-07, 1.07458830e-06, 2.10704064e-04,\n",
       "       1.32841196e-04, 1.24840534e-05, 5.55871766e-04, 3.99992773e-04,\n",
       "       1.09748018e-07, 6.95524640e-03, 2.03418986e-09, 9.14460768e-07,\n",
       "       7.28900169e-07, 1.89960694e-06, 1.28130381e-05, 1.53746234e-03,\n",
       "       9.75031725e-08, 3.37331780e-01, 7.12419151e-07, 7.44779535e-09,\n",
       "       1.25490909e-04, 8.15423099e-07, 1.40129471e-04, 2.17893500e-03,\n",
       "       1.20538980e-03, 3.46109441e-06, 5.02093857e-08, 3.01868615e-06,\n",
       "       1.45136106e-05, 2.42302985e-05, 5.35810663e-06, 1.06666960e-03,\n",
       "       2.00463802e-03, 8.04394709e-01, 1.12705629e-06, 8.19740039e-08,\n",
       "       1.92221591e-04, 5.81067843e-07, 4.20338860e-03, 2.05549615e-04,\n",
       "       5.29105846e-05, 1.58442426e-06, 1.17536114e-02, 3.59960093e-07,\n",
       "       1.02630058e-04, 7.23855667e-02, 1.12648480e-05, 1.49154848e-07,\n",
       "       3.68159545e-07, 5.46043558e-07, 1.31079490e-05, 3.37441266e-06,\n",
       "       6.33692013e-07, 2.87606559e-06, 1.12668791e-05, 4.90212865e-06,\n",
       "       2.73411789e-04, 9.40194704e-06, 1.89337563e-03, 1.58486422e-02,\n",
       "       3.82585995e-07, 3.05472249e-02, 2.40816199e-03, 3.96798510e-10,\n",
       "       1.09297517e-05, 1.48726608e-06, 4.36079935e-05, 3.51955675e-07,\n",
       "       2.12923986e-05, 3.36625202e-09, 5.55624839e-08, 2.26783146e-06,\n",
       "       1.24461182e-04, 5.76819065e-06, 9.60315109e-04, 4.62519670e-04,\n",
       "       6.93543733e-06, 1.84991668e-06, 8.76445147e-01, 3.07704318e-07,\n",
       "       1.62490314e-06, 2.32504014e-09, 1.50831952e-01, 2.52784493e-03,\n",
       "       1.59924251e-04, 9.79201075e-04, 3.47259011e-03, 5.19982014e-05,\n",
       "       3.55731711e-06, 2.93978201e-04, 1.12245869e-09, 2.66315257e-04])"
      ]
     },
     "execution_count": 14,
     "metadata": {},
     "output_type": "execute_result"
    }
   ],
   "source": [
    "y_proba_raw"
   ]
  },
  {
   "cell_type": "code",
   "execution_count": 7,
   "id": "d0869c87-6ec9-442e-8f74-239f1a6ff3ac",
   "metadata": {},
   "outputs": [
    {
     "data": {
      "image/png": "[encoded data removed]",
      "text/plain": [
       "<Figure size 576x360 with 1 Axes>"
      ]
     },
     "metadata": {
      "needs_background": "light"
     },
     "output_type": "display_data"
    }
   ],
   "source": [
    "import numpy as np\n",
    "import matplotlib.pyplot as plt\n",
    "import seaborn as sns\n",
    "\n",
    "# Example: y_proba as shown above\n",
    "# y_proba = np.array([...])  # Your data here\n",
    "\n",
    "# Use the probabilities for the positive class (e.g., column index 1)\n",
    "probs = y_proba_raw\n",
    "\n",
    "plt.figure(figsize=(8, 5))\n",
    "sns.kdeplot(probs, shade=True)\n",
    "plt.title(\"Probability Density Curve for Positive Class\")\n",
    "plt.xlabel(\"Predicted Probability\")\n",
    "plt.ylabel(\"Density\")\n",
    "plt.show()"
   ]
  },
  {
   "cell_type": "code",
   "execution_count": 11,
   "id": "b4476231-c932-4cfc-a16c-8d260df2a5f9",
   "metadata": {},
   "outputs": [
    {
     "name": "stderr",
     "output_type": "stream",
     "text": [
      "/home/ubuntu/.local/lib/python3.8/site-packages/sklearn/calibration.py:300: FutureWarning: `base_estimator` was renamed to `estimator` in version 1.2 and will be removed in 1.4.\n",
      "  warnings.warn(\n"
     ]
    },
    {
     "data": {
      "text/html": [
       "<style>#sk-container-id-3 {color: black;}#sk-container-id-3 pre{padding: 0;}#sk-container-id-3 div.sk-toggleable {background-color: white;}#sk-container-id-3 label.sk-toggleable__label {cursor: pointer;display: block;width: 100%;margin-bottom: 0;padding: 0.3em;box-sizing: border-box;text-align: center;}#sk-container-id-3 label.sk-toggleable__label-arrow:before {content: \"▸\";float: left;margin-right: 0.25em;color: #696969;}#sk-container-id-3 label.sk-toggleable__label-arrow:hover:before {color: black;}#sk-container-id-3 div.sk-estimator:hover label.sk-toggleable__label-arrow:before {color: black;}#sk-container-id-3 div.sk-toggleable__content {max-height: 0;max-width: 0;overflow: hidden;text-align: left;background-color: #f0f8ff;}#sk-container-id-3 div.sk-toggleable__content pre {margin: 0.2em;color: black;border-radius: 0.25em;background-color: #f0f8ff;}#sk-container-id-3 input.sk-toggleable__control:checked~div.sk-toggleable__content {max-height: 200px;max-width: 100%;overflow: auto;}#sk-container-id-3 input.sk-toggleable__control:checked~label.sk-toggleable__label-arrow:before {content: \"▾\";}#sk-container-id-3 div.sk-estimator input.sk-toggleable__control:checked~label.sk-toggleable__label {background-color: #d4ebff;}#sk-container-id-3 div.sk-label input.sk-toggleable__control:checked~label.sk-toggleable__label {background-color: #d4ebff;}#sk-container-id-3 input.sk-hidden--visually {border: 0;clip: rect(1px 1px 1px 1px);clip: rect(1px, 1px, 1px, 1px);height: 1px;margin: -1px;overflow: hidden;padding: 0;position: absolute;width: 1px;}#sk-container-id-3 div.sk-estimator {font-family: monospace;background-color: #f0f8ff;border: 1px dotted black;border-radius: 0.25em;box-sizing: border-box;margin-bottom: 0.5em;}#sk-container-id-3 div.sk-estimator:hover {background-color: #d4ebff;}#sk-container-id-3 div.sk-parallel-item::after {content: \"\";width: 100%;border-bottom: 1px solid gray;flex-grow: 1;}#sk-container-id-3 div.sk-label:hover label.sk-toggleable__label {background-color: #d4ebff;}#sk-container-id-3 div.sk-serial::before {content: \"\";position: absolute;border-left: 1px solid gray;box-sizing: border-box;top: 0;bottom: 0;left: 50%;z-index: 0;}#sk-container-id-3 div.sk-serial {display: flex;flex-direction: column;align-items: center;background-color: white;padding-right: 0.2em;padding-left: 0.2em;position: relative;}#sk-container-id-3 div.sk-item {position: relative;z-index: 1;}#sk-container-id-3 div.sk-parallel {display: flex;align-items: stretch;justify-content: center;background-color: white;position: relative;}#sk-container-id-3 div.sk-item::before, #sk-container-id-3 div.sk-parallel-item::before {content: \"\";position: absolute;border-left: 1px solid gray;box-sizing: border-box;top: 0;bottom: 0;left: 50%;z-index: -1;}#sk-container-id-3 div.sk-parallel-item {display: flex;flex-direction: column;z-index: 1;position: relative;background-color: white;}#sk-container-id-3 div.sk-parallel-item:first-child::after {align-self: flex-end;width: 50%;}#sk-container-id-3 div.sk-parallel-item:last-child::after {align-self: flex-start;width: 50%;}#sk-container-id-3 div.sk-parallel-item:only-child::after {width: 0;}#sk-container-id-3 div.sk-dashed-wrapped {border: 1px dashed gray;margin: 0 0.4em 0.5em 0.4em;box-sizing: border-box;padding-bottom: 0.4em;background-color: white;}#sk-container-id-3 div.sk-label label {font-family: monospace;font-weight: bold;display: inline-block;line-height: 1.2em;}#sk-container-id-3 div.sk-label-container {text-align: center;}#sk-container-id-3 div.sk-container {/* jupyter's `normalize.less` sets `[hidden] { display: none; }` but bootstrap.min.css set `[hidden] { display: none !important; }` so we also need the `!important` here to be able to override the default hidden behavior on the sphinx rendered scikit-learn.org. See: https://github.com/scikit-learn/scikit-learn/issues/21755 */display: inline-block !important;position: relative;}#sk-container-id-3 div.sk-text-repr-fallback {display: none;}</style><div id=\"sk-container-id-3\" class=\"sk-top-container\"><div class=\"sk-text-repr-fallback\"><pre>CalibratedClassifierCV(base_estimator=BernoulliNB(), cv=5, method=&#x27;isotonic&#x27;)</pre><b>In a Jupyter environment, please rerun this cell to show the HTML representation or trust the notebook. <br />On GitHub, the HTML representation is unable to render, please try loading this page with nbviewer.org.</b></div><div class=\"sk-container\" hidden><div class=\"sk-item sk-dashed-wrapped\"><div class=\"sk-label-container\"><div class=\"sk-label sk-toggleable\"><input class=\"sk-toggleable__control sk-hidden--visually\" id=\"sk-estimator-id-5\" type=\"checkbox\" ><label for=\"sk-estimator-id-5\" class=\"sk-toggleable__label sk-toggleable__label-arrow\">CalibratedClassifierCV</label><div class=\"sk-toggleable__content\"><pre>CalibratedClassifierCV(base_estimator=BernoulliNB(), cv=5, method=&#x27;isotonic&#x27;)</pre></div></div></div><div class=\"sk-parallel\"><div class=\"sk-parallel-item\"><div class=\"sk-item\"><div class=\"sk-label-container\"><div class=\"sk-label sk-toggleable\"><input class=\"sk-toggleable__control sk-hidden--visually\" id=\"sk-estimator-id-6\" type=\"checkbox\" ><label for=\"sk-estimator-id-6\" class=\"sk-toggleable__label sk-toggleable__label-arrow\">base_estimator: BernoulliNB</label><div class=\"sk-toggleable__content\"><pre>BernoulliNB()</pre></div></div></div><div class=\"sk-serial\"><div class=\"sk-item\"><div class=\"sk-estimator sk-toggleable\"><input class=\"sk-toggleable__control sk-hidden--visually\" id=\"sk-estimator-id-7\" type=\"checkbox\" ><label for=\"sk-estimator-id-7\" class=\"sk-toggleable__label sk-toggleable__label-arrow\">BernoulliNB</label><div class=\"sk-toggleable__content\"><pre>BernoulliNB()</pre></div></div></div></div></div></div></div></div></div></div>"
      ],
      "text/plain": [
       "CalibratedClassifierCV(base_estimator=BernoulliNB(), cv=5, method='isotonic')"
      ]
     },
     "execution_count": 11,
     "metadata": {},
     "output_type": "execute_result"
    }
   ],
   "source": [
    "# -----------------------------\n",
    "# 3. Apply probability calibration\n",
    "# -----------------------------\n",
    "cal_nb = CalibratedClassifierCV(base_estimator=BernoulliNB(),\n",
    "                                method=\"isotonic\", # \"\",  # or\n",
    "                                cv=5)\n",
    "cal_nb.fit(X_train, y_train)"
   ]
  },
  {
   "cell_type": "code",
   "execution_count": 12,
   "id": "da38bfcf-fb0f-4d5e-b329-4323c446c5c3",
   "metadata": {},
   "outputs": [],
   "source": [
    "# Calibrated probabilities\n",
    "y_proba_cal = cal_nb.predict_proba(X_test)[:, 1]"
   ]
  },
  {
   "cell_type": "code",
   "execution_count": 13,
   "id": "883031a2-ac21-4dcb-845c-d9858f1b0d99",
   "metadata": {},
   "outputs": [
    {
     "data": {
      "image/png": "[encoded data removed]",
      "text/plain": [
       "<Figure size 720x432 with 1 Axes>"
      ]
     },
     "metadata": {
      "needs_background": "light"
     },
     "output_type": "display_data"
    }
   ],
   "source": [
    "# -----------------------------\n",
    "# 4. Plot probability distributions\n",
    "# -----------------------------\n",
    "plt.figure(figsize=(10, 6))\n",
    "sns.kdeplot(y_proba_raw, label=\"Raw Naive Bayes\", fill=True, alpha=0.5)\n",
    "sns.kdeplot(y_proba_cal, label=\"Calibrated Naive Bayes\", fill=True, alpha=0.5)\n",
    "plt.xlabel(\"Predicted probability for class 1\")\n",
    "plt.ylabel(\"Density\")\n",
    "plt.title(\"Probability Distribution Before vs After Calibration\")\n",
    "plt.legend()\n",
    "plt.show()"
   ]
  },
  {
   "cell_type": "code",
   "execution_count": null,
   "id": "0e61fab4-1538-4460-81e0-a419b2377677",
   "metadata": {},
   "outputs": [],
   "source": []
  }
 ],
 "metadata": {
  "kernelspec": {
   "display_name": "Python 3 (ipykernel)",
   "language": "python",
   "name": "python3"
  },
  "language_info": {
   "codemirror_mode": {
    "name": "ipython",
    "version": 3
   },
   "file_extension": ".py",
   "mimetype": "text/x-python",
   "name": "python",
   "nbconvert_exporter": "python",
   "pygments_lexer": "ipython3",
   "version": "3.8.10"
  }
 },
 "nbformat": 4,
 "nbformat_minor": 5
}
