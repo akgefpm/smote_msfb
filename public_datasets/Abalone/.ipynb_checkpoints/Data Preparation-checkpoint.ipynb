{
 "cells": [
  {
   "cell_type": "code",
   "execution_count": null,
   "id": "f4a0f5d1-34b3-4e12-98f6-3289257df68b",
   "metadata": {},
   "outputs": [],
   "source": [
    "! pip install ucimlrepo"
   ]
  },
  {
   "cell_type": "code",
   "execution_count": 1,
   "id": "936b6b71-0fe0-4770-bef2-4e522ffbbd4d",
   "metadata": {},
   "outputs": [],
   "source": [
    "import pandas as pd\n",
    "import numpy as np"
   ]
  },
  {
   "cell_type": "code",
   "execution_count": 2,
   "id": "1abf5dd6-2bb3-45d4-b616-39b96970e264",
   "metadata": {},
   "outputs": [],
   "source": [
    "from ucimlrepo import fetch_ucirepo \n",
    "  \n",
    "# fetch dataset \n",
    "abalone = fetch_ucirepo(id=1)   "
   ]
  },
  {
   "cell_type": "code",
   "execution_count": 11,
   "id": "1e047578-4e98-4ce1-9df7-6537df889aaf",
   "metadata": {},
   "outputs": [],
   "source": [
    "output_loc = \"/repos/smote_msfb/public_datasets/Abalone/\""
   ]
  },
  {
   "cell_type": "code",
   "execution_count": 3,
   "id": "235e4229-35df-4e8b-b806-1e6ae0c6dc43",
   "metadata": {},
   "outputs": [],
   "source": [
    "# data (as pandas dataframes) \n",
    "X = abalone.data.features \n",
    "y = abalone.data.targets   "
   ]
  },
  {
   "cell_type": "code",
   "execution_count": null,
   "id": "1f454055-6936-4714-a303-c33b4b229d39",
   "metadata": {},
   "outputs": [],
   "source": [
    "# metadata \n",
    "print(abalone.metadata) \n",
    "  \n",
    "# variable information \n",
    "print(abalone.variables) "
   ]
  },
  {
   "cell_type": "code",
   "execution_count": null,
   "id": "a9015313-aee4-473a-8a07-1d65b2d8a5b7",
   "metadata": {},
   "outputs": [],
   "source": [
    "X.head(4)"
   ]
  },
  {
   "cell_type": "code",
   "execution_count": null,
   "id": "5068e4e3-e75d-4ce2-98f4-934e0de56792",
   "metadata": {},
   "outputs": [],
   "source": [
    "X.dtypes"
   ]
  },
  {
   "cell_type": "code",
   "execution_count": 4,
   "id": "8f543804-41a9-47a8-8178-e42b084f5c50",
   "metadata": {},
   "outputs": [],
   "source": [
    "# Specify percentile cutoff (e.g., 75 for top 25%)\n",
    "percentile_cutoff = 65\n",
    "\n",
    "# Identify continuous columns (assumes all except 'Sex' are continuous)\n",
    "continuous_cols = [col for col in X.columns if X[col].dtype in ['float64', 'int64']]\n",
    "\n",
    "# Binarize continuous variables based on percentile\n",
    "for col in continuous_cols:\n",
    "    cutoff = X[col].quantile(percentile_cutoff / 100)\n",
    "    X[col + '_bin'] = (X[col] > cutoff).astype(int)\n",
    "\n",
    "# Optionally drop original continuous columns if you want only binary\n",
    "X = X.drop(columns=continuous_cols)"
   ]
  },
  {
   "cell_type": "code",
   "execution_count": 5,
   "id": "7b066d32-6389-44e1-8ebd-86884d028b2a",
   "metadata": {},
   "outputs": [],
   "source": [
    "# Assuming your DataFrame is called X\n",
    "X['Sex_bin'] = (X['Sex'] == 'M').astype(int)\n",
    "\n",
    "# Drop original 'Sex' column\n",
    "X = X.drop(columns=['Sex'])"
   ]
  },
  {
   "cell_type": "code",
   "execution_count": 6,
   "id": "2c7b4435-dfa5-46ad-9f8f-1f2f0c188e41",
   "metadata": {},
   "outputs": [
    {
     "data": {
      "text/html": [
       "<div>\n",
       "<style scoped>\n",
       "    .dataframe tbody tr th:only-of-type {\n",
       "        vertical-align: middle;\n",
       "    }\n",
       "\n",
       "    .dataframe tbody tr th {\n",
       "        vertical-align: top;\n",
       "    }\n",
       "\n",
       "    .dataframe thead th {\n",
       "        text-align: right;\n",
       "    }\n",
       "</style>\n",
       "<table border=\"1\" class=\"dataframe\">\n",
       "  <thead>\n",
       "    <tr style=\"text-align: right;\">\n",
       "      <th></th>\n",
       "      <th>Length_bin</th>\n",
       "      <th>Diameter_bin</th>\n",
       "      <th>Height_bin</th>\n",
       "      <th>Whole_weight_bin</th>\n",
       "      <th>Shucked_weight_bin</th>\n",
       "      <th>Viscera_weight_bin</th>\n",
       "      <th>Shell_weight_bin</th>\n",
       "      <th>Sex_bin</th>\n",
       "    </tr>\n",
       "  </thead>\n",
       "  <tbody>\n",
       "    <tr>\n",
       "      <th>0</th>\n",
       "      <td>0</td>\n",
       "      <td>0</td>\n",
       "      <td>0</td>\n",
       "      <td>0</td>\n",
       "      <td>0</td>\n",
       "      <td>0</td>\n",
       "      <td>0</td>\n",
       "      <td>1</td>\n",
       "    </tr>\n",
       "    <tr>\n",
       "      <th>1</th>\n",
       "      <td>0</td>\n",
       "      <td>0</td>\n",
       "      <td>0</td>\n",
       "      <td>0</td>\n",
       "      <td>0</td>\n",
       "      <td>0</td>\n",
       "      <td>0</td>\n",
       "      <td>1</td>\n",
       "    </tr>\n",
       "    <tr>\n",
       "      <th>2</th>\n",
       "      <td>0</td>\n",
       "      <td>0</td>\n",
       "      <td>0</td>\n",
       "      <td>0</td>\n",
       "      <td>0</td>\n",
       "      <td>0</td>\n",
       "      <td>0</td>\n",
       "      <td>0</td>\n",
       "    </tr>\n",
       "    <tr>\n",
       "      <th>3</th>\n",
       "      <td>0</td>\n",
       "      <td>0</td>\n",
       "      <td>0</td>\n",
       "      <td>0</td>\n",
       "      <td>0</td>\n",
       "      <td>0</td>\n",
       "      <td>0</td>\n",
       "      <td>1</td>\n",
       "    </tr>\n",
       "  </tbody>\n",
       "</table>\n",
       "</div>"
      ],
      "text/plain": [
       "   Length_bin  Diameter_bin  Height_bin  Whole_weight_bin  Shucked_weight_bin  \\\n",
       "0           0             0           0                 0                   0   \n",
       "1           0             0           0                 0                   0   \n",
       "2           0             0           0                 0                   0   \n",
       "3           0             0           0                 0                   0   \n",
       "\n",
       "   Viscera_weight_bin  Shell_weight_bin  Sex_bin  \n",
       "0                   0                 0        1  \n",
       "1                   0                 0        1  \n",
       "2                   0                 0        0  \n",
       "3                   0                 0        1  "
      ]
     },
     "execution_count": 6,
     "metadata": {},
     "output_type": "execute_result"
    }
   ],
   "source": [
    "X.head(4)"
   ]
  },
  {
   "cell_type": "code",
   "execution_count": 21,
   "id": "7c26829a-befa-46ca-94f6-eb8768e29d45",
   "metadata": {},
   "outputs": [],
   "source": [
    "# Assuming your DataFrame is called X\n",
    "X.columns = [f'f_{i}' for i in range(1,X.shape[1]+1)]"
   ]
  },
  {
   "cell_type": "code",
   "execution_count": 22,
   "id": "89366262-4ee3-4557-9d98-5ea0589e5ce8",
   "metadata": {},
   "outputs": [
    {
     "data": {
      "text/html": [
       "<div>\n",
       "<style scoped>\n",
       "    .dataframe tbody tr th:only-of-type {\n",
       "        vertical-align: middle;\n",
       "    }\n",
       "\n",
       "    .dataframe tbody tr th {\n",
       "        vertical-align: top;\n",
       "    }\n",
       "\n",
       "    .dataframe thead th {\n",
       "        text-align: right;\n",
       "    }\n",
       "</style>\n",
       "<table border=\"1\" class=\"dataframe\">\n",
       "  <thead>\n",
       "    <tr style=\"text-align: right;\">\n",
       "      <th></th>\n",
       "      <th>f_1</th>\n",
       "      <th>f_2</th>\n",
       "      <th>f_3</th>\n",
       "      <th>f_4</th>\n",
       "      <th>f_5</th>\n",
       "      <th>f_6</th>\n",
       "      <th>f_7</th>\n",
       "      <th>f_8</th>\n",
       "    </tr>\n",
       "  </thead>\n",
       "  <tbody>\n",
       "    <tr>\n",
       "      <th>0</th>\n",
       "      <td>0</td>\n",
       "      <td>0</td>\n",
       "      <td>0</td>\n",
       "      <td>0</td>\n",
       "      <td>0</td>\n",
       "      <td>0</td>\n",
       "      <td>0</td>\n",
       "      <td>1</td>\n",
       "    </tr>\n",
       "    <tr>\n",
       "      <th>1</th>\n",
       "      <td>0</td>\n",
       "      <td>0</td>\n",
       "      <td>0</td>\n",
       "      <td>0</td>\n",
       "      <td>0</td>\n",
       "      <td>0</td>\n",
       "      <td>0</td>\n",
       "      <td>1</td>\n",
       "    </tr>\n",
       "    <tr>\n",
       "      <th>2</th>\n",
       "      <td>0</td>\n",
       "      <td>0</td>\n",
       "      <td>0</td>\n",
       "      <td>0</td>\n",
       "      <td>0</td>\n",
       "      <td>0</td>\n",
       "      <td>0</td>\n",
       "      <td>0</td>\n",
       "    </tr>\n",
       "    <tr>\n",
       "      <th>3</th>\n",
       "      <td>0</td>\n",
       "      <td>0</td>\n",
       "      <td>0</td>\n",
       "      <td>0</td>\n",
       "      <td>0</td>\n",
       "      <td>0</td>\n",
       "      <td>0</td>\n",
       "      <td>1</td>\n",
       "    </tr>\n",
       "    <tr>\n",
       "      <th>4</th>\n",
       "      <td>0</td>\n",
       "      <td>0</td>\n",
       "      <td>0</td>\n",
       "      <td>0</td>\n",
       "      <td>0</td>\n",
       "      <td>0</td>\n",
       "      <td>0</td>\n",
       "      <td>0</td>\n",
       "    </tr>\n",
       "  </tbody>\n",
       "</table>\n",
       "</div>"
      ],
      "text/plain": [
       "   f_1  f_2  f_3  f_4  f_5  f_6  f_7  f_8\n",
       "0    0    0    0    0    0    0    0    1\n",
       "1    0    0    0    0    0    0    0    1\n",
       "2    0    0    0    0    0    0    0    0\n",
       "3    0    0    0    0    0    0    0    1\n",
       "4    0    0    0    0    0    0    0    0"
      ]
     },
     "execution_count": 22,
     "metadata": {},
     "output_type": "execute_result"
    }
   ],
   "source": [
    "X.head()"
   ]
  },
  {
   "cell_type": "code",
   "execution_count": 7,
   "id": "626b820b-274f-4248-b17d-323cfc92ee43",
   "metadata": {},
   "outputs": [
    {
     "data": {
      "text/html": [
       "<div>\n",
       "<style scoped>\n",
       "    .dataframe tbody tr th:only-of-type {\n",
       "        vertical-align: middle;\n",
       "    }\n",
       "\n",
       "    .dataframe tbody tr th {\n",
       "        vertical-align: top;\n",
       "    }\n",
       "\n",
       "    .dataframe thead th {\n",
       "        text-align: right;\n",
       "    }\n",
       "</style>\n",
       "<table border=\"1\" class=\"dataframe\">\n",
       "  <thead>\n",
       "    <tr style=\"text-align: right;\">\n",
       "      <th></th>\n",
       "      <th>Rings</th>\n",
       "    </tr>\n",
       "  </thead>\n",
       "  <tbody>\n",
       "    <tr>\n",
       "      <th>0</th>\n",
       "      <td>15</td>\n",
       "    </tr>\n",
       "    <tr>\n",
       "      <th>1</th>\n",
       "      <td>7</td>\n",
       "    </tr>\n",
       "    <tr>\n",
       "      <th>2</th>\n",
       "      <td>9</td>\n",
       "    </tr>\n",
       "    <tr>\n",
       "      <th>3</th>\n",
       "      <td>10</td>\n",
       "    </tr>\n",
       "    <tr>\n",
       "      <th>4</th>\n",
       "      <td>7</td>\n",
       "    </tr>\n",
       "    <tr>\n",
       "      <th>5</th>\n",
       "      <td>8</td>\n",
       "    </tr>\n",
       "    <tr>\n",
       "      <th>6</th>\n",
       "      <td>20</td>\n",
       "    </tr>\n",
       "  </tbody>\n",
       "</table>\n",
       "</div>"
      ],
      "text/plain": [
       "   Rings\n",
       "0     15\n",
       "1      7\n",
       "2      9\n",
       "3     10\n",
       "4      7\n",
       "5      8\n",
       "6     20"
      ]
     },
     "execution_count": 7,
     "metadata": {},
     "output_type": "execute_result"
    }
   ],
   "source": [
    "y.head(7)"
   ]
  },
  {
   "cell_type": "code",
   "execution_count": null,
   "id": "2afbf73c-5462-4104-b9ce-1b4b1b5e1e93",
   "metadata": {},
   "outputs": [],
   "source": [
    "y.value_counts()"
   ]
  },
  {
   "cell_type": "code",
   "execution_count": 8,
   "id": "61df5a17-1119-48c0-9670-2abe0391f785",
   "metadata": {},
   "outputs": [
    {
     "name": "stdout",
     "output_type": "stream",
     "text": [
      "0    3786\n",
      "1     391\n",
      "Name: Rings, dtype: int64\n"
     ]
    }
   ],
   "source": [
    "# Convert y to binary: 1 if Rings==7, else 0\n",
    "y_binary = (y['Rings'] == 7).astype(int)\n",
    "\n",
    "# Print value counts after conversion\n",
    "print(y_binary.value_counts())"
   ]
  },
  {
   "cell_type": "code",
   "execution_count": 23,
   "id": "0e764fc2-fd8e-4285-b932-e9a2117fcf0a",
   "metadata": {},
   "outputs": [],
   "source": [
    "# Assuming y_binary is already created and X is your feature DataFrame\n",
    "\n",
    "# For the first 4 rows\n",
    "X_subset = X\n",
    "y_binary_subset = y_binary.rename('target')\n",
    "\n",
    "# Concatenate features and target\n",
    "final_dataset = pd.concat([X_subset.reset_index(drop=True), y_binary_subset.reset_index(drop=True)], axis=1)"
   ]
  },
  {
   "cell_type": "code",
   "execution_count": 24,
   "id": "06d9484a-7c03-42b0-a798-a1546d32fc7d",
   "metadata": {},
   "outputs": [
    {
     "data": {
      "text/html": [
       "<div>\n",
       "<style scoped>\n",
       "    .dataframe tbody tr th:only-of-type {\n",
       "        vertical-align: middle;\n",
       "    }\n",
       "\n",
       "    .dataframe tbody tr th {\n",
       "        vertical-align: top;\n",
       "    }\n",
       "\n",
       "    .dataframe thead th {\n",
       "        text-align: right;\n",
       "    }\n",
       "</style>\n",
       "<table border=\"1\" class=\"dataframe\">\n",
       "  <thead>\n",
       "    <tr style=\"text-align: right;\">\n",
       "      <th></th>\n",
       "      <th>f_1</th>\n",
       "      <th>f_2</th>\n",
       "      <th>f_3</th>\n",
       "      <th>f_4</th>\n",
       "      <th>f_5</th>\n",
       "      <th>f_6</th>\n",
       "      <th>f_7</th>\n",
       "      <th>f_8</th>\n",
       "      <th>target</th>\n",
       "    </tr>\n",
       "  </thead>\n",
       "  <tbody>\n",
       "    <tr>\n",
       "      <th>0</th>\n",
       "      <td>0</td>\n",
       "      <td>0</td>\n",
       "      <td>0</td>\n",
       "      <td>0</td>\n",
       "      <td>0</td>\n",
       "      <td>0</td>\n",
       "      <td>0</td>\n",
       "      <td>1</td>\n",
       "      <td>0</td>\n",
       "    </tr>\n",
       "    <tr>\n",
       "      <th>1</th>\n",
       "      <td>0</td>\n",
       "      <td>0</td>\n",
       "      <td>0</td>\n",
       "      <td>0</td>\n",
       "      <td>0</td>\n",
       "      <td>0</td>\n",
       "      <td>0</td>\n",
       "      <td>1</td>\n",
       "      <td>1</td>\n",
       "    </tr>\n",
       "    <tr>\n",
       "      <th>2</th>\n",
       "      <td>0</td>\n",
       "      <td>0</td>\n",
       "      <td>0</td>\n",
       "      <td>0</td>\n",
       "      <td>0</td>\n",
       "      <td>0</td>\n",
       "      <td>0</td>\n",
       "      <td>0</td>\n",
       "      <td>0</td>\n",
       "    </tr>\n",
       "    <tr>\n",
       "      <th>3</th>\n",
       "      <td>0</td>\n",
       "      <td>0</td>\n",
       "      <td>0</td>\n",
       "      <td>0</td>\n",
       "      <td>0</td>\n",
       "      <td>0</td>\n",
       "      <td>0</td>\n",
       "      <td>1</td>\n",
       "      <td>0</td>\n",
       "    </tr>\n",
       "    <tr>\n",
       "      <th>4</th>\n",
       "      <td>0</td>\n",
       "      <td>0</td>\n",
       "      <td>0</td>\n",
       "      <td>0</td>\n",
       "      <td>0</td>\n",
       "      <td>0</td>\n",
       "      <td>0</td>\n",
       "      <td>0</td>\n",
       "      <td>1</td>\n",
       "    </tr>\n",
       "    <tr>\n",
       "      <th>5</th>\n",
       "      <td>0</td>\n",
       "      <td>0</td>\n",
       "      <td>0</td>\n",
       "      <td>0</td>\n",
       "      <td>0</td>\n",
       "      <td>0</td>\n",
       "      <td>0</td>\n",
       "      <td>0</td>\n",
       "      <td>0</td>\n",
       "    </tr>\n",
       "  </tbody>\n",
       "</table>\n",
       "</div>"
      ],
      "text/plain": [
       "   f_1  f_2  f_3  f_4  f_5  f_6  f_7  f_8  target\n",
       "0    0    0    0    0    0    0    0    1       0\n",
       "1    0    0    0    0    0    0    0    1       1\n",
       "2    0    0    0    0    0    0    0    0       0\n",
       "3    0    0    0    0    0    0    0    1       0\n",
       "4    0    0    0    0    0    0    0    0       1\n",
       "5    0    0    0    0    0    0    0    0       0"
      ]
     },
     "execution_count": 24,
     "metadata": {},
     "output_type": "execute_result"
    }
   ],
   "source": [
    "final_dataset.head(6)"
   ]
  },
  {
   "cell_type": "code",
   "execution_count": 25,
   "id": "e1d9702a-c1d4-4699-9fac-f1d7ac3ceb69",
   "metadata": {},
   "outputs": [
    {
     "data": {
      "text/plain": [
       "(4177, 9)"
      ]
     },
     "execution_count": 25,
     "metadata": {},
     "output_type": "execute_result"
    }
   ],
   "source": [
    "final_dataset.shape"
   ]
  },
  {
   "cell_type": "code",
   "execution_count": 26,
   "id": "6a8488ea-f37e-4245-9a4d-3f81ed22a1de",
   "metadata": {},
   "outputs": [],
   "source": [
    "final_dataset.to_csv(output_loc + \"final_data.csv.zip\", \n",
    "                     index=False, \n",
    "                     compression='zip')"
   ]
  },
  {
   "cell_type": "code",
   "execution_count": null,
   "id": "9829e2aa-4148-4b5e-85b3-a6e47c5e4271",
   "metadata": {},
   "outputs": [],
   "source": []
  }
 ],
 "metadata": {
  "kernelspec": {
   "display_name": "Python 3 (ipykernel)",
   "language": "python",
   "name": "python3"
  },
  "language_info": {
   "codemirror_mode": {
    "name": "ipython",
    "version": 3
   },
   "file_extension": ".py",
   "mimetype": "text/x-python",
   "name": "python",
   "nbconvert_exporter": "python",
   "pygments_lexer": "ipython3",
   "version": "3.8.10"
  }
 },
 "nbformat": 4,
 "nbformat_minor": 5
}
