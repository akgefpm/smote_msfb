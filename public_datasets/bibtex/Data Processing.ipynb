{
 "cells": [
  {
   "cell_type": "code",
   "execution_count": null,
   "id": "ea83ef86-78dd-4452-b45a-5aac32c244e7",
   "metadata": {},
   "outputs": [],
   "source": [
    "! pip install liac-arff"
   ]
  },
  {
   "cell_type": "code",
   "execution_count": null,
   "id": "b1f50954-e610-4a54-896b-f45020ead332",
   "metadata": {},
   "outputs": [],
   "source": [
    "! pip install --user pandas pyarrow fastparquet"
   ]
  },
  {
   "cell_type": "code",
   "execution_count": null,
   "id": "2c9f8e08-44bb-431e-a7b8-90d725ca0441",
   "metadata": {},
   "outputs": [],
   "source": [
    "## Checks to be executed for each dataset\n",
    "## 1. The unique values across the entire dataset should be 0 or 1 only\n",
    "## 2. There should NOT be any columns in the co-variate space with all value equal. Let's remove those columns"
   ]
  },
  {
   "cell_type": "code",
   "execution_count": 7,
   "id": "1afe6891-00f4-415a-b52b-0185a4bf4981",
   "metadata": {},
   "outputs": [],
   "source": [
    "import arff\n",
    "import pandas as pd\n",
    "from scipy.sparse import csr_matrix\n",
    "import numpy as np\n",
    "\n",
    "import sys\n",
    "sys.path.append('/repos/smote_msfb/helper_functions')\n",
    "from summarize_dataset_with_hubness import summarize_dataset_with_hubness\n"
   ]
  },
  {
   "cell_type": "code",
   "execution_count": 6,
   "id": "671bd7ff-2347-46d8-bb1f-4d525f0ca7e4",
   "metadata": {},
   "outputs": [],
   "source": [
    "path = \"/repos/smote_msfb/public_datasets/bibtex/\""
   ]
  },
  {
   "cell_type": "code",
   "execution_count": null,
   "id": "ec235a55-f63f-43b2-baac-bcc3912b8f5c",
   "metadata": {},
   "outputs": [],
   "source": [
    "# Load the .arff file - With full data in one file\n",
    "with open(path + 'bibtex.arff', 'r') as f:\n",
    "    dataset = arff.load(f)\n",
    "    \n",
    "# Extract data and attributes\n",
    "data = dataset['data']\n",
    "attributes = dataset['attributes']\n",
    "\n",
    "# Create DataFrame\n",
    "columns = [attr[0] for attr in attributes]\n",
    "bibtex_data = pd.DataFrame(data, columns=columns)"
   ]
  },
  {
   "cell_type": "code",
   "execution_count": null,
   "id": "bbab1187-1cf3-4568-a878-cc6f5116f5ad",
   "metadata": {},
   "outputs": [],
   "source": [
    "print(\"Shape of the bibtex_data file :\", bibtex_data.shape)"
   ]
  },
  {
   "cell_type": "code",
   "execution_count": null,
   "id": "b6768b85-6836-4031-90f5-282951e1f5e1",
   "metadata": {},
   "outputs": [],
   "source": [
    "### Get the position of the first Label columns\n",
    "col_position = bibtex_data.columns.get_loc(\"TAG_2005\")\n",
    "print(col_position)"
   ]
  },
  {
   "cell_type": "code",
   "execution_count": null,
   "id": "1c34ebb9-bbc7-4591-9405-8e42ce110cc7",
   "metadata": {},
   "outputs": [],
   "source": [
    "bibtex_data.columns"
   ]
  },
  {
   "cell_type": "code",
   "execution_count": null,
   "id": "31203618-52b0-4071-8a2c-a0fc621e1033",
   "metadata": {},
   "outputs": [],
   "source": [
    "bibtex_data.iloc[:,:1836].columns"
   ]
  },
  {
   "cell_type": "code",
   "execution_count": null,
   "id": "ae764af1-cd47-4388-b0a3-dc6d68f33143",
   "metadata": {},
   "outputs": [],
   "source": [
    "##Check if the unique values across the entire co-variate space is 0 and 1 only or not\n",
    "unique_values = np.unique(bibtex_data.iloc[:, :1836].values)\n",
    "print(unique_values)"
   ]
  },
  {
   "cell_type": "code",
   "execution_count": null,
   "id": "a3b1c775-4dea-4711-b164-86e9ba0b4849",
   "metadata": {},
   "outputs": [],
   "source": [
    "## Check if the unique values in the mulit labels is 0 and 1 only or not\n",
    "unique_values = np.unique(bibtex_data.iloc[:,1837:].values)\n",
    "print(unique_values)"
   ]
  },
  {
   "cell_type": "code",
   "execution_count": null,
   "id": "947ccbe4-54e8-42a8-a329-e475251b81c1",
   "metadata": {},
   "outputs": [],
   "source": [
    "## Check to drop columns from the dataset with same values for all rows\n",
    "\n",
    "# Subset the first 1836 columns\n",
    "features = bibtex_data.iloc[:, :1836]\n",
    "\n",
    "# Identify columns with more than one unique value\n",
    "non_constant_cols = features.loc[:, features.nunique(dropna=False) > 1]\n",
    "\n",
    "print(\"Shape of the non_constant_cols :\", non_constant_cols.shape)\n",
    "\n",
    "# Concatenate with the remaining part of the DataFrame (e.g., label columns)\n",
    "bibtex_data_cleaned = pd.concat([non_constant_cols, bibtex_data.iloc[:, 1836:]], axis=1)\n",
    "\n",
    "print(\"Shape of bibtex_data_cleaned :\", bibtex_data_cleaned.shape)"
   ]
  },
  {
   "cell_type": "code",
   "execution_count": null,
   "id": "92f9bae4-6ea8-4015-9303-748038d58c75",
   "metadata": {},
   "outputs": [],
   "source": [
    "## No columns were deleted during constant value checks"
   ]
  },
  {
   "cell_type": "code",
   "execution_count": null,
   "id": "7b711968-b174-48c9-9043-d3cea269b41d",
   "metadata": {},
   "outputs": [],
   "source": [
    "bibtex_data_cleaned.iloc[:,:1842].columns"
   ]
  },
  {
   "cell_type": "code",
   "execution_count": null,
   "id": "59a8c12f-696e-40e4-a483-e3a206231d79",
   "metadata": {},
   "outputs": [],
   "source": [
    "##  Rename the co-variate feature space of the dataset\n",
    "\n",
    "# Generate new column names\n",
    "new_feature_names = [f\"f_{i}\" for i in range(1836)]\n",
    "\n",
    "# Assign the new names to the first 1836 columns\n",
    "bibtex_data_cleaned.columns.values[:1836] = new_feature_names"
   ]
  },
  {
   "cell_type": "code",
   "execution_count": null,
   "id": "48cad269-ec5e-4d89-a39d-2b946c7efc82",
   "metadata": {},
   "outputs": [],
   "source": [
    "bibtex_data_cleaned.head(3)"
   ]
  },
  {
   "cell_type": "code",
   "execution_count": null,
   "id": "3f22399c-a1ab-4bcd-9df9-a636ffb84ba7",
   "metadata": {},
   "outputs": [],
   "source": [
    "## Dataset is highly imbalanced\n",
    "\n",
    "# Slice only the label columns\n",
    "label_data = bibtex_data_cleaned.iloc[:, 1836:]\n",
    "\n",
    "# Calculate proportions of 0's and 1's for each column\n",
    "for col in label_data.columns:\n",
    "    value_counts = label_data[col].value_counts(normalize=True).sort_index()\n",
    "    prop_0 = value_counts.get(0, 0)\n",
    "    prop_1 = value_counts.get(1, 0)\n",
    "    print(f\"{col}: 0's = {prop_0:.4f}, 1's = {prop_1:.4f}\")"
   ]
  },
  {
   "cell_type": "code",
   "execution_count": null,
   "id": "83f4ab6f-380d-49b2-96d6-c471dfcfa534",
   "metadata": {},
   "outputs": [],
   "source": [
    "## Rename all the response variables as target_X\n",
    "\n",
    "# Total number of columns\n",
    "total_cols = bibtex_data_cleaned.shape[1]\n",
    "\n",
    "# Generate new names for response variables\n",
    "num_targets = total_cols - 1836\n",
    "new_target_names = [f\"target_{i+1}\" for i in range(num_targets)]\n",
    "\n",
    "# Apply the new names\n",
    "bibtex_data_cleaned.columns.values[1836:] = new_target_names"
   ]
  },
  {
   "cell_type": "code",
   "execution_count": null,
   "id": "0c5633cc-b171-4ab6-b449-b1502a7cf256",
   "metadata": {},
   "outputs": [],
   "source": [
    "bibtex_data_cleaned.iloc[:, 1835:].head(3)"
   ]
  },
  {
   "cell_type": "code",
   "execution_count": null,
   "id": "22dd7cfe-cd34-47de-8b16-6fbde7d213f7",
   "metadata": {},
   "outputs": [],
   "source": [
    "## Reset multi index before storing the data\n",
    "bibtex_data_cleaned.columns = [str(col) for col in bibtex_data_cleaned.columns]"
   ]
  },
  {
   "cell_type": "code",
   "execution_count": null,
   "id": "87e0ae6d-bcbc-49e5-b1ca-b6a54dd45981",
   "metadata": {},
   "outputs": [],
   "source": [
    "# Save in Parquet format (using pyarrow)\n",
    "bibtex_data_cleaned.to_parquet( path + \"processed_dataset.parquet\", compression=\"snappy\", engine=\"pyarrow\", index=False)"
   ]
  },
  {
   "cell_type": "code",
   "execution_count": null,
   "id": "6671b63e-859a-46d1-9ab9-d4bb3b6e95e7",
   "metadata": {},
   "outputs": [],
   "source": [
    "############# Create the summary metrics for this dataset #####################"
   ]
  },
  {
   "cell_type": "code",
   "execution_count": 8,
   "id": "19be46f6-c56d-4f33-8ac3-addefce011fd",
   "metadata": {},
   "outputs": [],
   "source": [
    "## Create summary metric dataset for this public dataset\n",
    "data = pd.read_parquet( path + \"processed_dataset.parquet\" , engine=\"pyarrow\")"
   ]
  },
  {
   "cell_type": "code",
   "execution_count": null,
   "id": "1bc365cf-a0db-49c4-b3a7-1463c9b542d1",
   "metadata": {},
   "outputs": [
    {
     "name": "stderr",
     "output_type": "stream",
     "text": [
      "/opt/conda/lib/python3.8/site-packages/sklearn/metrics/pairwise.py:1776: DataConversionWarning: Data was converted to boolean for metric jaccard\n",
      "  warnings.warn(msg, DataConversionWarning)\n",
      "/opt/conda/lib/python3.8/site-packages/sklearn/metrics/pairwise.py:1776: DataConversionWarning: Data was converted to boolean for metric jaccard\n",
      "  warnings.warn(msg, DataConversionWarning)\n",
      "/opt/conda/lib/python3.8/site-packages/sklearn/metrics/pairwise.py:1776: DataConversionWarning: Data was converted to boolean for metric jaccard\n",
      "  warnings.warn(msg, DataConversionWarning)\n",
      "/opt/conda/lib/python3.8/site-packages/sklearn/metrics/pairwise.py:1776: DataConversionWarning: Data was converted to boolean for metric jaccard\n",
      "  warnings.warn(msg, DataConversionWarning)\n",
      "/opt/conda/lib/python3.8/site-packages/sklearn/metrics/pairwise.py:1776: DataConversionWarning: Data was converted to boolean for metric jaccard\n",
      "  warnings.warn(msg, DataConversionWarning)\n",
      "/opt/conda/lib/python3.8/site-packages/sklearn/metrics/pairwise.py:1776: DataConversionWarning: Data was converted to boolean for metric jaccard\n",
      "  warnings.warn(msg, DataConversionWarning)\n",
      "/opt/conda/lib/python3.8/site-packages/sklearn/metrics/pairwise.py:1776: DataConversionWarning: Data was converted to boolean for metric jaccard\n",
      "  warnings.warn(msg, DataConversionWarning)\n",
      "/opt/conda/lib/python3.8/site-packages/sklearn/metrics/pairwise.py:1776: DataConversionWarning: Data was converted to boolean for metric jaccard\n",
      "  warnings.warn(msg, DataConversionWarning)\n",
      "/opt/conda/lib/python3.8/site-packages/sklearn/metrics/pairwise.py:1776: DataConversionWarning: Data was converted to boolean for metric jaccard\n",
      "  warnings.warn(msg, DataConversionWarning)\n",
      "/opt/conda/lib/python3.8/site-packages/sklearn/metrics/pairwise.py:1776: DataConversionWarning: Data was converted to boolean for metric jaccard\n",
      "  warnings.warn(msg, DataConversionWarning)\n",
      "/opt/conda/lib/python3.8/site-packages/sklearn/metrics/pairwise.py:1776: DataConversionWarning: Data was converted to boolean for metric jaccard\n",
      "  warnings.warn(msg, DataConversionWarning)\n",
      "/opt/conda/lib/python3.8/site-packages/sklearn/metrics/pairwise.py:1776: DataConversionWarning: Data was converted to boolean for metric jaccard\n",
      "  warnings.warn(msg, DataConversionWarning)\n",
      "/opt/conda/lib/python3.8/site-packages/sklearn/metrics/pairwise.py:1776: DataConversionWarning: Data was converted to boolean for metric jaccard\n",
      "  warnings.warn(msg, DataConversionWarning)\n",
      "/opt/conda/lib/python3.8/site-packages/sklearn/metrics/pairwise.py:1776: DataConversionWarning: Data was converted to boolean for metric jaccard\n",
      "  warnings.warn(msg, DataConversionWarning)\n",
      "/opt/conda/lib/python3.8/site-packages/sklearn/metrics/pairwise.py:1776: DataConversionWarning: Data was converted to boolean for metric jaccard\n",
      "  warnings.warn(msg, DataConversionWarning)\n",
      "/opt/conda/lib/python3.8/site-packages/sklearn/metrics/pairwise.py:1776: DataConversionWarning: Data was converted to boolean for metric jaccard\n",
      "  warnings.warn(msg, DataConversionWarning)\n",
      "/opt/conda/lib/python3.8/site-packages/sklearn/metrics/pairwise.py:1776: DataConversionWarning: Data was converted to boolean for metric jaccard\n",
      "  warnings.warn(msg, DataConversionWarning)\n",
      "/opt/conda/lib/python3.8/site-packages/sklearn/metrics/pairwise.py:1776: DataConversionWarning: Data was converted to boolean for metric jaccard\n",
      "  warnings.warn(msg, DataConversionWarning)\n",
      "/opt/conda/lib/python3.8/site-packages/sklearn/metrics/pairwise.py:1776: DataConversionWarning: Data was converted to boolean for metric jaccard\n",
      "  warnings.warn(msg, DataConversionWarning)\n",
      "/opt/conda/lib/python3.8/site-packages/sklearn/metrics/pairwise.py:1776: DataConversionWarning: Data was converted to boolean for metric jaccard\n",
      "  warnings.warn(msg, DataConversionWarning)\n",
      "/opt/conda/lib/python3.8/site-packages/sklearn/metrics/pairwise.py:1776: DataConversionWarning: Data was converted to boolean for metric jaccard\n",
      "  warnings.warn(msg, DataConversionWarning)\n",
      "/opt/conda/lib/python3.8/site-packages/sklearn/metrics/pairwise.py:1776: DataConversionWarning: Data was converted to boolean for metric jaccard\n",
      "  warnings.warn(msg, DataConversionWarning)\n"
     ]
    }
   ],
   "source": [
    "summary_df = summarize_dataset_with_hubness(data, k=5)"
   ]
  },
  {
   "cell_type": "code",
   "execution_count": null,
   "id": "8c849b8d-6316-4c53-9f99-c02d9a83aa32",
   "metadata": {},
   "outputs": [],
   "source": [
    "summary_df.head(3)"
   ]
  },
  {
   "cell_type": "code",
   "execution_count": null,
   "id": "fbf0c576-6b4b-4884-9a26-cabf2f42b3e2",
   "metadata": {},
   "outputs": [],
   "source": []
  }
 ],
 "metadata": {
  "kernelspec": {
   "display_name": "Python 3 (ipykernel)",
   "language": "python",
   "name": "python3"
  },
  "language_info": {
   "codemirror_mode": {
    "name": "ipython",
    "version": 3
   },
   "file_extension": ".py",
   "mimetype": "text/x-python",
   "name": "python",
   "nbconvert_exporter": "python",
   "pygments_lexer": "ipython3",
   "version": "3.8.10"
  }
 },
 "nbformat": 4,
 "nbformat_minor": 5
}
