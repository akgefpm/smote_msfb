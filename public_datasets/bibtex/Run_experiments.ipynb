{
 "cells": [
  {
   "cell_type": "code",
   "execution_count": null,
   "id": "2c9f8e08-44bb-431e-a7b8-90d725ca0441",
   "metadata": {},
   "outputs": [],
   "source": [
    "## Generate the summary metrics using the generated dataset"
   ]
  },
  {
   "cell_type": "code",
   "execution_count": null,
   "id": "b1f50954-e610-4a54-896b-f45020ead332",
   "metadata": {},
   "outputs": [],
   "source": [
    "! pip install --user pandas pyarrow fastparquet"
   ]
  },
  {
   "cell_type": "code",
   "execution_count": null,
   "id": "4a797d8e-f8ce-44d7-98b4-4d0e2fa2d274",
   "metadata": {},
   "outputs": [],
   "source": [
    "! pip install --user imblearn"
   ]
  },
  {
   "cell_type": "code",
   "execution_count": null,
   "id": "1cea5a3a-6d30-410f-967c-d339b391e3a1",
   "metadata": {},
   "outputs": [],
   "source": [
    "! pip install pyyaml"
   ]
  },
  {
   "cell_type": "code",
   "execution_count": 4,
   "id": "1afe6891-00f4-415a-b52b-0185a4bf4981",
   "metadata": {},
   "outputs": [],
   "source": [
    "import pandas as pd\n",
    "import numpy as np\n",
    "\n",
    "import sys\n",
    "sys.path.append('/repos/smote_msfb/helper_functions')\n",
    "from summarize_dataset_with_hubness import summarize_dataset_with_hubness\n",
    "from create_folder_if_not_exists import create_folder_if_not_exists\n",
    "from run_single_experiment import run_single_experiment"
   ]
  },
  {
   "cell_type": "code",
   "execution_count": 5,
   "id": "54c4748d-e2a6-4f66-bdd6-0070adf99135",
   "metadata": {},
   "outputs": [],
   "source": [
    "folder_name = 'bibtex'"
   ]
  },
  {
   "cell_type": "code",
   "execution_count": 6,
   "id": "671bd7ff-2347-46d8-bb1f-4d525f0ca7e4",
   "metadata": {},
   "outputs": [],
   "source": [
    "path = \"/repos/smote_msfb/public_datasets/\"+ folder_name + \"/\""
   ]
  },
  {
   "cell_type": "code",
   "execution_count": 7,
   "id": "8115b066-1544-4755-93f0-ce6f5adc9e5b",
   "metadata": {},
   "outputs": [],
   "source": [
    "output_dir = \"/domino/datasets/local/smote_msfb/public_datasets/\" + folder_name + \"/\""
   ]
  },
  {
   "cell_type": "code",
   "execution_count": 8,
   "id": "19be46f6-c56d-4f33-8ac3-addefce011fd",
   "metadata": {},
   "outputs": [],
   "source": [
    "## Create summary metric dataset for this public dataset\n",
    "df = pd.read_parquet( path + \"processed_dataset.parquet\" , engine=\"pyarrow\")"
   ]
  },
  {
   "cell_type": "code",
   "execution_count": 9,
   "id": "a4d07a34-e28e-4999-a18e-bb6d9f0ab590",
   "metadata": {},
   "outputs": [
    {
     "data": {
      "text/html": [
       "<div>\n",
       "<style scoped>\n",
       "    .dataframe tbody tr th:only-of-type {\n",
       "        vertical-align: middle;\n",
       "    }\n",
       "\n",
       "    .dataframe tbody tr th {\n",
       "        vertical-align: top;\n",
       "    }\n",
       "\n",
       "    .dataframe thead th {\n",
       "        text-align: right;\n",
       "    }\n",
       "</style>\n",
       "<table border=\"1\" class=\"dataframe\">\n",
       "  <thead>\n",
       "    <tr style=\"text-align: right;\">\n",
       "      <th></th>\n",
       "      <th>f_0</th>\n",
       "      <th>f_1</th>\n",
       "      <th>f_2</th>\n",
       "      <th>f_3</th>\n",
       "      <th>f_4</th>\n",
       "      <th>f_5</th>\n",
       "      <th>f_6</th>\n",
       "      <th>f_7</th>\n",
       "      <th>f_8</th>\n",
       "      <th>f_9</th>\n",
       "      <th>...</th>\n",
       "      <th>TAG_topic7</th>\n",
       "      <th>TAG_topic8</th>\n",
       "      <th>TAG_topic9</th>\n",
       "      <th>TAG_toread</th>\n",
       "      <th>TAG_transition</th>\n",
       "      <th>TAG_visual</th>\n",
       "      <th>TAG_visualization</th>\n",
       "      <th>TAG_web</th>\n",
       "      <th>TAG_web20</th>\n",
       "      <th>TAG_wiki</th>\n",
       "    </tr>\n",
       "  </thead>\n",
       "  <tbody>\n",
       "    <tr>\n",
       "      <th>0</th>\n",
       "      <td>0</td>\n",
       "      <td>0</td>\n",
       "      <td>0</td>\n",
       "      <td>0</td>\n",
       "      <td>0</td>\n",
       "      <td>0</td>\n",
       "      <td>0</td>\n",
       "      <td>0</td>\n",
       "      <td>0</td>\n",
       "      <td>0</td>\n",
       "      <td>...</td>\n",
       "      <td>0</td>\n",
       "      <td>0</td>\n",
       "      <td>0</td>\n",
       "      <td>0</td>\n",
       "      <td>0</td>\n",
       "      <td>0</td>\n",
       "      <td>0</td>\n",
       "      <td>0</td>\n",
       "      <td>0</td>\n",
       "      <td>1</td>\n",
       "    </tr>\n",
       "    <tr>\n",
       "      <th>1</th>\n",
       "      <td>1</td>\n",
       "      <td>0</td>\n",
       "      <td>0</td>\n",
       "      <td>0</td>\n",
       "      <td>0</td>\n",
       "      <td>0</td>\n",
       "      <td>0</td>\n",
       "      <td>0</td>\n",
       "      <td>0</td>\n",
       "      <td>0</td>\n",
       "      <td>...</td>\n",
       "      <td>0</td>\n",
       "      <td>0</td>\n",
       "      <td>0</td>\n",
       "      <td>0</td>\n",
       "      <td>1</td>\n",
       "      <td>0</td>\n",
       "      <td>0</td>\n",
       "      <td>0</td>\n",
       "      <td>0</td>\n",
       "      <td>0</td>\n",
       "    </tr>\n",
       "    <tr>\n",
       "      <th>2</th>\n",
       "      <td>1</td>\n",
       "      <td>0</td>\n",
       "      <td>0</td>\n",
       "      <td>0</td>\n",
       "      <td>0</td>\n",
       "      <td>1</td>\n",
       "      <td>0</td>\n",
       "      <td>1</td>\n",
       "      <td>0</td>\n",
       "      <td>0</td>\n",
       "      <td>...</td>\n",
       "      <td>0</td>\n",
       "      <td>0</td>\n",
       "      <td>0</td>\n",
       "      <td>0</td>\n",
       "      <td>0</td>\n",
       "      <td>0</td>\n",
       "      <td>0</td>\n",
       "      <td>0</td>\n",
       "      <td>0</td>\n",
       "      <td>0</td>\n",
       "    </tr>\n",
       "  </tbody>\n",
       "</table>\n",
       "<p>3 rows × 1995 columns</p>\n",
       "</div>"
      ],
      "text/plain": [
       "   f_0  f_1  f_2  f_3  f_4  f_5  f_6  f_7  f_8  f_9  ...  TAG_topic7  \\\n",
       "0    0    0    0    0    0    0    0    0    0    0  ...           0   \n",
       "1    1    0    0    0    0    0    0    0    0    0  ...           0   \n",
       "2    1    0    0    0    0    1    0    1    0    0  ...           0   \n",
       "\n",
       "   TAG_topic8  TAG_topic9  TAG_toread  TAG_transition  TAG_visual  \\\n",
       "0           0           0           0               0           0   \n",
       "1           0           0           0               1           0   \n",
       "2           0           0           0               0           0   \n",
       "\n",
       "   TAG_visualization  TAG_web  TAG_web20  TAG_wiki  \n",
       "0                  0        0          0         1  \n",
       "1                  0        0          0         0  \n",
       "2                  0        0          0         0  \n",
       "\n",
       "[3 rows x 1995 columns]"
      ]
     },
     "execution_count": 9,
     "metadata": {},
     "output_type": "execute_result"
    }
   ],
   "source": [
    "df.head(3)"
   ]
  },
  {
   "cell_type": "code",
   "execution_count": null,
   "id": "aa0ca150-5d94-407c-b234-df3eca7018cf",
   "metadata": {},
   "outputs": [],
   "source": [
    "# Suppose df is your dataset already loaded into memory\n",
    "# Features: f_*\n",
    "feature_cols = [col for col in df.columns if col.startswith(\"f_\")]\n",
    "\n",
    "# Targets: target_*\n",
    "target_cols = [col for col in df.columns if col.startswith(\"target\")]"
   ]
  },
  {
   "cell_type": "code",
   "execution_count": null,
   "id": "44551cf0-ba71-422b-b574-060ed23a2b48",
   "metadata": {},
   "outputs": [],
   "source": [
    "print(\"No. of target columns :\", len(target_cols))"
   ]
  },
  {
   "cell_type": "code",
   "execution_count": null,
   "id": "28490e62-bd19-457a-ad4f-d972b6632f44",
   "metadata": {},
   "outputs": [],
   "source": [
    "#counts = df['target_1'].value_counts()\n",
    "#print(counts)"
   ]
  },
  {
   "cell_type": "code",
   "execution_count": null,
   "id": "68b9dfe5-ba58-4eb8-a84d-1f31ece086bb",
   "metadata": {},
   "outputs": [],
   "source": [
    "# target_cols = target_cols[11:]"
   ]
  },
  {
   "cell_type": "code",
   "execution_count": null,
   "id": "c2dfaa27-2d72-4596-aab9-7e51055b8761",
   "metadata": {},
   "outputs": [],
   "source": [
    "for target in target_cols: \n",
    "    X = df[feature_cols]\n",
    "    y = df[[target]]  # keep as DataFrame\n",
    "    combined_df = pd.concat([X, y], axis=1).reset_index(drop=True)\n",
    "    \n",
    "    # Rename target column to \"target\"\n",
    "    combined_df = combined_df.rename(columns={target: \"target\"})    \n",
    "    combined_df = combined_df.astype(int)\n",
    "     \n",
    "    counts = combined_df['target'].value_counts()\n",
    "    print(counts)\n",
    "\n",
    "    # Skip if minority class (<50 samples of 1)\n",
    "    if counts.get(1, 0) < 100:\n",
    "        print(f\"Skipping {target} because it has fewer than 100 positives.\")\n",
    "        continue\n",
    "    \n",
    "    output_loc = output_dir + str(target) + \"/\"\n",
    "    create_folder_if_not_exists(output_loc)\n",
    "    \n",
    "    # Redirect stdout to file\n",
    "    log_file_path = output_loc + \"output.txt\"\n",
    "    with open(log_file_path, \"w\") as f:\n",
    "        # Temporarily redirect stdout\n",
    "        old_stdout = sys.stdout\n",
    "        sys.stdout = f\n",
    "        try:\n",
    "            print(\"Balance of target variable :\",counts )\n",
    "            run_single_experiment(output_loc, combined_df, mode=\"new\")\n",
    "        finally:\n",
    "            # Restore stdout even if experiment fails\n",
    "            sys.stdout = old_stdout\n",
    "        "
   ]
  },
  {
   "cell_type": "code",
   "execution_count": null,
   "id": "2375f2d9-8157-4393-a971-7cfef08d59ea",
   "metadata": {},
   "outputs": [],
   "source": []
  }
 ],
 "metadata": {
  "kernelspec": {
   "display_name": "Python 3 (ipykernel)",
   "language": "python",
   "name": "python3"
  },
  "language_info": {
   "codemirror_mode": {
    "name": "ipython",
    "version": 3
   },
   "file_extension": ".py",
   "mimetype": "text/x-python",
   "name": "python",
   "nbconvert_exporter": "python",
   "pygments_lexer": "ipython3",
   "version": "3.8.10"
  }
 },
 "nbformat": 4,
 "nbformat_minor": 5
}
