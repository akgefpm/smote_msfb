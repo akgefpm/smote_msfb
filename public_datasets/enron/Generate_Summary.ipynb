{
 "cells": [
  {
   "cell_type": "code",
   "execution_count": null,
   "id": "2c9f8e08-44bb-431e-a7b8-90d725ca0441",
   "metadata": {},
   "outputs": [],
   "source": [
    "## Generate the summary metrics using the generated dataset"
   ]
  },
  {
   "cell_type": "code",
   "execution_count": 1,
   "id": "b1f50954-e610-4a54-896b-f45020ead332",
   "metadata": {},
   "outputs": [
    {
     "name": "stdout",
     "output_type": "stream",
     "text": [
      "Requirement already satisfied: pandas in /opt/conda/lib/python3.8/site-packages (1.3.0)\n",
      "Collecting pyarrow\n",
      "  Downloading pyarrow-17.0.0-cp38-cp38-manylinux_2_17_x86_64.manylinux2014_x86_64.whl (40.0 MB)\n",
      "\u001b[K     |████████████████████████████████| 40.0 MB 4.4 MB/s eta 0:00:01\n",
      "\u001b[?25hCollecting fastparquet\n",
      "  Downloading fastparquet-2024.2.0-cp38-cp38-manylinux_2_17_x86_64.manylinux2014_x86_64.whl (1.7 MB)\n",
      "\u001b[K     |████████████████████████████████| 1.7 MB 59.4 MB/s eta 0:00:01\n",
      "\u001b[?25hRequirement already satisfied: numpy>=1.17.3 in /opt/conda/lib/python3.8/site-packages (from pandas) (1.21.1)\n",
      "Requirement already satisfied: pytz>=2017.3 in /opt/conda/lib/python3.8/site-packages (from pandas) (2021.1)\n",
      "Requirement already satisfied: python-dateutil>=2.7.3 in /opt/conda/lib/python3.8/site-packages (from pandas) (2.8.2)\n",
      "Requirement already satisfied: six>=1.5 in /opt/conda/lib/python3.8/site-packages (from python-dateutil>=2.7.3->pandas) (1.15.0)\n",
      "Collecting pandas\n",
      "  Downloading pandas-2.0.3-cp38-cp38-manylinux_2_17_x86_64.manylinux2014_x86_64.whl (12.4 MB)\n",
      "\u001b[K     |████████████████████████████████| 12.4 MB 93.6 MB/s eta 0:00:01\n",
      "\u001b[?25hCollecting cramjam>=2.3\n",
      "  Downloading cramjam-2.11.0-cp38-cp38-manylinux_2_17_x86_64.manylinux2014_x86_64.whl (2.0 MB)\n",
      "\u001b[K     |████████████████████████████████| 2.0 MB 116.1 MB/s eta 0:00:01\n",
      "\u001b[?25hCollecting fsspec\n",
      "  Downloading fsspec-2025.3.0-py3-none-any.whl (193 kB)\n",
      "\u001b[K     |████████████████████████████████| 193 kB 133.6 MB/s eta 0:00:01\n",
      "\u001b[?25hRequirement already satisfied: packaging in /home/ubuntu/.local/lib/python3.8/site-packages (from fastparquet) (21.0)\n",
      "Collecting tzdata>=2022.1\n",
      "  Downloading tzdata-2025.2-py2.py3-none-any.whl (347 kB)\n",
      "\u001b[K     |████████████████████████████████| 347 kB 127.4 MB/s eta 0:00:01\n",
      "\u001b[?25hRequirement already satisfied: pyparsing>=2.0.2 in /home/ubuntu/.local/lib/python3.8/site-packages (from packaging->fastparquet) (2.4.7)\n",
      "Installing collected packages: tzdata, pandas, fsspec, cramjam, pyarrow, fastparquet\n",
      "Successfully installed cramjam-2.11.0 fastparquet-2024.2.0 fsspec-2025.3.0 pandas-2.0.3 pyarrow-17.0.0 tzdata-2025.2\n"
     ]
    }
   ],
   "source": [
    "! pip install --user pandas pyarrow fastparquet"
   ]
  },
  {
   "cell_type": "code",
   "execution_count": 2,
   "id": "1afe6891-00f4-415a-b52b-0185a4bf4981",
   "metadata": {},
   "outputs": [],
   "source": [
    "import pandas as pd\n",
    "#from scipy.sparse import csr_matrix\n",
    "import numpy as np\n",
    "\n",
    "import sys\n",
    "sys.path.append('/repos/smote_msfb/helper_functions')\n",
    "from summarize_dataset_with_hubness import summarize_dataset_with_hubness\n",
    "from create_folder_if_not_exists import create_folder_if_not_exists"
   ]
  },
  {
   "cell_type": "code",
   "execution_count": 3,
   "id": "671bd7ff-2347-46d8-bb1f-4d525f0ca7e4",
   "metadata": {},
   "outputs": [],
   "source": [
    "path = \"/repos/smote_msfb/public_datasets/enron/\""
   ]
  },
  {
   "cell_type": "code",
   "execution_count": 4,
   "id": "19be46f6-c56d-4f33-8ac3-addefce011fd",
   "metadata": {},
   "outputs": [],
   "source": [
    "## Create summary metric dataset for this public dataset\n",
    "data = pd.read_parquet( path + \"processed_dataset.parquet\" , engine=\"pyarrow\")"
   ]
  },
  {
   "cell_type": "code",
   "execution_count": 5,
   "id": "31f0b342-bca4-416a-9237-0ee75b99d311",
   "metadata": {},
   "outputs": [
    {
     "data": {
      "text/html": [
       "<div>\n",
       "<style scoped>\n",
       "    .dataframe tbody tr th:only-of-type {\n",
       "        vertical-align: middle;\n",
       "    }\n",
       "\n",
       "    .dataframe tbody tr th {\n",
       "        vertical-align: top;\n",
       "    }\n",
       "\n",
       "    .dataframe thead th {\n",
       "        text-align: right;\n",
       "    }\n",
       "</style>\n",
       "<table border=\"1\" class=\"dataframe\">\n",
       "  <thead>\n",
       "    <tr style=\"text-align: right;\">\n",
       "      <th></th>\n",
       "      <th>f_0</th>\n",
       "      <th>f_1</th>\n",
       "      <th>f_2</th>\n",
       "      <th>f_3</th>\n",
       "      <th>f_4</th>\n",
       "      <th>f_5</th>\n",
       "      <th>f_6</th>\n",
       "      <th>f_7</th>\n",
       "      <th>f_8</th>\n",
       "      <th>f_9</th>\n",
       "      <th>...</th>\n",
       "      <th>target_44</th>\n",
       "      <th>target_45</th>\n",
       "      <th>target_46</th>\n",
       "      <th>target_47</th>\n",
       "      <th>target_48</th>\n",
       "      <th>target_49</th>\n",
       "      <th>target_50</th>\n",
       "      <th>target_51</th>\n",
       "      <th>target_52</th>\n",
       "      <th>target_53</th>\n",
       "    </tr>\n",
       "  </thead>\n",
       "  <tbody>\n",
       "    <tr>\n",
       "      <th>0</th>\n",
       "      <td>0</td>\n",
       "      <td>0</td>\n",
       "      <td>0</td>\n",
       "      <td>0</td>\n",
       "      <td>0</td>\n",
       "      <td>0</td>\n",
       "      <td>0</td>\n",
       "      <td>0</td>\n",
       "      <td>0</td>\n",
       "      <td>0</td>\n",
       "      <td>...</td>\n",
       "      <td>0</td>\n",
       "      <td>0</td>\n",
       "      <td>0</td>\n",
       "      <td>1</td>\n",
       "      <td>0</td>\n",
       "      <td>0</td>\n",
       "      <td>1</td>\n",
       "      <td>0</td>\n",
       "      <td>0</td>\n",
       "      <td>0</td>\n",
       "    </tr>\n",
       "    <tr>\n",
       "      <th>1</th>\n",
       "      <td>0</td>\n",
       "      <td>0</td>\n",
       "      <td>0</td>\n",
       "      <td>1</td>\n",
       "      <td>0</td>\n",
       "      <td>0</td>\n",
       "      <td>0</td>\n",
       "      <td>0</td>\n",
       "      <td>0</td>\n",
       "      <td>0</td>\n",
       "      <td>...</td>\n",
       "      <td>0</td>\n",
       "      <td>0</td>\n",
       "      <td>0</td>\n",
       "      <td>0</td>\n",
       "      <td>0</td>\n",
       "      <td>0</td>\n",
       "      <td>1</td>\n",
       "      <td>0</td>\n",
       "      <td>0</td>\n",
       "      <td>0</td>\n",
       "    </tr>\n",
       "    <tr>\n",
       "      <th>2</th>\n",
       "      <td>0</td>\n",
       "      <td>0</td>\n",
       "      <td>0</td>\n",
       "      <td>0</td>\n",
       "      <td>0</td>\n",
       "      <td>0</td>\n",
       "      <td>0</td>\n",
       "      <td>0</td>\n",
       "      <td>0</td>\n",
       "      <td>0</td>\n",
       "      <td>...</td>\n",
       "      <td>0</td>\n",
       "      <td>0</td>\n",
       "      <td>0</td>\n",
       "      <td>0</td>\n",
       "      <td>0</td>\n",
       "      <td>0</td>\n",
       "      <td>0</td>\n",
       "      <td>0</td>\n",
       "      <td>0</td>\n",
       "      <td>0</td>\n",
       "    </tr>\n",
       "  </tbody>\n",
       "</table>\n",
       "<p>3 rows × 1054 columns</p>\n",
       "</div>"
      ],
      "text/plain": [
       "  f_0 f_1 f_2 f_3 f_4 f_5 f_6 f_7 f_8 f_9  ... target_44 target_45 target_46  \\\n",
       "0   0   0   0   0   0   0   0   0   0   0  ...         0         0         0   \n",
       "1   0   0   0   1   0   0   0   0   0   0  ...         0         0         0   \n",
       "2   0   0   0   0   0   0   0   0   0   0  ...         0         0         0   \n",
       "\n",
       "  target_47 target_48 target_49 target_50 target_51 target_52 target_53  \n",
       "0         1         0         0         1         0         0         0  \n",
       "1         0         0         0         1         0         0         0  \n",
       "2         0         0         0         0         0         0         0  \n",
       "\n",
       "[3 rows x 1054 columns]"
      ]
     },
     "execution_count": 5,
     "metadata": {},
     "output_type": "execute_result"
    }
   ],
   "source": [
    "data.head(3)"
   ]
  },
  {
   "cell_type": "code",
   "execution_count": 8,
   "id": "3a42c374-77f7-48e7-802f-0f9b5c63328e",
   "metadata": {},
   "outputs": [
    {
     "data": {
      "text/plain": [
       "1053"
      ]
     },
     "execution_count": 8,
     "metadata": {},
     "output_type": "execute_result"
    }
   ],
   "source": [
    "data.shape[1]-1"
   ]
  },
  {
   "cell_type": "code",
   "execution_count": null,
   "id": "1bc365cf-a0db-49c4-b3a7-1463c9b542d1",
   "metadata": {},
   "outputs": [],
   "source": [
    "summary_df = summarize_dataset_with_hubness(data, k=5)"
   ]
  },
  {
   "cell_type": "code",
   "execution_count": null,
   "id": "5b7939eb-c3b3-486b-8dca-cd894ab36a96",
   "metadata": {},
   "outputs": [],
   "source": [
    "output_loc = \"/domino/datasets/local/smote_msfb/public_datasets/enron/\"\n",
    "create_folder_if_not_exists(output_loc)"
   ]
  },
  {
   "cell_type": "code",
   "execution_count": null,
   "id": "8c849b8d-6316-4c53-9f99-c02d9a83aa32",
   "metadata": {},
   "outputs": [],
   "source": [
    "summary_df.to_csv(\n",
    "    output_loc + \"/Summary_metrics_data.zip\",\n",
    "    index=False,\n",
    "    compression={\n",
    "        \"method\": \"zip\",\n",
    "        \"archive_name\": \"Summary_metrics_data.csv\"\n",
    "    }\n",
    ")"
   ]
  },
  {
   "cell_type": "code",
   "execution_count": null,
   "id": "fbf0c576-6b4b-4884-9a26-cabf2f42b3e2",
   "metadata": {},
   "outputs": [],
   "source": []
  }
 ],
 "metadata": {
  "kernelspec": {
   "display_name": "Python 3 (ipykernel)",
   "language": "python",
   "name": "python3"
  },
  "language_info": {
   "codemirror_mode": {
    "name": "ipython",
    "version": 3
   },
   "file_extension": ".py",
   "mimetype": "text/x-python",
   "name": "python",
   "nbconvert_exporter": "python",
   "pygments_lexer": "ipython3",
   "version": "3.8.10"
  }
 },
 "nbformat": 4,
 "nbformat_minor": 5
}
