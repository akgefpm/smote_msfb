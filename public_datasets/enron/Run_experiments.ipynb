{
 "cells": [
  {
   "cell_type": "code",
   "execution_count": null,
   "id": "2c9f8e08-44bb-431e-a7b8-90d725ca0441",
   "metadata": {},
   "outputs": [],
   "source": [
    "## Generate the summary metrics using the generated dataset"
   ]
  },
  {
   "cell_type": "code",
   "execution_count": null,
   "id": "b1f50954-e610-4a54-896b-f45020ead332",
   "metadata": {},
   "outputs": [],
   "source": [
    "! pip install --user pandas pyarrow fastparquet"
   ]
  },
  {
   "cell_type": "code",
   "execution_count": null,
   "id": "4a797d8e-f8ce-44d7-98b4-4d0e2fa2d274",
   "metadata": {},
   "outputs": [],
   "source": [
    "! pip install --user imblearn"
   ]
  },
  {
   "cell_type": "code",
   "execution_count": null,
   "id": "1cea5a3a-6d30-410f-967c-d339b391e3a1",
   "metadata": {},
   "outputs": [],
   "source": [
    "! pip install pyyaml"
   ]
  },
  {
   "cell_type": "code",
   "execution_count": 2,
   "id": "1afe6891-00f4-415a-b52b-0185a4bf4981",
   "metadata": {},
   "outputs": [],
   "source": [
    "import pandas as pd\n",
    "import numpy as np\n",
    "\n",
    "import sys\n",
    "sys.path.append('/repos/smote_msfb/helper_functions')\n",
    "from summarize_dataset_with_hubness import summarize_dataset_with_hubness\n",
    "from create_folder_if_not_exists import create_folder_if_not_exists\n",
    "from run_single_experiment import run_single_experiment"
   ]
  },
  {
   "cell_type": "code",
   "execution_count": 3,
   "id": "671bd7ff-2347-46d8-bb1f-4d525f0ca7e4",
   "metadata": {},
   "outputs": [],
   "source": [
    "path = \"/repos/smote_msfb/public_datasets/enron/\""
   ]
  },
  {
   "cell_type": "code",
   "execution_count": 4,
   "id": "19be46f6-c56d-4f33-8ac3-addefce011fd",
   "metadata": {},
   "outputs": [],
   "source": [
    "## Create summary metric dataset for this public dataset\n",
    "df = pd.read_parquet( path + \"processed_dataset.parquet\" , engine=\"pyarrow\")"
   ]
  },
  {
   "cell_type": "code",
   "execution_count": 6,
   "id": "aa0ca150-5d94-407c-b234-df3eca7018cf",
   "metadata": {},
   "outputs": [],
   "source": [
    "# Suppose df is your dataset already loaded into memory\n",
    "# Features: f_*\n",
    "feature_cols = [col for col in df.columns if col.startswith(\"f_\")]\n",
    "\n",
    "# Targets: target_*\n",
    "target_cols = [col for col in df.columns if col.startswith(\"target_\")]"
   ]
  },
  {
   "cell_type": "code",
   "execution_count": null,
   "id": "c2dfaa27-2d72-4596-aab9-7e51055b8761",
   "metadata": {},
   "outputs": [],
   "source": [
    "for target in target_cols: #[13:14]:\n",
    "    X = df[feature_cols]\n",
    "    y = df[[target]]  # keep as DataFrame\n",
    "    combined_df = pd.concat([X, y], axis=1).reset_index(drop=True)\n",
    "    \n",
    "    # Rename target column to \"target\"\n",
    "    combined_df = combined_df.rename(columns={target: \"target\"})    \n",
    "    combined_df = combined_df.astype(int)\n",
    "       \n",
    "    print(combined_df['target'].value_counts())\n",
    "    \n",
    "    output_loc = \"/domino/datasets/local/smote_msfb/public_datasets/enron/\" + \"/\" + str(target) + \"/\"\n",
    "    create_folder_if_not_exists(output_loc)\n",
    "    \n",
    "    # Redirect stdout to file\n",
    "    log_file_path = output_loc + \"output.txt\"\n",
    "    with open(log_file_path, \"w\") as f:\n",
    "        # Temporarily redirect stdout\n",
    "        old_stdout = sys.stdout\n",
    "        sys.stdout = f\n",
    "        try:\n",
    "            run_single_experiment(output_loc, combined_df, mode=\"new\")\n",
    "        finally:\n",
    "            # Restore stdout even if experiment fails\n",
    "            sys.stdout = old_stdout\n",
    "        "
   ]
  },
  {
   "cell_type": "code",
   "execution_count": null,
   "id": "2375f2d9-8157-4393-a971-7cfef08d59ea",
   "metadata": {},
   "outputs": [],
   "source": []
  }
 ],
 "metadata": {
  "kernelspec": {
   "display_name": "Python 3 (ipykernel)",
   "language": "python",
   "name": "python3"
  },
  "language_info": {
   "codemirror_mode": {
    "name": "ipython",
    "version": 3
   },
   "file_extension": ".py",
   "mimetype": "text/x-python",
   "name": "python",
   "nbconvert_exporter": "python",
   "pygments_lexer": "ipython3",
   "version": "3.8.10"
  }
 },
 "nbformat": 4,
 "nbformat_minor": 5
}
