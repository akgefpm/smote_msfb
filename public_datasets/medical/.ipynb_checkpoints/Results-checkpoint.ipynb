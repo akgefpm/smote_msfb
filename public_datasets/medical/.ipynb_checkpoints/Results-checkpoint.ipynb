{
 "cells": [
  {
   "cell_type": "code",
   "execution_count": null,
   "metadata": {
    "colab": {
     "base_uri": "https://localhost:8080/"
    },
    "id": "sxcU4TYZMx7E",
    "outputId": "b04e5bda-7ea8-435f-bba3-db3c0bc6eed9"
   },
   "outputs": [],
   "source": [
    "# Code to run simulations on synthetic data to test the accuracy of the new algorithm"
   ]
  },
  {
   "cell_type": "code",
   "execution_count": 7,
   "metadata": {
    "id": "9f_4aQ42NZbt"
   },
   "outputs": [],
   "source": [
    "import numpy as np\n",
    "import pandas as pd\n",
    "import pickle\n",
    "import sys\n",
    "import gc\n",
    "import os\n",
    "import matplotlib.pyplot as plt\n",
    "import glob"
   ]
  },
  {
   "cell_type": "code",
   "execution_count": 8,
   "metadata": {},
   "outputs": [],
   "source": [
    "# Base path\n",
    "tag1 = \"medical\"\n",
    "path = \"/domino/datasets/local/smote_msfb/public_datasets/\" + tag1 + \"/\" ## Path of the input storage data\n",
    "output_loc = \"/repos/smote_msfb/public_datasets/\" + tag1 + \"/\""
   ]
  },
  {
   "cell_type": "code",
   "execution_count": 9,
   "metadata": {},
   "outputs": [
    {
     "data": {
      "text/plain": [
       "'/repos/smote_msfb/public_datasets/medical/'"
      ]
     },
     "execution_count": 9,
     "metadata": {},
     "output_type": "execute_result"
    }
   ],
   "source": [
    "output_loc"
   ]
  },
  {
   "cell_type": "code",
   "execution_count": 10,
   "metadata": {},
   "outputs": [
    {
     "name": "stdout",
     "output_type": "stream",
     "text": [
      "/domino/datasets/local/smote_msfb/public_datasets/medical/target_2\n",
      "/domino/datasets/local/smote_msfb/public_datasets/medical/target_6\n",
      "/domino/datasets/local/smote_msfb/public_datasets/medical/target_3\n",
      "/domino/datasets/local/smote_msfb/public_datasets/medical/target_1\n"
     ]
    }
   ],
   "source": [
    "# Get all matches that start with \"Modelling_Datasets_*\"\n",
    "all_matches = glob.glob(os.path.join(path, \"target*\"))\n",
    "\n",
    "# Keep only the matches that are directories\n",
    "matching_folders = [f for f in all_matches if os.path.isdir(f)]\n",
    "\n",
    "# Print the matching folders\n",
    "for folder in matching_folders:\n",
    "    print(folder)"
   ]
  },
  {
   "cell_type": "code",
   "execution_count": 11,
   "metadata": {},
   "outputs": [],
   "source": [
    "# Known classifier algorithms (lowercase, underscore style)\n",
    "known_classifiers = [\"logistic_regression\", \"naive_bayes\", \"knn_jaccard\"]"
   ]
  },
  {
   "cell_type": "code",
   "execution_count": 12,
   "metadata": {},
   "outputs": [
    {
     "name": "stdout",
     "output_type": "stream",
     "text": [
      "Current Folder Path : /domino/datasets/local/smote_msfb/public_datasets/medical/target_2\n",
      "Current file processing : Cross_Validation_metrics_smoten_naive_bayes.zip\n",
      "Current file processing : Cross_Validation_metrics_smoten_logistic_regression.zip\n",
      "Current file processing : Cross_Validation_metrics_smoten_knn_jaccard.zip\n",
      "Current file processing : Cross_Validation_metrics_smote_msfb1_logistic_regression.zip\n",
      "Current file processing : Cross_Validation_metrics_smote_msfb1_knn_jaccard.zip\n",
      "Current file processing : Cross_Validation_metrics_smote_msfb1_naive_bayes.zip\n",
      "Current Folder Path : /domino/datasets/local/smote_msfb/public_datasets/medical/target_6\n",
      "Current file processing : Cross_Validation_metrics_smoten_naive_bayes.zip\n",
      "Current file processing : Cross_Validation_metrics_smoten_logistic_regression.zip\n",
      "Current file processing : Cross_Validation_metrics_smoten_knn_jaccard.zip\n",
      "Current file processing : Cross_Validation_metrics_smote_msfb1_logistic_regression.zip\n",
      "Current file processing : Cross_Validation_metrics_smote_msfb1_knn_jaccard.zip\n",
      "Current file processing : Cross_Validation_metrics_smote_msfb1_naive_bayes.zip\n",
      "Current Folder Path : /domino/datasets/local/smote_msfb/public_datasets/medical/target_3\n",
      "Current file processing : Cross_Validation_metrics_smoten_naive_bayes.zip\n",
      "Current file processing : Cross_Validation_metrics_smoten_logistic_regression.zip\n",
      "Current file processing : Cross_Validation_metrics_smoten_knn_jaccard.zip\n",
      "Current file processing : Cross_Validation_metrics_smote_msfb1_logistic_regression.zip\n",
      "Current file processing : Cross_Validation_metrics_smote_msfb1_knn_jaccard.zip\n",
      "Current file processing : Cross_Validation_metrics_smote_msfb1_naive_bayes.zip\n",
      "Current Folder Path : /domino/datasets/local/smote_msfb/public_datasets/medical/target_1\n",
      "Current file processing : Cross_Validation_metrics_smoten_naive_bayes.zip\n",
      "Current file processing : Cross_Validation_metrics_smoten_logistic_regression.zip\n",
      "Current file processing : Cross_Validation_metrics_smoten_knn_jaccard.zip\n",
      "Current file processing : Cross_Validation_metrics_smote_msfb1_logistic_regression.zip\n",
      "Current file processing : Cross_Validation_metrics_smote_msfb1_knn_jaccard.zip\n",
      "Current file processing : Cross_Validation_metrics_smote_msfb1_naive_bayes.zip\n"
     ]
    }
   ],
   "source": [
    "# Datasets to process\n",
    "file_names = matching_folders\n",
    "\n",
    "# Initialize dataframe\n",
    "exp_data = pd.DataFrame()\n",
    "\n",
    "# Loop through datasets\n",
    "for file_name in file_names:  \n",
    "             \n",
    "    current_folder_path = os.path.join(file_name)\n",
    "    \n",
    "    print(\"Current Folder Path :\", current_folder_path)\n",
    "        \n",
    "    if not os.path.exists(current_folder_path):             \n",
    "        continue\n",
    "\n",
    "    # Get files starting with the correct prefix\n",
    "    files = [\n",
    "        f for f in os.listdir(current_folder_path) \n",
    "        if f.startswith(\"Cross_Validation_metrics_\") \n",
    "    ]\n",
    "         \n",
    "    for f in files:\n",
    "        print(\"Current file processing :\", f)\n",
    "        file_path = os.path.join(current_folder_path, f)\n",
    "        if not os.path.exists(file_path):\n",
    "            continue         \n",
    "\n",
    "        output_data = pd.read_csv(file_path)\n",
    "\n",
    "        # Strip off file extension and prefix\n",
    "        f_base = f.rsplit(\".\", 1)[0]\n",
    "        prefix = \"Cross_Validation_metrics_\"\n",
    "        if f_base.startswith(prefix):\n",
    "            full_algo_str = f_base[len(prefix):]\n",
    "\n",
    "            matched_clf = None\n",
    "            for clf in known_classifiers:\n",
    "                if full_algo_str.endswith(clf):\n",
    "                    matched_clf = clf\n",
    "                    break\n",
    "\n",
    "            if matched_clf:\n",
    "                resample_algo_f = full_algo_str[:-(len(matched_clf) + 1)]  # remove '_' + classifier\n",
    "                model_algo = matched_clf\n",
    "            else:\n",
    "                resample_algo_f = full_algo_str\n",
    "                model_algo = \"unknown\"\n",
    "\n",
    "            output_data[\"resample_algo\"] = resample_algo_f\n",
    "            output_data[\"model_algo\"] = model_algo\n",
    "\n",
    "        output_data['file_name'] = file_name[file_name.rfind('/') + 1:] \n",
    "        exp_data = pd.concat([exp_data, output_data], ignore_index=True)"
   ]
  },
  {
   "cell_type": "code",
   "execution_count": 13,
   "metadata": {},
   "outputs": [],
   "source": [
    "exp_data['dataset_name'] = tag1"
   ]
  },
  {
   "cell_type": "code",
   "execution_count": 14,
   "metadata": {},
   "outputs": [
    {
     "data": {
      "text/html": [
       "<div>\n",
       "<style scoped>\n",
       "    .dataframe tbody tr th:only-of-type {\n",
       "        vertical-align: middle;\n",
       "    }\n",
       "\n",
       "    .dataframe tbody tr th {\n",
       "        vertical-align: top;\n",
       "    }\n",
       "\n",
       "    .dataframe thead th {\n",
       "        text-align: right;\n",
       "    }\n",
       "</style>\n",
       "<table border=\"1\" class=\"dataframe\">\n",
       "  <thead>\n",
       "    <tr style=\"text-align: right;\">\n",
       "      <th></th>\n",
       "      <th>Avg_Precision</th>\n",
       "      <th>Avg_Recall</th>\n",
       "      <th>Avg_ROC_AUC</th>\n",
       "      <th>Avg_Gmean</th>\n",
       "      <th>resample_algo</th>\n",
       "      <th>model_algo</th>\n",
       "      <th>file_name</th>\n",
       "      <th>dataset_name</th>\n",
       "    </tr>\n",
       "  </thead>\n",
       "  <tbody>\n",
       "    <tr>\n",
       "      <th>0</th>\n",
       "      <td>0.626169</td>\n",
       "      <td>0.962291</td>\n",
       "      <td>0.951679</td>\n",
       "      <td>0.869093</td>\n",
       "      <td>smoten</td>\n",
       "      <td>naive_bayes</td>\n",
       "      <td>target_2</td>\n",
       "      <td>medical</td>\n",
       "    </tr>\n",
       "    <tr>\n",
       "      <th>1</th>\n",
       "      <td>0.882097</td>\n",
       "      <td>0.943578</td>\n",
       "      <td>0.981098</td>\n",
       "      <td>0.947822</td>\n",
       "      <td>smoten</td>\n",
       "      <td>logistic_regression</td>\n",
       "      <td>target_2</td>\n",
       "      <td>medical</td>\n",
       "    </tr>\n",
       "    <tr>\n",
       "      <th>2</th>\n",
       "      <td>0.673707</td>\n",
       "      <td>0.902250</td>\n",
       "      <td>0.926880</td>\n",
       "      <td>0.868286</td>\n",
       "      <td>smoten</td>\n",
       "      <td>knn_jaccard</td>\n",
       "      <td>target_2</td>\n",
       "      <td>medical</td>\n",
       "    </tr>\n",
       "    <tr>\n",
       "      <th>3</th>\n",
       "      <td>0.891204</td>\n",
       "      <td>0.939790</td>\n",
       "      <td>0.983595</td>\n",
       "      <td>0.948077</td>\n",
       "      <td>smote_msfb1</td>\n",
       "      <td>logistic_regression</td>\n",
       "      <td>target_2</td>\n",
       "      <td>medical</td>\n",
       "    </tr>\n",
       "    <tr>\n",
       "      <th>4</th>\n",
       "      <td>0.733422</td>\n",
       "      <td>0.849389</td>\n",
       "      <td>0.944075</td>\n",
       "      <td>0.866169</td>\n",
       "      <td>smote_msfb1</td>\n",
       "      <td>knn_jaccard</td>\n",
       "      <td>target_2</td>\n",
       "      <td>medical</td>\n",
       "    </tr>\n",
       "    <tr>\n",
       "      <th>5</th>\n",
       "      <td>0.752920</td>\n",
       "      <td>0.811680</td>\n",
       "      <td>0.942403</td>\n",
       "      <td>0.853652</td>\n",
       "      <td>smote_msfb1</td>\n",
       "      <td>naive_bayes</td>\n",
       "      <td>target_2</td>\n",
       "      <td>medical</td>\n",
       "    </tr>\n",
       "    <tr>\n",
       "      <th>6</th>\n",
       "      <td>0.423385</td>\n",
       "      <td>0.809874</td>\n",
       "      <td>0.900724</td>\n",
       "      <td>0.814363</td>\n",
       "      <td>smoten</td>\n",
       "      <td>naive_bayes</td>\n",
       "      <td>target_6</td>\n",
       "      <td>medical</td>\n",
       "    </tr>\n",
       "    <tr>\n",
       "      <th>7</th>\n",
       "      <td>0.815898</td>\n",
       "      <td>0.868277</td>\n",
       "      <td>0.968056</td>\n",
       "      <td>0.916436</td>\n",
       "      <td>smoten</td>\n",
       "      <td>logistic_regression</td>\n",
       "      <td>target_6</td>\n",
       "      <td>medical</td>\n",
       "    </tr>\n",
       "    <tr>\n",
       "      <th>8</th>\n",
       "      <td>0.511285</td>\n",
       "      <td>0.765756</td>\n",
       "      <td>0.906537</td>\n",
       "      <td>0.820510</td>\n",
       "      <td>smoten</td>\n",
       "      <td>knn_jaccard</td>\n",
       "      <td>target_6</td>\n",
       "      <td>medical</td>\n",
       "    </tr>\n",
       "  </tbody>\n",
       "</table>\n",
       "</div>"
      ],
      "text/plain": [
       "   Avg_Precision  Avg_Recall  Avg_ROC_AUC  Avg_Gmean resample_algo  \\\n",
       "0       0.626169    0.962291     0.951679   0.869093        smoten   \n",
       "1       0.882097    0.943578     0.981098   0.947822        smoten   \n",
       "2       0.673707    0.902250     0.926880   0.868286        smoten   \n",
       "3       0.891204    0.939790     0.983595   0.948077   smote_msfb1   \n",
       "4       0.733422    0.849389     0.944075   0.866169   smote_msfb1   \n",
       "5       0.752920    0.811680     0.942403   0.853652   smote_msfb1   \n",
       "6       0.423385    0.809874     0.900724   0.814363        smoten   \n",
       "7       0.815898    0.868277     0.968056   0.916436        smoten   \n",
       "8       0.511285    0.765756     0.906537   0.820510        smoten   \n",
       "\n",
       "            model_algo file_name dataset_name  \n",
       "0          naive_bayes  target_2      medical  \n",
       "1  logistic_regression  target_2      medical  \n",
       "2          knn_jaccard  target_2      medical  \n",
       "3  logistic_regression  target_2      medical  \n",
       "4          knn_jaccard  target_2      medical  \n",
       "5          naive_bayes  target_2      medical  \n",
       "6          naive_bayes  target_6      medical  \n",
       "7  logistic_regression  target_6      medical  \n",
       "8          knn_jaccard  target_6      medical  "
      ]
     },
     "execution_count": 14,
     "metadata": {},
     "output_type": "execute_result"
    }
   ],
   "source": [
    "exp_data.head(9)"
   ]
  },
  {
   "cell_type": "code",
   "execution_count": 15,
   "metadata": {},
   "outputs": [],
   "source": [
    "exp_data['Avg_f1_score'] = 1 / ( (1/exp_data['Avg_Precision']) + (1/exp_data['Avg_Recall']) )\n",
    "exp_data = exp_data.sort_values(by=['resample_algo', 'model_algo'])"
   ]
  },
  {
   "cell_type": "code",
   "execution_count": 16,
   "metadata": {},
   "outputs": [
    {
     "data": {
      "text/plain": [
       "array(['knn_jaccard', 'logistic_regression', 'naive_bayes'], dtype=object)"
      ]
     },
     "execution_count": 16,
     "metadata": {},
     "output_type": "execute_result"
    }
   ],
   "source": [
    "exp_data['model_algo'].unique()"
   ]
  },
  {
   "cell_type": "code",
   "execution_count": 17,
   "metadata": {},
   "outputs": [
    {
     "data": {
      "text/plain": [
       "array(['smote_msfb1', 'smoten'], dtype=object)"
      ]
     },
     "execution_count": 17,
     "metadata": {},
     "output_type": "execute_result"
    }
   ],
   "source": [
    "exp_data['resample_algo'].unique()"
   ]
  },
  {
   "cell_type": "code",
   "execution_count": 18,
   "metadata": {},
   "outputs": [],
   "source": [
    "exp_data.to_csv(output_loc + tag1 + \"_model_comparison_results.csv\")"
   ]
  },
  {
   "cell_type": "code",
   "execution_count": null,
   "metadata": {},
   "outputs": [],
   "source": []
  },
  {
   "cell_type": "code",
   "execution_count": null,
   "metadata": {},
   "outputs": [],
   "source": []
  }
 ],
 "metadata": {
  "colab": {
   "provenance": []
  },
  "kernelspec": {
   "display_name": "Python 3 (ipykernel)",
   "language": "python",
   "name": "python3"
  },
  "language_info": {
   "codemirror_mode": {
    "name": "ipython",
    "version": 3
   },
   "file_extension": ".py",
   "mimetype": "text/x-python",
   "name": "python",
   "nbconvert_exporter": "python",
   "pygments_lexer": "ipython3",
   "version": "3.8.10"
  }
 },
 "nbformat": 4,
 "nbformat_minor": 4
}
