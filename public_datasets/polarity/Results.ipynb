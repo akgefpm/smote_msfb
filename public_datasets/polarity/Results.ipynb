{
 "cells": [
  {
   "cell_type": "code",
   "execution_count": null,
   "metadata": {
    "colab": {
     "base_uri": "https://localhost:8080/"
    },
    "id": "sxcU4TYZMx7E",
    "outputId": "b04e5bda-7ea8-435f-bba3-db3c0bc6eed9"
   },
   "outputs": [],
   "source": [
    "# Code to run simulations on synthetic data to test the accuracy of the new algorithm"
   ]
  },
  {
   "cell_type": "code",
   "execution_count": 1,
   "metadata": {
    "id": "9f_4aQ42NZbt"
   },
   "outputs": [],
   "source": [
    "import numpy as np\n",
    "import pandas as pd\n",
    "import pickle\n",
    "import sys\n",
    "import gc\n",
    "import os\n",
    "import matplotlib.pyplot as plt\n",
    "import glob"
   ]
  },
  {
   "cell_type": "code",
   "execution_count": 2,
   "metadata": {},
   "outputs": [],
   "source": [
    "# Base path\n",
    "tag1 = \"polarity\"\n",
    "path = \"/domino/datasets/local/smote_msfb/public_datasets/\" + tag1 ## Path of the input storage data\n",
    "output_loc = \"/repos/smote_msfb/public_datasets/\" + tag1"
   ]
  },
  {
   "cell_type": "code",
   "execution_count": 3,
   "metadata": {},
   "outputs": [
    {
     "name": "stdout",
     "output_type": "stream",
     "text": [
      "/domino/datasets/local/smote_msfb/public_datasets/polarity/target\n"
     ]
    }
   ],
   "source": [
    "# Get all matches that start with \"Modelling_Datasets_*\"\n",
    "all_matches = glob.glob(os.path.join(path, \"target*\"))\n",
    "\n",
    "# Keep only the matches that are directories\n",
    "matching_folders = [f for f in all_matches if os.path.isdir(f)]\n",
    "\n",
    "# Print the matching folders\n",
    "for folder in matching_folders:\n",
    "    print(folder)"
   ]
  },
  {
   "cell_type": "code",
   "execution_count": 4,
   "metadata": {},
   "outputs": [],
   "source": [
    "# Known classifier algorithms (lowercase, underscore style)\n",
    "known_classifiers = [\"logistic_regression\", \"naive_bayes\", \"knn_jaccard\"]"
   ]
  },
  {
   "cell_type": "code",
   "execution_count": 13,
   "metadata": {},
   "outputs": [
    {
     "name": "stdout",
     "output_type": "stream",
     "text": [
      "Current Folder Path : /domino/datasets/local/smote_msfb/public_datasets/polarity/target\n",
      "Current file processing : Cross_Validation_metrics_smoten_naive_bayes.zip\n",
      "Current file processing : Cross_Validation_metrics_smoten_logistic_regression.zip\n",
      "Current file processing : Cross_Validation_metrics_smoten_knn_jaccard.zip\n",
      "Current file processing : Cross_Validation_metrics_smote_msfb1_logistic_regression.zip\n",
      "Current file processing : Cross_Validation_metrics_smote_msfb1_knn_jaccard.zip\n",
      "Current file processing : Cross_Validation_metrics_smote_msfb1_naive_bayes.zip\n"
     ]
    }
   ],
   "source": [
    "# Datasets to process\n",
    "file_names = matching_folders\n",
    "\n",
    "# Initialize dataframe\n",
    "exp_data = pd.DataFrame()\n",
    "\n",
    "# Loop through datasets\n",
    "for file_name in file_names:  \n",
    "             \n",
    "    current_folder_path = os.path.join(file_name)\n",
    "    \n",
    "    print(\"Current Folder Path :\", current_folder_path)\n",
    "        \n",
    "    if not os.path.exists(current_folder_path):             \n",
    "        continue\n",
    "\n",
    "    # Get files starting with the correct prefix\n",
    "    files = [\n",
    "        f for f in os.listdir(current_folder_path) \n",
    "        if f.startswith(\"Cross_Validation_metrics_\") \n",
    "    ]\n",
    "         \n",
    "    for f in files:\n",
    "        print(\"Current file processing :\", f)\n",
    "        file_path = os.path.join(current_folder_path, f)\n",
    "        if not os.path.exists(file_path):\n",
    "            continue         \n",
    "\n",
    "        output_data = pd.read_csv(file_path)\n",
    "\n",
    "        # Strip off file extension and prefix\n",
    "        f_base = f.rsplit(\".\", 1)[0]\n",
    "        prefix = \"Cross_Validation_metrics_\"\n",
    "        if f_base.startswith(prefix):\n",
    "            full_algo_str = f_base[len(prefix):]\n",
    "\n",
    "            matched_clf = None\n",
    "            for clf in known_classifiers:\n",
    "                if full_algo_str.endswith(clf):\n",
    "                    matched_clf = clf\n",
    "                    break\n",
    "\n",
    "            if matched_clf:\n",
    "                resample_algo_f = full_algo_str[:-(len(matched_clf) + 1)]  # remove '_' + classifier\n",
    "                model_algo = matched_clf\n",
    "            else:\n",
    "                resample_algo_f = full_algo_str\n",
    "                model_algo = \"unknown\"\n",
    "\n",
    "            output_data[\"resample_algo\"] = resample_algo_f\n",
    "            output_data[\"model_algo\"] = model_algo\n",
    "\n",
    "        output_data['file_name'] = file_name[file_name.rfind('/') + 1:] \n",
    "        exp_data = pd.concat([exp_data, output_data], ignore_index=True)"
   ]
  },
  {
   "cell_type": "code",
   "execution_count": 19,
   "metadata": {},
   "outputs": [],
   "source": [
    "exp_data['dataset_name'] = tag1"
   ]
  },
  {
   "cell_type": "code",
   "execution_count": 20,
   "metadata": {},
   "outputs": [
    {
     "data": {
      "text/html": [
       "<div>\n",
       "<style scoped>\n",
       "    .dataframe tbody tr th:only-of-type {\n",
       "        vertical-align: middle;\n",
       "    }\n",
       "\n",
       "    .dataframe tbody tr th {\n",
       "        vertical-align: top;\n",
       "    }\n",
       "\n",
       "    .dataframe thead th {\n",
       "        text-align: right;\n",
       "    }\n",
       "</style>\n",
       "<table border=\"1\" class=\"dataframe\">\n",
       "  <thead>\n",
       "    <tr style=\"text-align: right;\">\n",
       "      <th></th>\n",
       "      <th>Avg_Precision</th>\n",
       "      <th>Avg_Recall</th>\n",
       "      <th>Avg_ROC_AUC</th>\n",
       "      <th>Avg_Gmean</th>\n",
       "      <th>resample_algo</th>\n",
       "      <th>model_algo</th>\n",
       "      <th>file_name</th>\n",
       "      <th>Avg_f1_score</th>\n",
       "      <th>dataset_name</th>\n",
       "    </tr>\n",
       "  </thead>\n",
       "  <tbody>\n",
       "    <tr>\n",
       "      <th>4</th>\n",
       "      <td>0.236310</td>\n",
       "      <td>0.21</td>\n",
       "      <td>0.71340</td>\n",
       "      <td>0.378982</td>\n",
       "      <td>smote_msfb1</td>\n",
       "      <td>knn_jaccard</td>\n",
       "      <td>target</td>\n",
       "      <td>0.111190</td>\n",
       "      <td>polarity</td>\n",
       "    </tr>\n",
       "    <tr>\n",
       "      <th>3</th>\n",
       "      <td>1.000000</td>\n",
       "      <td>0.09</td>\n",
       "      <td>0.86616</td>\n",
       "      <td>0.293916</td>\n",
       "      <td>smote_msfb1</td>\n",
       "      <td>logistic_regression</td>\n",
       "      <td>target</td>\n",
       "      <td>0.082569</td>\n",
       "      <td>polarity</td>\n",
       "    </tr>\n",
       "    <tr>\n",
       "      <th>5</th>\n",
       "      <td>0.416667</td>\n",
       "      <td>0.03</td>\n",
       "      <td>0.63586</td>\n",
       "      <td>0.120569</td>\n",
       "      <td>smote_msfb1</td>\n",
       "      <td>naive_bayes</td>\n",
       "      <td>target</td>\n",
       "      <td>0.027985</td>\n",
       "      <td>polarity</td>\n",
       "    </tr>\n",
       "    <tr>\n",
       "      <th>2</th>\n",
       "      <td>0.475000</td>\n",
       "      <td>0.09</td>\n",
       "      <td>0.71136</td>\n",
       "      <td>0.292348</td>\n",
       "      <td>smoten</td>\n",
       "      <td>knn_jaccard</td>\n",
       "      <td>target</td>\n",
       "      <td>0.075664</td>\n",
       "      <td>polarity</td>\n",
       "    </tr>\n",
       "    <tr>\n",
       "      <th>1</th>\n",
       "      <td>0.400000</td>\n",
       "      <td>0.08</td>\n",
       "      <td>0.76524</td>\n",
       "      <td>0.235654</td>\n",
       "      <td>smoten</td>\n",
       "      <td>logistic_regression</td>\n",
       "      <td>target</td>\n",
       "      <td>0.066667</td>\n",
       "      <td>polarity</td>\n",
       "    </tr>\n",
       "    <tr>\n",
       "      <th>0</th>\n",
       "      <td>0.118687</td>\n",
       "      <td>0.05</td>\n",
       "      <td>0.47166</td>\n",
       "      <td>0.183389</td>\n",
       "      <td>smoten</td>\n",
       "      <td>naive_bayes</td>\n",
       "      <td>target</td>\n",
       "      <td>0.035180</td>\n",
       "      <td>polarity</td>\n",
       "    </tr>\n",
       "  </tbody>\n",
       "</table>\n",
       "</div>"
      ],
      "text/plain": [
       "   Avg_Precision  Avg_Recall  Avg_ROC_AUC  Avg_Gmean resample_algo  \\\n",
       "4       0.236310        0.21      0.71340   0.378982   smote_msfb1   \n",
       "3       1.000000        0.09      0.86616   0.293916   smote_msfb1   \n",
       "5       0.416667        0.03      0.63586   0.120569   smote_msfb1   \n",
       "2       0.475000        0.09      0.71136   0.292348        smoten   \n",
       "1       0.400000        0.08      0.76524   0.235654        smoten   \n",
       "0       0.118687        0.05      0.47166   0.183389        smoten   \n",
       "\n",
       "            model_algo file_name  Avg_f1_score dataset_name  \n",
       "4          knn_jaccard    target      0.111190     polarity  \n",
       "3  logistic_regression    target      0.082569     polarity  \n",
       "5          naive_bayes    target      0.027985     polarity  \n",
       "2          knn_jaccard    target      0.075664     polarity  \n",
       "1  logistic_regression    target      0.066667     polarity  \n",
       "0          naive_bayes    target      0.035180     polarity  "
      ]
     },
     "execution_count": 20,
     "metadata": {},
     "output_type": "execute_result"
    }
   ],
   "source": [
    "exp_data.head(9)"
   ]
  },
  {
   "cell_type": "code",
   "execution_count": 21,
   "metadata": {},
   "outputs": [],
   "source": [
    "exp_data['Avg_f1_score'] = 1 / ( (1/exp_data['Avg_Precision']) + (1/exp_data['Avg_Recall']) )\n",
    "exp_data = exp_data.sort_values(by=['resample_algo', 'model_algo'])"
   ]
  },
  {
   "cell_type": "code",
   "execution_count": 22,
   "metadata": {},
   "outputs": [
    {
     "data": {
      "text/plain": [
       "array(['knn_jaccard', 'logistic_regression', 'naive_bayes'], dtype=object)"
      ]
     },
     "execution_count": 22,
     "metadata": {},
     "output_type": "execute_result"
    }
   ],
   "source": [
    "exp_data['model_algo'].unique()"
   ]
  },
  {
   "cell_type": "code",
   "execution_count": 23,
   "metadata": {},
   "outputs": [
    {
     "data": {
      "text/plain": [
       "array(['smote_msfb1', 'smoten'], dtype=object)"
      ]
     },
     "execution_count": 23,
     "metadata": {},
     "output_type": "execute_result"
    }
   ],
   "source": [
    "exp_data['resample_algo'].unique()"
   ]
  },
  {
   "cell_type": "code",
   "execution_count": 24,
   "metadata": {},
   "outputs": [],
   "source": [
    "exp_data.to_csv(output_loc + tag1 + \"_model_comparison_results.csv\")"
   ]
  },
  {
   "cell_type": "code",
   "execution_count": null,
   "metadata": {},
   "outputs": [],
   "source": []
  },
  {
   "cell_type": "code",
   "execution_count": null,
   "metadata": {},
   "outputs": [],
   "source": []
  }
 ],
 "metadata": {
  "colab": {
   "provenance": []
  },
  "kernelspec": {
   "display_name": "Python 3 (ipykernel)",
   "language": "python",
   "name": "python3"
  },
  "language_info": {
   "codemirror_mode": {
    "name": "ipython",
    "version": 3
   },
   "file_extension": ".py",
   "mimetype": "text/x-python",
   "name": "python",
   "nbconvert_exporter": "python",
   "pygments_lexer": "ipython3",
   "version": "3.8.10"
  }
 },
 "nbformat": 4,
 "nbformat_minor": 4
}
