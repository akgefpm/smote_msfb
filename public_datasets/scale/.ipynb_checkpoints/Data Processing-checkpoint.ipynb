{
 "cells": [
  {
   "cell_type": "code",
   "execution_count": 1,
   "id": "23f967da-7de4-4a57-8675-4030e6cc399c",
   "metadata": {},
   "outputs": [
    {
     "name": "stderr",
     "output_type": "stream",
     "text": [
      "[nltk_data] Downloading package stopwords to /home/ubuntu/nltk_data...\n",
      "[nltk_data]   Package stopwords is already up-to-date!\n"
     ]
    },
    {
     "data": {
      "text/plain": [
       "True"
      ]
     },
     "execution_count": 1,
     "metadata": {},
     "output_type": "execute_result"
    }
   ],
   "source": [
    "import string\n",
    "import nltk\n",
    "from sklearn.feature_extraction.text import CountVectorizer\n",
    "from nltk.corpus import stopwords\n",
    "from nltk.stem import PorterStemmer\n",
    "import pandas as pd\n",
    "import numpy as np\n",
    "\n",
    "# Download stopwords if not already done\n",
    "nltk.download('stopwords')"
   ]
  },
  {
   "cell_type": "code",
   "execution_count": 2,
   "id": "8b2e46aa-3485-4519-847e-3c535fa2e45d",
   "metadata": {},
   "outputs": [],
   "source": [
    "path = \"/domino/datasets/local/CustomerSegmentation/public_datasets/scale/scaledata/\"\n",
    "author = \"Scott+Renshaw\"\n",
    "output_path = \"/domino/datasets/local/CustomerSegmentation/public_datasets/scale/\""
   ]
  },
  {
   "cell_type": "code",
   "execution_count": 3,
   "id": "cdfad6d5-85a5-4b15-8458-86f6286558b9",
   "metadata": {},
   "outputs": [
    {
     "name": "stdout",
     "output_type": "stream",
     "text": [
      "Review 1:\n",
      "i'm guessing -- and from the available evidence , it's not a great guess -- that burn hollywood burn began life as an insider satire of hollywood excess , stupidity , ego and power-mongering . if so , the film that ended up on the screen ranks as one of the most spectacularly ironic unintentional jokes in film history . that left a film satire in the hands of writer joe eszterhas , as humorless a hack as ever put finger to word processor . and you could just smell the disaster brewing . if you're unfortunate enough to sit through burn hollywood burn , you'll still be smelling that disaster long after the lights come up . it's bad enough that burn hollywood burn has -- literally -- not a single laugh for its entire , blissfully brief 84 minutes . what makes it even worse is eszterhas' insistence upon telling every bad joke not once , but twice or even three times . michael ovitz references , showgirls references , oral sex references , whoopi goldberg/ted danson references -- all show up multiple times with all the subtlety that is eszterhas' stock-in-trade . the reduncancy even manages to turn actively offensive with some frequency , notably with the hilarious use of the word \" feminist \" as an identifying caption for every single female character in the film . those documentary captions , for all their leaden obviousness , allow the best insight into what's so hideously wrong with burn hollywood burn . not content to stick any hollywood type with only one jab from his rapier wit , eszterhas fills the screen with bullet points every time a new character appears . this is a petulant schoolboy's idea of satire -- pictures of hollywood insiders to which eszterhas has taken a pen to draw little moustaches and black out the teeth . the last stomach-churning straw comes when burn hollywood burn closes with out-takes over the closing credits , the kind that show the audience how much fun everyone was having making the film that just sucked an hour and a half of your life away . pity everyone involved with this excessive , ego-driven \" satire \" of excess and ego . it's too bad that only directors can remove their names from noxious material like this . otherwise , you might have seen credits for burn hollywood burn overflowing with alan smithees . see the moviepage for details , or reply to this message with subject line \" subscribe \" .\n",
      "\n",
      "Review 2:\n",
      "there's bad buzz , and then there's the the bad buzz which surrounded the avengers , the kind that sounds like a swarm of africanized bees after a particularly vigorous hive-shaking . a gratuitous \" f-word \" had even been added to bump the rating from a pg to pg-13 . then , all the worst fears seemed to be confirmed when warner bros . announced that no advance screenings would be held for the media . you may think you're ready for the possibility that a film could be bad , but little can prepare you for something as pointless , smug and misguided as the avengers . it is the latter which proves most instantly and consistently grating in the avengers . ralph fiennes and uma thurman spend most of their scenes together engaging in a smirk throwing contest , each one trying to look the most amused with him or herself , eyebrows so prominently arched you're afraid someone might sprain something . this despite the fact that don macpherson's dialogue is a study in witlessness , tossing out embarrassing puns as though they were saucy enough to turn oscar wilde green with envy . though they generally appear content to let their wardrobe do most of the acting for them , fiennes and thurman should be commended for one impressive demonstration of dramatic skill : they're able to treat the most mundane comments as though they were nuggets of pure comic gold bestowed upon the world . that kind of quip-heavy self-awareness was certainly true of the namesake television series as well , so what's so wrong with this variation on the theme ? in short , both the personnel and the context . patrick macnee and diana rigg , the most celebrated of the series' pairings , shared a genuine chemistry which made the romantic tension fun to watch . fiennes and thurman appear far too enamored of their own charm and cleverness to bother connecting with one another . they're also dropped into a summer blockbuster milieu entirely inappropriate for light-hearted capering . imagine an episode of the old \" batman \" series with a $70 million budget , and you'll understand what's so wrong with the avengers . it's hard to endear yourself to an audience with low-tech campiness at the same time you're blowing something up every 10 minutes , or sending huge mechanical insects after our heroes like something out of the speeder bike chase from return of the jedi . we're long past the point of pretending that plot or character has anything to do with 1990s-model hollywood summer fare , so i won't even bother slapping the avengers around for exhibiting symptoms of that particular contagious disease . but such a film has to give you something to latch on to : engaging performers , effective pacing , a decent villain to hiss . not even sean connery , blustering about without the faintest idea why his character does anything , can pump up the charisma quotient of this tedious car wreck of a film . the closest recent analog to the avengers is batman and robin , but at least batman and robin had its sheer momenteum and comic-book gaudiness to salvage it . the avengers is just action sequences in search of a movie , actors in search of a reason to keep smirking . crimes against film audiences must be avenged ; the buzz of surly patrons coming out of the theater may be even more frightening than the buzz on the film . see the moviepage for details , or reply to this message with subject line \" subscribe \" .\n",
      "\n",
      "Review 3:\n",
      "director : richard rush . director richard rush made his last film in 1980 , a sly thriller called the stunt man which was one of the year's critical favorites . and it looks like he may have to wait another fifteen years before anyone * lets * him direct again . soon , however , it appears that capa may also be the target of intended foul play . if it were not for my personal code of ethics , i would reveal every plot twist in color of night , since they are probably the only thing which will keep anyone watching until the bitter end . on the other hand , i'm not even sure it's necessary . color of night is so sledgehammer-subtle that it would surprise me if anyone couldn't figure out the identity of the killer in the first scene in which the individual appears . sadly , it's just one of the many ways they treat the audience like it's made up of morons . in one sequence , the killer uses a car to push another car off the top level of a parking garage , endowed with a supernatural foreknowledge of exactly where willis is going to be walking below . then there are more basic matters of stupidity , such as the condition from which the film takes its title , willis' inability to see red after the death of his patient . it has absolutely no bearing on the story , is sloppily presented through occasional perspective shots , and is just another example of the offensively simplistic psychology employed by the screenwriters . the main question is whether the true criminals are the writers or the actors . but who was the most abysmal ? the whole bunch should have their sag privileges suspended . color of night was the subject of a much-publicized battle with the mpaa over explicit sex scenes which threatened to earn it an nc-17 rating , but don't be duped . color of night is about as sexy as a lump of cold mashed potatoes , and less aesthetically pleasing . it's also extremely violent , particularly in the last fifteen minutes which includes some intensely unpleasant business with a nail gun . in 1980 richard rush clearly knew how to make a good movie . i guess directing isn't exactly like riding a bike . or in this case , like driving a garbage truck .\n",
      "\n",
      "Review 4:\n",
      "screenplay : johnny brennan & kamal ahmed and james melkonian & rich wilkes . director : james melkonian . there is a regular feature in \" sports illustrated \" magazine devoted to examples of astounding stupidity . it is titled \" this week's sign that the apocalypse is upon us . \" that phrase kept running through my head as i sat through the jerky boys . somehow , two obnoxious losers had managed to parlay a fascination with juvenile humor and prank phone calls into an incredibly popular pair of audio releases and a movie deal . and the worst thing is , * none * of it is funny . the jerky boys is a terrible idea badly executed . and it will undoubtedly be extremely profitable . let us begin here : the idea of building a movie around prank phone calls is somewhat mind-boggling to begin with . the jerky boys is full of shots of phones ringing , of stationary speaker phones , of people talking on the phone . i'm hard-pressed to think of any way such a format could have been turned into riveting cinema . then again , the jerky boys never had to be riveting cinema . this is a movie about one thing , giving two idiots a chance to do their schtick , which consists entirely of insults , threats and silly voices . in a strange way , it's a little like the old elvis presley movies , in which it didn't matter what was going on in the plot , as long as elvis got a chance to sing . that was what the people were coming for . i have listened to the \" jerky boys \" cd , and i think it is spectacularly unfunny , but there could be some minor entertainment value in the befuddled reactions of the recipients of the calls . of course , that simply is not possible in a movie ; everyone is in on the gag , so you end up with a lot of reaction shots of actors fuming in mock frustration . and there are few things sadder than the fact that one of those actors is alan arkin . much has been and will be written about the jerky boys as not simply a bad movie , but as part of a horrible trend , the logical successor ( if logical is the word i want to use ) to the popularity of dumb and dumber , \" beavis and butthead \" and the like . not only does treating the jerky boys in this way give it far more sociological importance than it deserves , it insults those other examples by comparison . as bad as dumb and dumber was , at least someone was trying ; as stupid as \" beavis and butthead \" can be , at least they are rooted in satire . the jerky boys is simply junior high school humor aimed at junior high schoolers . it is aimed squarely at those who are guaranteed to burst into uproarious and self-righteous laughter at swishy gay stereotypes and copious expletives . if hearing someone intone the word \" liverlips \" several times is your idea of yuks galore , then by all means toss your $7 into the jerky boys' coffers . i suspect few moviegoers old enough to get into this movie legally will waste their money or their time .\n",
      "\n",
      "Review 5:\n",
      "screenplay : tim burns & tom stern and anthony waller . director : anthony waller . mpaa rating : r ( violence , nudity , adult themes , profanity ) running time : 91 minutes . it's a truly surreal experience , sitting through a film like an american werewolf in paris with your mind overwhelmed by a piercing cry of \" what were they _thinking_ ? \" john landis' 1981 an american werewolf in london was hardly an inviolable classic , but it was crafty and creative , a comic horror film which was both genuinely scary and genuinely funny . an american werewolf in paris , on the other hand , is genuinely unwatchable -- a collection of bad ideas thrown onto the screen without any apparent consideration to little details like coherence or appeal to an audience . the tragedy is that director anthony waller proved he could mix tension and comic relief quite effectively in his debut feature mute witness . what follows is so misguided on so many levels that it becomes horrifying for all the wrong reasons . the male leads fumble with inane dialogue including such gen x-authentic ripostes as \" this is madness ! \" ; the attempts at humor range from turning a pair of undead characters into fourth-rate rejects from the frighteners , to the wildly hilarious conceit that andy -- get this ! -- keeps bumping his head on everything in sight . waller directs it all as though guided by the humanitarian desire just to get it over with , with baffling unexplained resolutions , leading to a cringe-inducing happy ending which looks like it was stolen from some mid-80s shlock comedy starring andrew mccarthy . it's all the more aggravating when a film this sloppy pretends to be interested in making some sort of social statement . the primary villains in paris are a group of pseudo-skinheads who have intentionally infected themselves with were-blood so that they might more efficiently rid french society of its contaminating elements -- vagrants , junkies , american tourists . if the point was to make americans feel better about encountering mere attitude in paris rather than flesh-rending canine teeth , mission accomplished . if waller's intent was to offer some metaphorical indictment of who-knows-what , it's lost in his frantic story-telling long before we can nod in socially-conscious superiority . some viewers will undoubtedly trek to paris simmply to see a genre film , but even they are likely to be disappointed . the computer-generated werewolves are thoroughly unimpressive , and the transformation scene tossed off so quickly you'll be instantly nostalgic for rick baker's incredible makeup effects from london . the script makes its token attempts to spice up the werewolf legend with a few new details and some pseudo-science , but none of it generates thrills or scares ( just a couple of moderately effective gross-outs ) . if they want to add a new twist to lycanthropic mythology , here's a suggestion : anyone who makes a werewolf movie this bad becomes one of them . the line to fire the silver bullets forms behind me . see the moviepage for details , or reply to this message with subject line \" subscribe \" .\n",
      "\n"
     ]
    }
   ],
   "source": [
    "# Set the path to the specific author's file\n",
    "file_path = path + author + '/subj.' + author\n",
    "\n",
    "# Read all lines (each line = one review)\n",
    "with open(file_path, 'r', encoding='utf-8') as f:\n",
    "    reviews = f.readlines()\n",
    "\n",
    "# Optional: strip newline characters\n",
    "reviews = [review.strip() for review in reviews]\n",
    "\n",
    "# Example: print first 5 reviews\n",
    "for i, review in enumerate(reviews[:5]):\n",
    "    print(f\"Review {i+1}:\\n{review}\\n\")\n"
   ]
  },
  {
   "cell_type": "code",
   "execution_count": 4,
   "id": "c0292e98-798c-44e4-9951-87d98437660e",
   "metadata": {},
   "outputs": [],
   "source": [
    "# Initialize tools\n",
    "stop_words = set(stopwords.words('english'))\n",
    "stemmer = PorterStemmer()\n",
    "\n",
    "# Sample list: replace with your loaded reviews\n",
    "# reviews = [...]\n",
    "\n",
    "# Step 1: Text preprocessing\n",
    "def preprocess_text(text):\n",
    "    # Lowercase\n",
    "    text = text.lower()\n",
    "    # Remove punctuation\n",
    "    text = text.translate(str.maketrans('', '', string.punctuation))\n",
    "    # Tokenize and remove stopwords\n",
    "    tokens = text.split()\n",
    "    tokens = [stemmer.stem(word) for word in tokens if word not in stop_words]\n",
    "    return ' '.join(tokens)\n",
    "\n",
    "# Apply preprocessing\n",
    "preprocessed_reviews = [preprocess_text(review) for review in reviews]\n",
    "\n",
    "# Step 2: Binary Bag-of-Words vectorization\n",
    "vectorizer = CountVectorizer(binary=True)\n",
    "X = vectorizer.fit_transform(preprocessed_reviews)\n",
    "\n",
    "# Optional: Convert to DataFrame for easier inspection\n",
    "import pandas as pd\n",
    "X_df = pd.DataFrame(X.toarray(), columns=vectorizer.get_feature_names())"
   ]
  },
  {
   "cell_type": "code",
   "execution_count": 5,
   "id": "b4e7e8d1-c470-4bc5-b497-1feeeb4851aa",
   "metadata": {},
   "outputs": [
    {
     "data": {
      "text/plain": [
       "(902, 17443)"
      ]
     },
     "execution_count": 5,
     "metadata": {},
     "output_type": "execute_result"
    }
   ],
   "source": [
    "X_df.shape"
   ]
  },
  {
   "cell_type": "code",
   "execution_count": 6,
   "id": "cea0744a-305e-4182-8fa0-92e8def8c593",
   "metadata": {},
   "outputs": [
    {
     "data": {
      "text/html": [
       "<div>\n",
       "<style scoped>\n",
       "    .dataframe tbody tr th:only-of-type {\n",
       "        vertical-align: middle;\n",
       "    }\n",
       "\n",
       "    .dataframe tbody tr th {\n",
       "        vertical-align: top;\n",
       "    }\n",
       "\n",
       "    .dataframe thead th {\n",
       "        text-align: right;\n",
       "    }\n",
       "</style>\n",
       "<table border=\"1\" class=\"dataframe\">\n",
       "  <thead>\n",
       "    <tr style=\"text-align: right;\">\n",
       "      <th></th>\n",
       "      <th>00</th>\n",
       "      <th>000</th>\n",
       "      <th>000yearold</th>\n",
       "      <th>007</th>\n",
       "      <th>05</th>\n",
       "      <th>10</th>\n",
       "      <th>100</th>\n",
       "      <th>100th</th>\n",
       "      <th>101</th>\n",
       "      <th>102</th>\n",
       "      <th>...</th>\n",
       "      <th>zoomin</th>\n",
       "      <th>zoomtocloseup</th>\n",
       "      <th>zord</th>\n",
       "      <th>zorro</th>\n",
       "      <th>zs</th>\n",
       "      <th>zsigmond</th>\n",
       "      <th>zucker</th>\n",
       "      <th>zuckerabrahamszuck</th>\n",
       "      <th>zweibel</th>\n",
       "      <th>zwick</th>\n",
       "    </tr>\n",
       "  </thead>\n",
       "  <tbody>\n",
       "    <tr>\n",
       "      <th>0</th>\n",
       "      <td>0</td>\n",
       "      <td>0</td>\n",
       "      <td>0</td>\n",
       "      <td>0</td>\n",
       "      <td>0</td>\n",
       "      <td>0</td>\n",
       "      <td>0</td>\n",
       "      <td>0</td>\n",
       "      <td>0</td>\n",
       "      <td>0</td>\n",
       "      <td>...</td>\n",
       "      <td>0</td>\n",
       "      <td>0</td>\n",
       "      <td>0</td>\n",
       "      <td>0</td>\n",
       "      <td>0</td>\n",
       "      <td>0</td>\n",
       "      <td>0</td>\n",
       "      <td>0</td>\n",
       "      <td>0</td>\n",
       "      <td>0</td>\n",
       "    </tr>\n",
       "    <tr>\n",
       "      <th>1</th>\n",
       "      <td>0</td>\n",
       "      <td>0</td>\n",
       "      <td>0</td>\n",
       "      <td>0</td>\n",
       "      <td>0</td>\n",
       "      <td>1</td>\n",
       "      <td>0</td>\n",
       "      <td>0</td>\n",
       "      <td>0</td>\n",
       "      <td>0</td>\n",
       "      <td>...</td>\n",
       "      <td>0</td>\n",
       "      <td>0</td>\n",
       "      <td>0</td>\n",
       "      <td>0</td>\n",
       "      <td>0</td>\n",
       "      <td>0</td>\n",
       "      <td>0</td>\n",
       "      <td>0</td>\n",
       "      <td>0</td>\n",
       "      <td>0</td>\n",
       "    </tr>\n",
       "  </tbody>\n",
       "</table>\n",
       "<p>2 rows × 17443 columns</p>\n",
       "</div>"
      ],
      "text/plain": [
       "   00  000  000yearold  007  05  10  100  100th  101  102  ...  zoomin  \\\n",
       "0   0    0           0    0   0   0    0      0    0    0  ...       0   \n",
       "1   0    0           0    0   0   1    0      0    0    0  ...       0   \n",
       "\n",
       "   zoomtocloseup  zord  zorro  zs  zsigmond  zucker  zuckerabrahamszuck  \\\n",
       "0              0     0      0   0         0       0                   0   \n",
       "1              0     0      0   0         0       0                   0   \n",
       "\n",
       "   zweibel  zwick  \n",
       "0        0      0  \n",
       "1        0      0  \n",
       "\n",
       "[2 rows x 17443 columns]"
      ]
     },
     "execution_count": 6,
     "metadata": {},
     "output_type": "execute_result"
    }
   ],
   "source": [
    "# Show first few rows\n",
    "X_df.head(2)"
   ]
  },
  {
   "cell_type": "code",
   "execution_count": 7,
   "id": "daed63a4-0307-4917-a980-3377c4c99ab6",
   "metadata": {},
   "outputs": [],
   "source": [
    "## Rename the covariate space as f_1\n",
    "X_df.columns = [f\"f_{i+1}\" for i in range(X_df.shape[1])]"
   ]
  },
  {
   "cell_type": "code",
   "execution_count": 8,
   "id": "3a430c0d-4483-4e9f-9e28-a9e5bfc6842c",
   "metadata": {},
   "outputs": [
    {
     "name": "stdout",
     "output_type": "stream",
     "text": [
      "[0 1]\n"
     ]
    }
   ],
   "source": [
    "## Get the unique values across the entire covariate space\n",
    "unique_values = pd.unique(X_df.values.ravel())\n",
    "print(unique_values)"
   ]
  },
  {
   "cell_type": "code",
   "execution_count": 9,
   "id": "c4d03504-6f68-4cea-9667-7e1c414cba41",
   "metadata": {},
   "outputs": [],
   "source": [
    "# Replace with the correct path to the file\n",
    "file_path = path + author + \"/rating.\" + author\n",
    "\n",
    "# Read the ratings into a list of floats\n",
    "with open(file_path, 'r') as f:\n",
    "    ratings = [float(line.strip()) for line in f]\n",
    "\n",
    "# Optionally convert to a DataFrame\n",
    "ratings_df = pd.DataFrame(ratings, columns=[\"rating\"])"
   ]
  },
  {
   "cell_type": "code",
   "execution_count": 10,
   "id": "72093c65-fb14-4fae-b9d9-5bb0d84d9f54",
   "metadata": {},
   "outputs": [
    {
     "data": {
      "text/html": [
       "<div>\n",
       "<style scoped>\n",
       "    .dataframe tbody tr th:only-of-type {\n",
       "        vertical-align: middle;\n",
       "    }\n",
       "\n",
       "    .dataframe tbody tr th {\n",
       "        vertical-align: top;\n",
       "    }\n",
       "\n",
       "    .dataframe thead th {\n",
       "        text-align: right;\n",
       "    }\n",
       "</style>\n",
       "<table border=\"1\" class=\"dataframe\">\n",
       "  <thead>\n",
       "    <tr style=\"text-align: right;\">\n",
       "      <th></th>\n",
       "      <th>rating</th>\n",
       "    </tr>\n",
       "  </thead>\n",
       "  <tbody>\n",
       "    <tr>\n",
       "      <th>0</th>\n",
       "      <td>0.0</td>\n",
       "    </tr>\n",
       "    <tr>\n",
       "      <th>1</th>\n",
       "      <td>0.0</td>\n",
       "    </tr>\n",
       "    <tr>\n",
       "      <th>2</th>\n",
       "      <td>0.0</td>\n",
       "    </tr>\n",
       "  </tbody>\n",
       "</table>\n",
       "</div>"
      ],
      "text/plain": [
       "   rating\n",
       "0     0.0\n",
       "1     0.0\n",
       "2     0.0"
      ]
     },
     "execution_count": 10,
     "metadata": {},
     "output_type": "execute_result"
    }
   ],
   "source": [
    "# Display first few rows\n",
    "ratings_df.head(3)"
   ]
  },
  {
   "cell_type": "code",
   "execution_count": 11,
   "id": "dc7a4dc8-1172-45ab-b1fc-8d6d4c0021a0",
   "metadata": {},
   "outputs": [
    {
     "data": {
      "text/plain": [
       "(902, 1)"
      ]
     },
     "execution_count": 11,
     "metadata": {},
     "output_type": "execute_result"
    }
   ],
   "source": [
    "ratings_df.shape"
   ]
  },
  {
   "cell_type": "code",
   "execution_count": 12,
   "id": "ca30754a-49cc-4b52-900a-3696bf645a6b",
   "metadata": {},
   "outputs": [
    {
     "name": "stdout",
     "output_type": "stream",
     "text": [
      "Counts:\n",
      " 0    744\n",
      "1    158\n",
      "Name: target, dtype: int64\n",
      "\n",
      "Proportions:\n",
      " 0    0.824834\n",
      "1    0.175166\n",
      "Name: target, dtype: float64\n"
     ]
    }
   ],
   "source": [
    "# Create binary response variable based on threshold\n",
    "ratings_df[\"target\"] = (ratings_df[\"rating\"] >= 0.8).astype(int)\n",
    "\n",
    "# Print distribution of target classes\n",
    "print(\"Counts:\\n\", ratings_df[\"target\"].value_counts())\n",
    "print(\"\\nProportions:\\n\", ratings_df[\"target\"].value_counts(normalize=True))\n"
   ]
  },
  {
   "cell_type": "code",
   "execution_count": 13,
   "id": "43633730-c4c4-4c89-8194-99bedce7845d",
   "metadata": {},
   "outputs": [],
   "source": [
    "# Combine features and target into a single DataFrame\n",
    "final_df = pd.concat([X_df, ratings_df[\"target\"].reset_index(drop=True)], axis=1)"
   ]
  },
  {
   "cell_type": "code",
   "execution_count": 14,
   "id": "23452509-9050-463a-bf94-4488b9d62fb5",
   "metadata": {},
   "outputs": [
    {
     "data": {
      "text/html": [
       "<div>\n",
       "<style scoped>\n",
       "    .dataframe tbody tr th:only-of-type {\n",
       "        vertical-align: middle;\n",
       "    }\n",
       "\n",
       "    .dataframe tbody tr th {\n",
       "        vertical-align: top;\n",
       "    }\n",
       "\n",
       "    .dataframe thead th {\n",
       "        text-align: right;\n",
       "    }\n",
       "</style>\n",
       "<table border=\"1\" class=\"dataframe\">\n",
       "  <thead>\n",
       "    <tr style=\"text-align: right;\">\n",
       "      <th></th>\n",
       "      <th>f_1</th>\n",
       "      <th>f_2</th>\n",
       "      <th>f_3</th>\n",
       "      <th>f_4</th>\n",
       "      <th>f_5</th>\n",
       "      <th>f_6</th>\n",
       "      <th>f_7</th>\n",
       "      <th>f_8</th>\n",
       "      <th>f_9</th>\n",
       "      <th>f_10</th>\n",
       "      <th>...</th>\n",
       "      <th>f_17435</th>\n",
       "      <th>f_17436</th>\n",
       "      <th>f_17437</th>\n",
       "      <th>f_17438</th>\n",
       "      <th>f_17439</th>\n",
       "      <th>f_17440</th>\n",
       "      <th>f_17441</th>\n",
       "      <th>f_17442</th>\n",
       "      <th>f_17443</th>\n",
       "      <th>target</th>\n",
       "    </tr>\n",
       "  </thead>\n",
       "  <tbody>\n",
       "    <tr>\n",
       "      <th>0</th>\n",
       "      <td>0</td>\n",
       "      <td>0</td>\n",
       "      <td>0</td>\n",
       "      <td>0</td>\n",
       "      <td>0</td>\n",
       "      <td>0</td>\n",
       "      <td>0</td>\n",
       "      <td>0</td>\n",
       "      <td>0</td>\n",
       "      <td>0</td>\n",
       "      <td>...</td>\n",
       "      <td>0</td>\n",
       "      <td>0</td>\n",
       "      <td>0</td>\n",
       "      <td>0</td>\n",
       "      <td>0</td>\n",
       "      <td>0</td>\n",
       "      <td>0</td>\n",
       "      <td>0</td>\n",
       "      <td>0</td>\n",
       "      <td>0</td>\n",
       "    </tr>\n",
       "    <tr>\n",
       "      <th>1</th>\n",
       "      <td>0</td>\n",
       "      <td>0</td>\n",
       "      <td>0</td>\n",
       "      <td>0</td>\n",
       "      <td>0</td>\n",
       "      <td>1</td>\n",
       "      <td>0</td>\n",
       "      <td>0</td>\n",
       "      <td>0</td>\n",
       "      <td>0</td>\n",
       "      <td>...</td>\n",
       "      <td>0</td>\n",
       "      <td>0</td>\n",
       "      <td>0</td>\n",
       "      <td>0</td>\n",
       "      <td>0</td>\n",
       "      <td>0</td>\n",
       "      <td>0</td>\n",
       "      <td>0</td>\n",
       "      <td>0</td>\n",
       "      <td>0</td>\n",
       "    </tr>\n",
       "    <tr>\n",
       "      <th>2</th>\n",
       "      <td>0</td>\n",
       "      <td>0</td>\n",
       "      <td>0</td>\n",
       "      <td>0</td>\n",
       "      <td>0</td>\n",
       "      <td>0</td>\n",
       "      <td>0</td>\n",
       "      <td>0</td>\n",
       "      <td>0</td>\n",
       "      <td>0</td>\n",
       "      <td>...</td>\n",
       "      <td>0</td>\n",
       "      <td>0</td>\n",
       "      <td>0</td>\n",
       "      <td>0</td>\n",
       "      <td>0</td>\n",
       "      <td>0</td>\n",
       "      <td>0</td>\n",
       "      <td>0</td>\n",
       "      <td>0</td>\n",
       "      <td>0</td>\n",
       "    </tr>\n",
       "  </tbody>\n",
       "</table>\n",
       "<p>3 rows × 17444 columns</p>\n",
       "</div>"
      ],
      "text/plain": [
       "   f_1  f_2  f_3  f_4  f_5  f_6  f_7  f_8  f_9  f_10  ...  f_17435  f_17436  \\\n",
       "0    0    0    0    0    0    0    0    0    0     0  ...        0        0   \n",
       "1    0    0    0    0    0    1    0    0    0     0  ...        0        0   \n",
       "2    0    0    0    0    0    0    0    0    0     0  ...        0        0   \n",
       "\n",
       "   f_17437  f_17438  f_17439  f_17440  f_17441  f_17442  f_17443  target  \n",
       "0        0        0        0        0        0        0        0       0  \n",
       "1        0        0        0        0        0        0        0       0  \n",
       "2        0        0        0        0        0        0        0       0  \n",
       "\n",
       "[3 rows x 17444 columns]"
      ]
     },
     "execution_count": 14,
     "metadata": {},
     "output_type": "execute_result"
    }
   ],
   "source": [
    "final_df.head(3)"
   ]
  },
  {
   "cell_type": "code",
   "execution_count": 15,
   "id": "5b8c5772-5d79-48b2-b3ce-8f1c5449f58b",
   "metadata": {},
   "outputs": [],
   "source": [
    "final_df.to_csv(output_path + author +\".csv\")"
   ]
  },
  {
   "cell_type": "code",
   "execution_count": null,
   "id": "bc475ba6-2f5a-4b46-ba9b-c42c228f4967",
   "metadata": {},
   "outputs": [],
   "source": []
  }
 ],
 "metadata": {
  "kernelspec": {
   "display_name": "Python 3 (ipykernel)",
   "language": "python",
   "name": "python3"
  },
  "language_info": {
   "codemirror_mode": {
    "name": "ipython",
    "version": 3
   },
   "file_extension": ".py",
   "mimetype": "text/x-python",
   "name": "python",
   "nbconvert_exporter": "python",
   "pygments_lexer": "ipython3",
   "version": "3.8.10"
  }
 },
 "nbformat": 4,
 "nbformat_minor": 5
}
