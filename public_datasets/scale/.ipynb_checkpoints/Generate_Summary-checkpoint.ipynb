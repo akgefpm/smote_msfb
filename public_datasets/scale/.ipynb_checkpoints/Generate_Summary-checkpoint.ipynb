{
 "cells": [
  {
   "cell_type": "code",
   "execution_count": null,
   "id": "2c9f8e08-44bb-431e-a7b8-90d725ca0441",
   "metadata": {},
   "outputs": [],
   "source": [
    "## Generate the summary metrics using the generated dataset"
   ]
  },
  {
   "cell_type": "code",
   "execution_count": null,
   "id": "b1f50954-e610-4a54-896b-f45020ead332",
   "metadata": {},
   "outputs": [],
   "source": [
    "! pip install --user pandas pyarrow fastparquet"
   ]
  },
  {
   "cell_type": "code",
   "execution_count": 1,
   "id": "1afe6891-00f4-415a-b52b-0185a4bf4981",
   "metadata": {},
   "outputs": [],
   "source": [
    "import pandas as pd\n",
    "import numpy as np\n",
    "import sys\n",
    "sys.path.append('/repos/smote_msfb/helper_functions')\n",
    "\n",
    "from summarize_dataset_with_hubness import summarize_dataset_with_hubness\n",
    "from create_folder_if_not_exists import create_folder_if_not_exists"
   ]
  },
  {
   "cell_type": "code",
   "execution_count": 2,
   "id": "671bd7ff-2347-46d8-bb1f-4d525f0ca7e4",
   "metadata": {},
   "outputs": [],
   "source": [
    "path = \"/repos/smote_msfb/public_datasets/scale/\""
   ]
  },
  {
   "cell_type": "code",
   "execution_count": null,
   "id": "5b7939eb-c3b3-486b-8dca-cd894ab36a96",
   "metadata": {},
   "outputs": [],
   "source": [
    "output_loc = \"/domino/datasets/local/smote_msfb/public_datasets/scale/\"\n",
    "create_folder_if_not_exists(output_loc)"
   ]
  },
  {
   "cell_type": "code",
   "execution_count": 3,
   "id": "f0826c6b-7d21-4b9d-9588-c0b65d9f06f4",
   "metadata": {},
   "outputs": [],
   "source": [
    "## Create summary metric dataset for this public dataset\n",
    "data = pd.read_parquet( path + \"Steve_Rhodes.parquet\" , engine=\"pyarrow\")\n",
    "\n",
    "summary_df = summarize_dataset_with_hubness(data, k=5)\n",
    "\n",
    "summary_df.to_csv(\n",
    "    output_loc + \"/Steve_Rhodes_Summary_metrics_data.zip\",\n",
    "    index=False,\n",
    "    compression={\n",
    "        \"method\": \"zip\",\n",
    "        \"archive_name\": \"Steve_Rhodes_Summary_metrics_data.csv\"\n",
    "    }\n",
    ")"
   ]
  },
  {
   "cell_type": "code",
   "execution_count": null,
   "id": "fbf0c576-6b4b-4884-9a26-cabf2f42b3e2",
   "metadata": {},
   "outputs": [],
   "source": [
    "## Create summary metric dataset for this public dataset\n",
    "data = pd.read_parquet( path + \"Scott_Renshaw.parquet\" , engine=\"pyarrow\")\n",
    "\n",
    "summary_df = summarize_dataset_with_hubness(data, k=5)\n",
    "\n",
    "summary_df.to_csv(\n",
    "    output_loc + \"/Scott_Renshaw_Summary_metrics_data.zip\",\n",
    "    index=False,\n",
    "    compression={\n",
    "        \"method\": \"zip\",\n",
    "        \"archive_name\": \"Scott_Renshaw_Summary_metrics_data.csv\"\n",
    "    }\n",
    ")"
   ]
  },
  {
   "cell_type": "code",
   "execution_count": null,
   "id": "b282bd39-4849-4ec9-9c50-f64d213c68ad",
   "metadata": {},
   "outputs": [],
   "source": [
    "## Create summary metric dataset for this public dataset\n",
    "data = pd.read_parquet( path + \"Dennis_Schwartz.parquet\" , engine=\"pyarrow\")\n",
    "\n",
    "summary_df = summarize_dataset_with_hubness(data, k=5)\n",
    "\n",
    "summary_df.to_csv(\n",
    "    output_loc + \"/Dennis_Schwartz_Summary_metrics_data.zip\",\n",
    "    index=False,\n",
    "    compression={\n",
    "        \"method\": \"zip\",\n",
    "        \"archive_name\": \"Dennis_Schwartz_Summary_metrics_data.csv\"\n",
    "    }\n",
    ")"
   ]
  },
  {
   "cell_type": "code",
   "execution_count": null,
   "id": "744d9a1a-6f96-4155-b3b8-e02d02964dec",
   "metadata": {},
   "outputs": [],
   "source": [
    "## Create summary metric dataset for this public dataset\n",
    "data = pd.read_parquet( path + \"James_Berardinelli.parquet\" , engine=\"pyarrow\")\n",
    "\n",
    "summary_df = summarize_dataset_with_hubness(data, k=5)\n",
    "\n",
    "summary_df.to_csv(\n",
    "    output_loc + \"/James_Berardinelli_Summary_metrics_data.zip\",\n",
    "    index=False,\n",
    "    compression={\n",
    "        \"method\": \"zip\",\n",
    "        \"archive_name\": \"James_Berardinelli_Summary_metrics_data.csv\"\n",
    "    }\n",
    ")"
   ]
  }
 ],
 "metadata": {
  "kernelspec": {
   "display_name": "Python 3 (ipykernel)",
   "language": "python",
   "name": "python3"
  },
  "language_info": {
   "codemirror_mode": {
    "name": "ipython",
    "version": 3
   },
   "file_extension": ".py",
   "mimetype": "text/x-python",
   "name": "python",
   "nbconvert_exporter": "python",
   "pygments_lexer": "ipython3",
   "version": "3.8.10"
  }
 },
 "nbformat": 4,
 "nbformat_minor": 5
}
