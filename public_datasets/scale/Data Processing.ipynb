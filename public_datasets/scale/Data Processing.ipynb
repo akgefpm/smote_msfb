{
 "cells": [
  {
   "cell_type": "code",
   "execution_count": null,
   "id": "17b078fe-d7fd-4b48-b9b8-2a5de93e8dc2",
   "metadata": {},
   "outputs": [],
   "source": [
    "! pip install nltk"
   ]
  },
  {
   "cell_type": "code",
   "execution_count": 1,
   "id": "23f967da-7de4-4a57-8675-4030e6cc399c",
   "metadata": {},
   "outputs": [
    {
     "name": "stderr",
     "output_type": "stream",
     "text": [
      "[nltk_data] Downloading package stopwords to /home/ubuntu/nltk_data...\n",
      "[nltk_data]   Package stopwords is already up-to-date!\n"
     ]
    },
    {
     "data": {
      "text/plain": [
       "True"
      ]
     },
     "execution_count": 1,
     "metadata": {},
     "output_type": "execute_result"
    }
   ],
   "source": [
    "import string\n",
    "import nltk\n",
    "from sklearn.feature_extraction.text import CountVectorizer\n",
    "from nltk.corpus import stopwords\n",
    "from nltk.stem import PorterStemmer\n",
    "import pandas as pd\n",
    "import numpy as np\n",
    "\n",
    "# Download stopwords if not already done\n",
    "nltk.download('stopwords')"
   ]
  },
  {
   "cell_type": "code",
   "execution_count": 2,
   "id": "8b2e46aa-3485-4519-847e-3c535fa2e45d",
   "metadata": {},
   "outputs": [],
   "source": [
    "path = \"/repos/smote_msfb/public_datasets/scale/scaledata/\"\n",
    "author = \"Steve+Rhodes\"\n",
    "output_path = \"/repos/smote_msfb/public_datasets/scale/\""
   ]
  },
  {
   "cell_type": "code",
   "execution_count": 3,
   "id": "cdfad6d5-85a5-4b15-8458-86f6286558b9",
   "metadata": {},
   "outputs": [
    {
     "name": "stdout",
     "output_type": "stream",
     "text": [
      "Review 1:\n",
      "this bit of lame physical humor is typical of disney's meet the deedles , a movie more to be endured that watched . and she's right , it is that bad . ) directed without any imagination by steve boyum , whose long background in film is mainly in stunts and in second unit direction , the film limps along at best . boyum attempts to keep the pace moving by staging stunts , stunts and more stunts . amazingly for someone with his background , he seems incapable of finding any fresh ones , and we have a car go off the road five different times -- maybe more . and then there is the script by james herzfeld , whose only other film , tapeheads from a decade ago , was so awful that it is considered a cult classic . meet the deedles , however , is painfully bad rather than laughably bad . it will probably be in and out of the theaters like a tornado and is in no danger of becoming a classic anything . herzfeld treats us to gratingly abysmal dialog that includes \" your geyser's a geezer , \" and \" i'd like to put a deedle in her haystack . \" hopper , who has made some wonderful movies , carried away being a recent favorite , does have a propensity for choosing some truly odoriferous material . this isn't his worst acting , but meet the deedles is arguably the worst movie he's ever been in . steve van wormer and paul walker , as stew and phil , give lifeless performances . the only actor in the movie with any demonstrable talent is a cute little prairie dog named petey . even the cinematography by david hennings is so prosaic that it manages to make yellowstone look dull . to add insult to injury , hennings is fond of inappropriate close-ups , which only serve to remind us of the inanity of the dialog . put a ten-foot pair of lips on the screen , and you naturally pay extra attention to what is said . although boyum says in the notes that he is proud that his film is appropriate for families , one wonders how many skateboarders will attempt the movie's stunt of lying on your back on a skateboard while negotiating a busy and twisting mountain road . they make it look like so much fun that i'm sure many will try some variation of the stunt . \" how could this possibly be worst , \" asks phil . just when you suspect it can't , the movie takes a turn further downhill . its low point may have you looking for an airline barf bag . it is rated pg for a little bathroom humor and would be acceptable for kids around 6 and up . nickolas also mentioned the scene in which the circus bear drives a jeep , and jeffrey especially liked the one in which the circus elephant was referred to as dumbo .\n",
      "\n",
      "Review 2:\n",
      "some comedies are not funny no matter how hard they try , but baby geniuses , easily one of the worst films in years , doesn't even try that often . directed by bob clark ( porky's and porky's 2 ) , the film is a flat as the flat line on a heart monitor when the patient has died , something this comatose picture does in the very beginning . this would-be kathleen turner overacts with such abandon that her performance could only work in a parody , which this movie isn't . although the movie is shot in ugly , dark and sinister tones that would befit a horror movie about demonic babies , the movie does not intentionally try to scare us . the actors , who drone with all the emotive power of someone reading the phonebook , do get to participate in a few comic sketches , with repetitive injuries of the gonads being the most common . the moronic script by the writing committee of steven paul , francisca matos , robert grasmere , bob clark and greg michael is an insult to human intelligence . the on-going joke in the movie is that the viewers get to understand baby talk . these toddlers are among the most unfunny in the history of cinema . \" you idiots ! you imbeciles ! you morons ! \" you may feel like yelling those exact words at the screen . it is rated pg for some profanity , sexual innuendo and comic fist fighting violence and would be acceptable for most ages . my son jeffrey , almost 10 , liked the characters and gave the movie * * * . his friend jessica , almost 10 , thought the movie was really cute and gave it * * * .\n",
      "\n"
     ]
    }
   ],
   "source": [
    "# Set the path to the specific author's file\n",
    "file_path = path + author + '/subj.' + author\n",
    "\n",
    "# Read all lines (each line = one review)\n",
    "with open(file_path, 'r', encoding='utf-8') as f:\n",
    "    reviews = f.readlines()\n",
    "\n",
    "# Optional: strip newline characters\n",
    "reviews = [review.strip() for review in reviews]\n",
    "\n",
    "# Example: print first 5 reviews\n",
    "for i, review in enumerate(reviews[:2]):\n",
    "    print(f\"Review {i+1}:\\n{review}\\n\")\n"
   ]
  },
  {
   "cell_type": "code",
   "execution_count": 4,
   "id": "c0292e98-798c-44e4-9951-87d98437660e",
   "metadata": {},
   "outputs": [],
   "source": [
    "# Initialize tools\n",
    "stop_words = set(stopwords.words('english'))\n",
    "stemmer = PorterStemmer()\n",
    "\n",
    "# Sample list: replace with your loaded reviews\n",
    "# reviews = [...]\n",
    "\n",
    "# Step 1: Text preprocessing\n",
    "def preprocess_text(text):\n",
    "    # Lowercase\n",
    "    text = text.lower()\n",
    "    # Remove punctuation\n",
    "    text = text.translate(str.maketrans('', '', string.punctuation))\n",
    "    # Tokenize and remove stopwords\n",
    "    tokens = text.split()\n",
    "    tokens = [stemmer.stem(word) for word in tokens if word not in stop_words]\n",
    "    return ' '.join(tokens)\n",
    "\n",
    "# Apply preprocessing\n",
    "preprocessed_reviews = [preprocess_text(review) for review in reviews]\n",
    "\n",
    "# Step 2: Binary Bag-of-Words vectorization\n",
    "vectorizer = CountVectorizer(binary=True)\n",
    "X = vectorizer.fit_transform(preprocessed_reviews)\n",
    "\n",
    "# Optional: Convert to DataFrame for easier inspection\n",
    "import pandas as pd\n",
    "X_df = pd.DataFrame(X.toarray(), columns=vectorizer.get_feature_names_out())"
   ]
  },
  {
   "cell_type": "code",
   "execution_count": 5,
   "id": "b4e7e8d1-c470-4bc5-b497-1feeeb4851aa",
   "metadata": {},
   "outputs": [
    {
     "data": {
      "text/plain": [
       "(1770, 17802)"
      ]
     },
     "execution_count": 5,
     "metadata": {},
     "output_type": "execute_result"
    }
   ],
   "source": [
    "X_df.shape"
   ]
  },
  {
   "cell_type": "code",
   "execution_count": 6,
   "id": "cea0744a-305e-4182-8fa0-92e8def8c593",
   "metadata": {},
   "outputs": [
    {
     "data": {
      "text/html": [
       "<div>\n",
       "<style scoped>\n",
       "    .dataframe tbody tr th:only-of-type {\n",
       "        vertical-align: middle;\n",
       "    }\n",
       "\n",
       "    .dataframe tbody tr th {\n",
       "        vertical-align: top;\n",
       "    }\n",
       "\n",
       "    .dataframe thead th {\n",
       "        text-align: right;\n",
       "    }\n",
       "</style>\n",
       "<table border=\"1\" class=\"dataframe\">\n",
       "  <thead>\n",
       "    <tr style=\"text-align: right;\">\n",
       "      <th></th>\n",
       "      <th>00</th>\n",
       "      <th>000</th>\n",
       "      <th>000pound</th>\n",
       "      <th>007</th>\n",
       "      <th>00am</th>\n",
       "      <th>01</th>\n",
       "      <th>02</th>\n",
       "      <th>03</th>\n",
       "      <th>04</th>\n",
       "      <th>05</th>\n",
       "      <th>...</th>\n",
       "      <th>zsa</th>\n",
       "      <th>zsigmond</th>\n",
       "      <th>zuber</th>\n",
       "      <th>zurinaga</th>\n",
       "      <th>zweibel</th>\n",
       "      <th>zwick</th>\n",
       "      <th>zwigoff</th>\n",
       "      <th>zwiller</th>\n",
       "      <th>zylberstein</th>\n",
       "      <th>zzzzzzz</th>\n",
       "    </tr>\n",
       "  </thead>\n",
       "  <tbody>\n",
       "    <tr>\n",
       "      <th>0</th>\n",
       "      <td>0</td>\n",
       "      <td>0</td>\n",
       "      <td>0</td>\n",
       "      <td>0</td>\n",
       "      <td>0</td>\n",
       "      <td>0</td>\n",
       "      <td>0</td>\n",
       "      <td>0</td>\n",
       "      <td>0</td>\n",
       "      <td>0</td>\n",
       "      <td>...</td>\n",
       "      <td>0</td>\n",
       "      <td>0</td>\n",
       "      <td>0</td>\n",
       "      <td>0</td>\n",
       "      <td>0</td>\n",
       "      <td>0</td>\n",
       "      <td>0</td>\n",
       "      <td>0</td>\n",
       "      <td>0</td>\n",
       "      <td>0</td>\n",
       "    </tr>\n",
       "    <tr>\n",
       "      <th>1</th>\n",
       "      <td>0</td>\n",
       "      <td>0</td>\n",
       "      <td>0</td>\n",
       "      <td>0</td>\n",
       "      <td>0</td>\n",
       "      <td>0</td>\n",
       "      <td>0</td>\n",
       "      <td>0</td>\n",
       "      <td>0</td>\n",
       "      <td>0</td>\n",
       "      <td>...</td>\n",
       "      <td>0</td>\n",
       "      <td>0</td>\n",
       "      <td>0</td>\n",
       "      <td>0</td>\n",
       "      <td>0</td>\n",
       "      <td>0</td>\n",
       "      <td>0</td>\n",
       "      <td>0</td>\n",
       "      <td>0</td>\n",
       "      <td>0</td>\n",
       "    </tr>\n",
       "  </tbody>\n",
       "</table>\n",
       "<p>2 rows × 17802 columns</p>\n",
       "</div>"
      ],
      "text/plain": [
       "   00  000  000pound  007  00am  01  02  03  04  05  ...  zsa  zsigmond  \\\n",
       "0   0    0         0    0     0   0   0   0   0   0  ...    0         0   \n",
       "1   0    0         0    0     0   0   0   0   0   0  ...    0         0   \n",
       "\n",
       "   zuber  zurinaga  zweibel  zwick  zwigoff  zwiller  zylberstein  zzzzzzz  \n",
       "0      0         0        0      0        0        0            0        0  \n",
       "1      0         0        0      0        0        0            0        0  \n",
       "\n",
       "[2 rows x 17802 columns]"
      ]
     },
     "execution_count": 6,
     "metadata": {},
     "output_type": "execute_result"
    }
   ],
   "source": [
    "# Show first few rows\n",
    "X_df.head(2)"
   ]
  },
  {
   "cell_type": "code",
   "execution_count": 7,
   "id": "daed63a4-0307-4917-a980-3377c4c99ab6",
   "metadata": {},
   "outputs": [],
   "source": [
    "## Rename the covariate space as f_1\n",
    "X_df.columns = [f\"f_{i+1}\" for i in range(X_df.shape[1])]"
   ]
  },
  {
   "cell_type": "code",
   "execution_count": 8,
   "id": "3a430c0d-4483-4e9f-9e28-a9e5bfc6842c",
   "metadata": {},
   "outputs": [
    {
     "name": "stdout",
     "output_type": "stream",
     "text": [
      "[0 1]\n"
     ]
    }
   ],
   "source": [
    "## Get the unique values across the entire covariate space\n",
    "unique_values = pd.unique(X_df.values.ravel())\n",
    "print(unique_values)"
   ]
  },
  {
   "cell_type": "code",
   "execution_count": 9,
   "id": "c4d03504-6f68-4cea-9667-7e1c414cba41",
   "metadata": {},
   "outputs": [],
   "source": [
    "# Replace with the correct path to the file\n",
    "file_path = path + author + \"/rating.\" + author\n",
    "\n",
    "# Read the ratings into a list of floats\n",
    "with open(file_path, 'r') as f:\n",
    "    ratings = [float(line.strip()) for line in f]\n",
    "\n",
    "# Optionally convert to a DataFrame\n",
    "ratings_df = pd.DataFrame(ratings, columns=[\"rating\"])"
   ]
  },
  {
   "cell_type": "code",
   "execution_count": 10,
   "id": "72093c65-fb14-4fae-b9d9-5bb0d84d9f54",
   "metadata": {},
   "outputs": [
    {
     "data": {
      "text/html": [
       "<div>\n",
       "<style scoped>\n",
       "    .dataframe tbody tr th:only-of-type {\n",
       "        vertical-align: middle;\n",
       "    }\n",
       "\n",
       "    .dataframe tbody tr th {\n",
       "        vertical-align: top;\n",
       "    }\n",
       "\n",
       "    .dataframe thead th {\n",
       "        text-align: right;\n",
       "    }\n",
       "</style>\n",
       "<table border=\"1\" class=\"dataframe\">\n",
       "  <thead>\n",
       "    <tr style=\"text-align: right;\">\n",
       "      <th></th>\n",
       "      <th>rating</th>\n",
       "    </tr>\n",
       "  </thead>\n",
       "  <tbody>\n",
       "    <tr>\n",
       "      <th>0</th>\n",
       "      <td>0.1</td>\n",
       "    </tr>\n",
       "    <tr>\n",
       "      <th>1</th>\n",
       "      <td>0.1</td>\n",
       "    </tr>\n",
       "    <tr>\n",
       "      <th>2</th>\n",
       "      <td>0.1</td>\n",
       "    </tr>\n",
       "  </tbody>\n",
       "</table>\n",
       "</div>"
      ],
      "text/plain": [
       "   rating\n",
       "0     0.1\n",
       "1     0.1\n",
       "2     0.1"
      ]
     },
     "execution_count": 10,
     "metadata": {},
     "output_type": "execute_result"
    }
   ],
   "source": [
    "# Display first few rows\n",
    "ratings_df.head(3)"
   ]
  },
  {
   "cell_type": "code",
   "execution_count": 11,
   "id": "dc7a4dc8-1172-45ab-b1fc-8d6d4c0021a0",
   "metadata": {},
   "outputs": [
    {
     "data": {
      "text/plain": [
       "(1770, 1)"
      ]
     },
     "execution_count": 11,
     "metadata": {},
     "output_type": "execute_result"
    }
   ],
   "source": [
    "ratings_df.shape"
   ]
  },
  {
   "cell_type": "code",
   "execution_count": 12,
   "id": "ca30754a-49cc-4b52-900a-3696bf645a6b",
   "metadata": {},
   "outputs": [
    {
     "name": "stdout",
     "output_type": "stream",
     "text": [
      "Counts:\n",
      " target\n",
      "0    1483\n",
      "1     287\n",
      "Name: count, dtype: int64\n",
      "\n",
      "Proportions:\n",
      " target\n",
      "0    0.837853\n",
      "1    0.162147\n",
      "Name: proportion, dtype: float64\n"
     ]
    }
   ],
   "source": [
    "# Create binary response variable based on threshold\n",
    "ratings_df[\"target\"] = (ratings_df[\"rating\"] >= 0.8).astype(int)\n",
    "\n",
    "# Print distribution of target classes\n",
    "print(\"Counts:\\n\", ratings_df[\"target\"].value_counts())\n",
    "print(\"\\nProportions:\\n\", ratings_df[\"target\"].value_counts(normalize=True))\n"
   ]
  },
  {
   "cell_type": "code",
   "execution_count": 13,
   "id": "43633730-c4c4-4c89-8194-99bedce7845d",
   "metadata": {},
   "outputs": [],
   "source": [
    "# Combine features and target into a single DataFrame\n",
    "final_df = pd.concat([X_df, ratings_df[\"target\"].reset_index(drop=True)], axis=1)"
   ]
  },
  {
   "cell_type": "code",
   "execution_count": 14,
   "id": "23452509-9050-463a-bf94-4488b9d62fb5",
   "metadata": {},
   "outputs": [
    {
     "data": {
      "text/html": [
       "<div>\n",
       "<style scoped>\n",
       "    .dataframe tbody tr th:only-of-type {\n",
       "        vertical-align: middle;\n",
       "    }\n",
       "\n",
       "    .dataframe tbody tr th {\n",
       "        vertical-align: top;\n",
       "    }\n",
       "\n",
       "    .dataframe thead th {\n",
       "        text-align: right;\n",
       "    }\n",
       "</style>\n",
       "<table border=\"1\" class=\"dataframe\">\n",
       "  <thead>\n",
       "    <tr style=\"text-align: right;\">\n",
       "      <th></th>\n",
       "      <th>f_1</th>\n",
       "      <th>f_2</th>\n",
       "      <th>f_3</th>\n",
       "      <th>f_4</th>\n",
       "      <th>f_5</th>\n",
       "      <th>f_6</th>\n",
       "      <th>f_7</th>\n",
       "      <th>f_8</th>\n",
       "      <th>f_9</th>\n",
       "      <th>f_10</th>\n",
       "      <th>...</th>\n",
       "      <th>f_17794</th>\n",
       "      <th>f_17795</th>\n",
       "      <th>f_17796</th>\n",
       "      <th>f_17797</th>\n",
       "      <th>f_17798</th>\n",
       "      <th>f_17799</th>\n",
       "      <th>f_17800</th>\n",
       "      <th>f_17801</th>\n",
       "      <th>f_17802</th>\n",
       "      <th>target</th>\n",
       "    </tr>\n",
       "  </thead>\n",
       "  <tbody>\n",
       "    <tr>\n",
       "      <th>0</th>\n",
       "      <td>0</td>\n",
       "      <td>0</td>\n",
       "      <td>0</td>\n",
       "      <td>0</td>\n",
       "      <td>0</td>\n",
       "      <td>0</td>\n",
       "      <td>0</td>\n",
       "      <td>0</td>\n",
       "      <td>0</td>\n",
       "      <td>0</td>\n",
       "      <td>...</td>\n",
       "      <td>0</td>\n",
       "      <td>0</td>\n",
       "      <td>0</td>\n",
       "      <td>0</td>\n",
       "      <td>0</td>\n",
       "      <td>0</td>\n",
       "      <td>0</td>\n",
       "      <td>0</td>\n",
       "      <td>0</td>\n",
       "      <td>0</td>\n",
       "    </tr>\n",
       "    <tr>\n",
       "      <th>1</th>\n",
       "      <td>0</td>\n",
       "      <td>0</td>\n",
       "      <td>0</td>\n",
       "      <td>0</td>\n",
       "      <td>0</td>\n",
       "      <td>0</td>\n",
       "      <td>0</td>\n",
       "      <td>0</td>\n",
       "      <td>0</td>\n",
       "      <td>0</td>\n",
       "      <td>...</td>\n",
       "      <td>0</td>\n",
       "      <td>0</td>\n",
       "      <td>0</td>\n",
       "      <td>0</td>\n",
       "      <td>0</td>\n",
       "      <td>0</td>\n",
       "      <td>0</td>\n",
       "      <td>0</td>\n",
       "      <td>0</td>\n",
       "      <td>0</td>\n",
       "    </tr>\n",
       "    <tr>\n",
       "      <th>2</th>\n",
       "      <td>0</td>\n",
       "      <td>0</td>\n",
       "      <td>0</td>\n",
       "      <td>0</td>\n",
       "      <td>0</td>\n",
       "      <td>0</td>\n",
       "      <td>0</td>\n",
       "      <td>0</td>\n",
       "      <td>0</td>\n",
       "      <td>0</td>\n",
       "      <td>...</td>\n",
       "      <td>0</td>\n",
       "      <td>0</td>\n",
       "      <td>0</td>\n",
       "      <td>0</td>\n",
       "      <td>0</td>\n",
       "      <td>0</td>\n",
       "      <td>0</td>\n",
       "      <td>0</td>\n",
       "      <td>0</td>\n",
       "      <td>0</td>\n",
       "    </tr>\n",
       "  </tbody>\n",
       "</table>\n",
       "<p>3 rows × 17803 columns</p>\n",
       "</div>"
      ],
      "text/plain": [
       "   f_1  f_2  f_3  f_4  f_5  f_6  f_7  f_8  f_9  f_10  ...  f_17794  f_17795  \\\n",
       "0    0    0    0    0    0    0    0    0    0     0  ...        0        0   \n",
       "1    0    0    0    0    0    0    0    0    0     0  ...        0        0   \n",
       "2    0    0    0    0    0    0    0    0    0     0  ...        0        0   \n",
       "\n",
       "   f_17796  f_17797  f_17798  f_17799  f_17800  f_17801  f_17802  target  \n",
       "0        0        0        0        0        0        0        0       0  \n",
       "1        0        0        0        0        0        0        0       0  \n",
       "2        0        0        0        0        0        0        0       0  \n",
       "\n",
       "[3 rows x 17803 columns]"
      ]
     },
     "execution_count": 14,
     "metadata": {},
     "output_type": "execute_result"
    }
   ],
   "source": [
    "final_df.head(3)"
   ]
  },
  {
   "cell_type": "code",
   "execution_count": 15,
   "id": "84969c3e-c53d-422f-a120-938b88b2032e",
   "metadata": {},
   "outputs": [],
   "source": [
    "# Drop columns where all values are 0\n",
    "final_df = final_df.loc[:, (final_df != 0).any(axis=0)]"
   ]
  },
  {
   "cell_type": "code",
   "execution_count": 17,
   "id": "5b8c5772-5d79-48b2-b3ce-8f1c5449f58b",
   "metadata": {},
   "outputs": [],
   "source": [
    "# final_df.to_csv(output_path + author +\".csv\")\n",
    "\n",
    "# Save in Parquet format (using pyarrow)\n",
    "final_df.to_parquet(\n",
    "    output_path + author + \".parquet\", \n",
    "    engine=\"pyarrow\", \n",
    "    compression=\"snappy\", \n",
    "    index=False\n",
    ")"
   ]
  },
  {
   "cell_type": "code",
   "execution_count": null,
   "id": "b7da5578-2cac-4eca-b7ae-430c0eb47ea3",
   "metadata": {},
   "outputs": [],
   "source": []
  }
 ],
 "metadata": {
  "kernelspec": {
   "display_name": "Python 3 (ipykernel)",
   "language": "python",
   "name": "python3"
  },
  "language_info": {
   "codemirror_mode": {
    "name": "ipython",
    "version": 3
   },
   "file_extension": ".py",
   "mimetype": "text/x-python",
   "name": "python",
   "nbconvert_exporter": "python",
   "pygments_lexer": "ipython3",
   "version": "3.8.10"
  }
 },
 "nbformat": 4,
 "nbformat_minor": 5
}
