{
 "cells": [
  {
   "cell_type": "code",
   "execution_count": null,
   "id": "2c9f8e08-44bb-431e-a7b8-90d725ca0441",
   "metadata": {},
   "outputs": [],
   "source": [
    "## Generate the summary metrics using the generated dataset"
   ]
  },
  {
   "cell_type": "code",
   "execution_count": null,
   "id": "b1f50954-e610-4a54-896b-f45020ead332",
   "metadata": {},
   "outputs": [],
   "source": [
    "! pip install --user pandas pyarrow fastparquet"
   ]
  },
  {
   "cell_type": "code",
   "execution_count": null,
   "id": "4a797d8e-f8ce-44d7-98b4-4d0e2fa2d274",
   "metadata": {},
   "outputs": [],
   "source": [
    "! pip install --user imblearn"
   ]
  },
  {
   "cell_type": "code",
   "execution_count": null,
   "id": "1cea5a3a-6d30-410f-967c-d339b391e3a1",
   "metadata": {},
   "outputs": [],
   "source": [
    "! pip install pyyaml"
   ]
  },
  {
   "cell_type": "code",
   "execution_count": 1,
   "id": "1afe6891-00f4-415a-b52b-0185a4bf4981",
   "metadata": {},
   "outputs": [],
   "source": [
    "import pandas as pd\n",
    "import numpy as np\n",
    "\n",
    "import sys\n",
    "sys.path.append('/repos/smote_msfb/helper_functions')\n",
    "from summarize_dataset_with_hubness import summarize_dataset_with_hubness\n",
    "from create_folder_if_not_exists import create_folder_if_not_exists\n",
    "from run_single_experiment import run_single_experiment"
   ]
  },
  {
   "cell_type": "code",
   "execution_count": 2,
   "id": "54c4748d-e2a6-4f66-bdd6-0070adf99135",
   "metadata": {},
   "outputs": [],
   "source": [
    "folder_name = 'scale'\n",
    "dataset_name = \"James_Berardinelli\""
   ]
  },
  {
   "cell_type": "code",
   "execution_count": 3,
   "id": "671bd7ff-2347-46d8-bb1f-4d525f0ca7e4",
   "metadata": {},
   "outputs": [],
   "source": [
    "path = \"/repos/smote_msfb/public_datasets/\"+ folder_name + \"/\""
   ]
  },
  {
   "cell_type": "code",
   "execution_count": 4,
   "id": "8115b066-1544-4755-93f0-ce6f5adc9e5b",
   "metadata": {},
   "outputs": [],
   "source": [
    "output_dir = \"/domino/datasets/local/smote_msfb/public_datasets/\" + folder_name + \"/\" + dataset_name + \"/\""
   ]
  },
  {
   "cell_type": "code",
   "execution_count": 5,
   "id": "19be46f6-c56d-4f33-8ac3-addefce011fd",
   "metadata": {},
   "outputs": [],
   "source": [
    "## Create summary metric dataset for this public dataset\n",
    "df = pd.read_parquet( path + dataset_name +\".parquet\" , engine=\"pyarrow\")"
   ]
  },
  {
   "cell_type": "code",
   "execution_count": 6,
   "id": "a4d07a34-e28e-4999-a18e-bb6d9f0ab590",
   "metadata": {},
   "outputs": [
    {
     "data": {
      "text/html": [
       "<div>\n",
       "<style scoped>\n",
       "    .dataframe tbody tr th:only-of-type {\n",
       "        vertical-align: middle;\n",
       "    }\n",
       "\n",
       "    .dataframe tbody tr th {\n",
       "        vertical-align: top;\n",
       "    }\n",
       "\n",
       "    .dataframe thead th {\n",
       "        text-align: right;\n",
       "    }\n",
       "</style>\n",
       "<table border=\"1\" class=\"dataframe\">\n",
       "  <thead>\n",
       "    <tr style=\"text-align: right;\">\n",
       "      <th></th>\n",
       "      <th>f_1</th>\n",
       "      <th>f_2</th>\n",
       "      <th>f_3</th>\n",
       "      <th>f_4</th>\n",
       "      <th>f_5</th>\n",
       "      <th>f_6</th>\n",
       "      <th>f_7</th>\n",
       "      <th>f_8</th>\n",
       "      <th>f_9</th>\n",
       "      <th>f_10</th>\n",
       "      <th>...</th>\n",
       "      <th>f_21622</th>\n",
       "      <th>f_21623</th>\n",
       "      <th>f_21624</th>\n",
       "      <th>f_21625</th>\n",
       "      <th>f_21626</th>\n",
       "      <th>f_21627</th>\n",
       "      <th>f_21628</th>\n",
       "      <th>f_21629</th>\n",
       "      <th>f_21630</th>\n",
       "      <th>target</th>\n",
       "    </tr>\n",
       "  </thead>\n",
       "  <tbody>\n",
       "    <tr>\n",
       "      <th>0</th>\n",
       "      <td>0</td>\n",
       "      <td>0</td>\n",
       "      <td>0</td>\n",
       "      <td>0</td>\n",
       "      <td>0</td>\n",
       "      <td>0</td>\n",
       "      <td>0</td>\n",
       "      <td>0</td>\n",
       "      <td>0</td>\n",
       "      <td>0</td>\n",
       "      <td>...</td>\n",
       "      <td>0</td>\n",
       "      <td>0</td>\n",
       "      <td>0</td>\n",
       "      <td>0</td>\n",
       "      <td>0</td>\n",
       "      <td>0</td>\n",
       "      <td>0</td>\n",
       "      <td>0</td>\n",
       "      <td>0</td>\n",
       "      <td>0</td>\n",
       "    </tr>\n",
       "    <tr>\n",
       "      <th>1</th>\n",
       "      <td>0</td>\n",
       "      <td>0</td>\n",
       "      <td>0</td>\n",
       "      <td>0</td>\n",
       "      <td>0</td>\n",
       "      <td>0</td>\n",
       "      <td>0</td>\n",
       "      <td>0</td>\n",
       "      <td>0</td>\n",
       "      <td>0</td>\n",
       "      <td>...</td>\n",
       "      <td>0</td>\n",
       "      <td>0</td>\n",
       "      <td>0</td>\n",
       "      <td>0</td>\n",
       "      <td>0</td>\n",
       "      <td>0</td>\n",
       "      <td>0</td>\n",
       "      <td>0</td>\n",
       "      <td>0</td>\n",
       "      <td>0</td>\n",
       "    </tr>\n",
       "    <tr>\n",
       "      <th>2</th>\n",
       "      <td>0</td>\n",
       "      <td>0</td>\n",
       "      <td>0</td>\n",
       "      <td>0</td>\n",
       "      <td>0</td>\n",
       "      <td>0</td>\n",
       "      <td>0</td>\n",
       "      <td>0</td>\n",
       "      <td>0</td>\n",
       "      <td>0</td>\n",
       "      <td>...</td>\n",
       "      <td>0</td>\n",
       "      <td>0</td>\n",
       "      <td>0</td>\n",
       "      <td>0</td>\n",
       "      <td>0</td>\n",
       "      <td>0</td>\n",
       "      <td>0</td>\n",
       "      <td>0</td>\n",
       "      <td>0</td>\n",
       "      <td>0</td>\n",
       "    </tr>\n",
       "  </tbody>\n",
       "</table>\n",
       "<p>3 rows × 21631 columns</p>\n",
       "</div>"
      ],
      "text/plain": [
       "   f_1  f_2  f_3  f_4  f_5  f_6  f_7  f_8  f_9  f_10  ...  f_21622  f_21623  \\\n",
       "0    0    0    0    0    0    0    0    0    0     0  ...        0        0   \n",
       "1    0    0    0    0    0    0    0    0    0     0  ...        0        0   \n",
       "2    0    0    0    0    0    0    0    0    0     0  ...        0        0   \n",
       "\n",
       "   f_21624  f_21625  f_21626  f_21627  f_21628  f_21629  f_21630  target  \n",
       "0        0        0        0        0        0        0        0       0  \n",
       "1        0        0        0        0        0        0        0       0  \n",
       "2        0        0        0        0        0        0        0       0  \n",
       "\n",
       "[3 rows x 21631 columns]"
      ]
     },
     "execution_count": 6,
     "metadata": {},
     "output_type": "execute_result"
    }
   ],
   "source": [
    "df.head(3)"
   ]
  },
  {
   "cell_type": "code",
   "execution_count": 7,
   "id": "aa0ca150-5d94-407c-b234-df3eca7018cf",
   "metadata": {},
   "outputs": [],
   "source": [
    "# Suppose df is your dataset already loaded into memory\n",
    "# Features: f_*\n",
    "feature_cols = [col for col in df.columns if col.startswith(\"f_\")]\n",
    "\n",
    "# Targets: target_*\n",
    "target_cols = [col for col in df.columns if col.startswith(\"target\")]"
   ]
  },
  {
   "cell_type": "code",
   "execution_count": 8,
   "id": "44551cf0-ba71-422b-b574-060ed23a2b48",
   "metadata": {},
   "outputs": [
    {
     "name": "stdout",
     "output_type": "stream",
     "text": [
      "No. of target columns : 1\n"
     ]
    }
   ],
   "source": [
    "print(\"No. of target columns :\", len(target_cols))"
   ]
  },
  {
   "cell_type": "code",
   "execution_count": null,
   "id": "c2dfaa27-2d72-4596-aab9-7e51055b8761",
   "metadata": {},
   "outputs": [
    {
     "name": "stdout",
     "output_type": "stream",
     "text": [
      "target\n",
      "0    1026\n",
      "1     281\n",
      "Name: count, dtype: int64\n",
      "Folder '/domino/datasets/local/smote_msfb/public_datasets/scale/James_Berardinelli/target/' created.\n"
     ]
    },
    {
     "name": "stderr",
     "output_type": "stream",
     "text": [
      "/home/ubuntu/.local/lib/python3.8/site-packages/sklearn/ensemble/_base.py:156: FutureWarning: `base_estimator` was renamed to `estimator` in version 1.2 and will be removed in 1.4.\n",
      "  warnings.warn(\n",
      "/home/ubuntu/.local/lib/python3.8/site-packages/sklearn/ensemble/_base.py:156: FutureWarning: `base_estimator` was renamed to `estimator` in version 1.2 and will be removed in 1.4.\n",
      "  warnings.warn(\n",
      "/home/ubuntu/.local/lib/python3.8/site-packages/sklearn/ensemble/_base.py:156: FutureWarning: `base_estimator` was renamed to `estimator` in version 1.2 and will be removed in 1.4.\n",
      "  warnings.warn(\n",
      "/home/ubuntu/.local/lib/python3.8/site-packages/sklearn/ensemble/_base.py:156: FutureWarning: `base_estimator` was renamed to `estimator` in version 1.2 and will be removed in 1.4.\n",
      "  warnings.warn(\n",
      "/home/ubuntu/.local/lib/python3.8/site-packages/sklearn/ensemble/_base.py:156: FutureWarning: `base_estimator` was renamed to `estimator` in version 1.2 and will be removed in 1.4.\n",
      "  warnings.warn(\n",
      "/home/ubuntu/.local/lib/python3.8/site-packages/sklearn/ensemble/_base.py:156: FutureWarning: `base_estimator` was renamed to `estimator` in version 1.2 and will be removed in 1.4.\n",
      "  warnings.warn(\n",
      "/home/ubuntu/.local/lib/python3.8/site-packages/sklearn/ensemble/_base.py:156: FutureWarning: `base_estimator` was renamed to `estimator` in version 1.2 and will be removed in 1.4.\n",
      "  warnings.warn(\n",
      "/home/ubuntu/.local/lib/python3.8/site-packages/sklearn/ensemble/_base.py:156: FutureWarning: `base_estimator` was renamed to `estimator` in version 1.2 and will be removed in 1.4.\n",
      "  warnings.warn(\n",
      "/home/ubuntu/.local/lib/python3.8/site-packages/sklearn/ensemble/_base.py:156: FutureWarning: `base_estimator` was renamed to `estimator` in version 1.2 and will be removed in 1.4.\n",
      "  warnings.warn(\n",
      "/home/ubuntu/.local/lib/python3.8/site-packages/sklearn/ensemble/_base.py:156: FutureWarning: `base_estimator` was renamed to `estimator` in version 1.2 and will be removed in 1.4.\n",
      "  warnings.warn(\n",
      "/home/ubuntu/.local/lib/python3.8/site-packages/sklearn/ensemble/_base.py:156: FutureWarning: `base_estimator` was renamed to `estimator` in version 1.2 and will be removed in 1.4.\n",
      "  warnings.warn(\n",
      "/home/ubuntu/.local/lib/python3.8/site-packages/sklearn/ensemble/_base.py:156: FutureWarning: `base_estimator` was renamed to `estimator` in version 1.2 and will be removed in 1.4.\n",
      "  warnings.warn(\n"
     ]
    }
   ],
   "source": [
    "for target in target_cols: \n",
    "    X = df[feature_cols]\n",
    "    y = df[[target]]  # keep as DataFrame\n",
    "    combined_df = pd.concat([X, y], axis=1).reset_index(drop=True)\n",
    "    \n",
    "    # Rename target column to \"target\"\n",
    "    combined_df = combined_df.rename(columns={target: \"target\"})    \n",
    "    combined_df = combined_df.astype(int)\n",
    "     \n",
    "    counts = combined_df['target'].value_counts()\n",
    "    print(counts)\n",
    "\n",
    "    # Skip if minority class (<50 samples of 1)\n",
    "    if counts.get(1, 0) < 100:\n",
    "        print(f\"Skipping {target} because it has fewer than 100 positives.\")\n",
    "        continue\n",
    "    \n",
    "    output_loc = output_dir + str(target) + \"/\"\n",
    "    create_folder_if_not_exists(output_loc)\n",
    "    \n",
    "    # Redirect stdout to file\n",
    "    log_file_path = output_loc + \"output.txt\"\n",
    "    with open(log_file_path, \"w\") as f:\n",
    "        # Temporarily redirect stdout\n",
    "        old_stdout = sys.stdout\n",
    "        sys.stdout = f\n",
    "        try:\n",
    "            print(\"Balance of target variable :\",counts )\n",
    "            run_single_experiment(output_loc, combined_df, mode=\"new\")\n",
    "        finally:\n",
    "            # Restore stdout even if experiment fails\n",
    "            sys.stdout = old_stdout\n",
    "        "
   ]
  },
  {
   "cell_type": "code",
   "execution_count": null,
   "id": "2375f2d9-8157-4393-a971-7cfef08d59ea",
   "metadata": {},
   "outputs": [],
   "source": []
  }
 ],
 "metadata": {
  "kernelspec": {
   "display_name": "Python 3 (ipykernel)",
   "language": "python",
   "name": "python3"
  },
  "language_info": {
   "codemirror_mode": {
    "name": "ipython",
    "version": 3
   },
   "file_extension": ".py",
   "mimetype": "text/x-python",
   "name": "python",
   "nbconvert_exporter": "python",
   "pygments_lexer": "ipython3",
   "version": "3.8.10"
  }
 },
 "nbformat": 4,
 "nbformat_minor": 5
}
