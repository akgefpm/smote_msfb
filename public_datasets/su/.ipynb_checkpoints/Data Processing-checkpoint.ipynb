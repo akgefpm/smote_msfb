{
 "cells": [
  {
   "cell_type": "code",
   "execution_count": 1,
   "id": "f395c13d-6bf2-439e-adad-c73630fda261",
   "metadata": {},
   "outputs": [],
   "source": [
    "import pandas as pd\n",
    "import numpy as np\n",
    "import os"
   ]
  },
  {
   "cell_type": "code",
   "execution_count": 3,
   "id": "61b89e5e-3cde-4511-bf9b-0ff06cbf9eb2",
   "metadata": {},
   "outputs": [],
   "source": [
    "# Set folder name\n",
    "output_loc = \"/domino/datasets/local/smote_msfb/microarray_data/microarray-data/csv/\"\n",
    "folder = \"su\"\n",
    "\n",
    "# Paths\n",
    "inputs_path = os.path.join(output_loc,folder, f\"{folder}_inputs.csv\")\n",
    "outputs_path = os.path.join(output_loc,folder, f\"{folder}_outputs.csv\")\n",
    "#output_file = os.path.join(output_loc,folder, \"processed.csv\")"
   ]
  },
  {
   "cell_type": "code",
   "execution_count": 4,
   "id": "0e4eb597-2602-4473-a750-de46562dab0b",
   "metadata": {},
   "outputs": [],
   "source": [
    "# Read files (no headers)\n",
    "X = pd.read_csv(inputs_path, header=None)\n",
    "y = pd.read_csv(outputs_path, header=None).iloc[:, 0]"
   ]
  },
  {
   "cell_type": "code",
   "execution_count": 5,
   "id": "1c9d7cea-26dc-4af6-bcc6-77dbf961bc7c",
   "metadata": {},
   "outputs": [],
   "source": [
    "# 1. Feature processing\n",
    "\n",
    "# Detect numeric vs. categorical\n",
    "is_numeric = X.apply(lambda col: pd.api.types.is_numeric_dtype(col))\n",
    "continuous_cols = X.columns[is_numeric]\n",
    "categorical_cols = X.columns[~is_numeric]\n",
    "\n",
    "# a) Binarize continuous\n",
    "X_bin = X.copy()\n",
    "for col in continuous_cols:\n",
    "    cutoff = X_bin[col].quantile(0.65)\n",
    "    X_bin[col] = (X_bin[col] > cutoff).astype(int)\n",
    "\n",
    "# b) One-hot encode categorical\n",
    "if len(categorical_cols) > 0:\n",
    "    X_bin = pd.get_dummies(X_bin, columns=categorical_cols, drop_first=False)\n",
    "    X_bin.reset_index(drop=True, inplace=True)"
   ]
  },
  {
   "cell_type": "code",
   "execution_count": 6,
   "id": "4a51c97d-5472-4dfc-ad02-f0ae949452aa",
   "metadata": {},
   "outputs": [],
   "source": [
    "# c) Rename columns as f_*\n",
    "X_bin.columns = [f\"f_{i}\" for i in range(X_bin.shape[1])]"
   ]
  },
  {
   "cell_type": "code",
   "execution_count": 7,
   "id": "19d320cf-a0f8-41b7-9820-f1796cd49938",
   "metadata": {},
   "outputs": [
    {
     "data": {
      "text/html": [
       "<div>\n",
       "<style scoped>\n",
       "    .dataframe tbody tr th:only-of-type {\n",
       "        vertical-align: middle;\n",
       "    }\n",
       "\n",
       "    .dataframe tbody tr th {\n",
       "        vertical-align: top;\n",
       "    }\n",
       "\n",
       "    .dataframe thead th {\n",
       "        text-align: right;\n",
       "    }\n",
       "</style>\n",
       "<table border=\"1\" class=\"dataframe\">\n",
       "  <thead>\n",
       "    <tr style=\"text-align: right;\">\n",
       "      <th></th>\n",
       "      <th>f_0</th>\n",
       "      <th>f_1</th>\n",
       "      <th>f_2</th>\n",
       "      <th>f_3</th>\n",
       "      <th>f_4</th>\n",
       "      <th>f_5</th>\n",
       "      <th>f_6</th>\n",
       "      <th>f_7</th>\n",
       "      <th>f_8</th>\n",
       "      <th>f_9</th>\n",
       "      <th>...</th>\n",
       "      <th>f_5555</th>\n",
       "      <th>f_5556</th>\n",
       "      <th>f_5557</th>\n",
       "      <th>f_5558</th>\n",
       "      <th>f_5559</th>\n",
       "      <th>f_5560</th>\n",
       "      <th>f_5561</th>\n",
       "      <th>f_5562</th>\n",
       "      <th>f_5563</th>\n",
       "      <th>f_5564</th>\n",
       "    </tr>\n",
       "  </thead>\n",
       "  <tbody>\n",
       "    <tr>\n",
       "      <th>0</th>\n",
       "      <td>1</td>\n",
       "      <td>1</td>\n",
       "      <td>0</td>\n",
       "      <td>1</td>\n",
       "      <td>0</td>\n",
       "      <td>0</td>\n",
       "      <td>1</td>\n",
       "      <td>1</td>\n",
       "      <td>1</td>\n",
       "      <td>0</td>\n",
       "      <td>...</td>\n",
       "      <td>0</td>\n",
       "      <td>0</td>\n",
       "      <td>1</td>\n",
       "      <td>1</td>\n",
       "      <td>1</td>\n",
       "      <td>0</td>\n",
       "      <td>1</td>\n",
       "      <td>1</td>\n",
       "      <td>0</td>\n",
       "      <td>0</td>\n",
       "    </tr>\n",
       "    <tr>\n",
       "      <th>1</th>\n",
       "      <td>1</td>\n",
       "      <td>0</td>\n",
       "      <td>1</td>\n",
       "      <td>1</td>\n",
       "      <td>0</td>\n",
       "      <td>0</td>\n",
       "      <td>1</td>\n",
       "      <td>0</td>\n",
       "      <td>1</td>\n",
       "      <td>0</td>\n",
       "      <td>...</td>\n",
       "      <td>0</td>\n",
       "      <td>1</td>\n",
       "      <td>0</td>\n",
       "      <td>0</td>\n",
       "      <td>1</td>\n",
       "      <td>1</td>\n",
       "      <td>0</td>\n",
       "      <td>1</td>\n",
       "      <td>0</td>\n",
       "      <td>0</td>\n",
       "    </tr>\n",
       "    <tr>\n",
       "      <th>2</th>\n",
       "      <td>1</td>\n",
       "      <td>0</td>\n",
       "      <td>0</td>\n",
       "      <td>0</td>\n",
       "      <td>0</td>\n",
       "      <td>0</td>\n",
       "      <td>1</td>\n",
       "      <td>0</td>\n",
       "      <td>1</td>\n",
       "      <td>1</td>\n",
       "      <td>...</td>\n",
       "      <td>1</td>\n",
       "      <td>1</td>\n",
       "      <td>1</td>\n",
       "      <td>1</td>\n",
       "      <td>1</td>\n",
       "      <td>0</td>\n",
       "      <td>0</td>\n",
       "      <td>1</td>\n",
       "      <td>0</td>\n",
       "      <td>0</td>\n",
       "    </tr>\n",
       "  </tbody>\n",
       "</table>\n",
       "<p>3 rows × 5565 columns</p>\n",
       "</div>"
      ],
      "text/plain": [
       "   f_0  f_1  f_2  f_3  f_4  f_5  f_6  f_7  f_8  f_9  ...  f_5555  f_5556  \\\n",
       "0    1    1    0    1    0    0    1    1    1    0  ...       0       0   \n",
       "1    1    0    1    1    0    0    1    0    1    0  ...       0       1   \n",
       "2    1    0    0    0    0    0    1    0    1    1  ...       1       1   \n",
       "\n",
       "   f_5557  f_5558  f_5559  f_5560  f_5561  f_5562  f_5563  f_5564  \n",
       "0       1       1       1       0       1       1       0       0  \n",
       "1       0       0       1       1       0       1       0       0  \n",
       "2       1       1       1       0       0       1       0       0  \n",
       "\n",
       "[3 rows x 5565 columns]"
      ]
     },
     "execution_count": 7,
     "metadata": {},
     "output_type": "execute_result"
    }
   ],
   "source": [
    "X_bin.head(3)"
   ]
  },
  {
   "cell_type": "code",
   "execution_count": 8,
   "id": "16610617-0b35-4400-8ea5-0bd37add0b34",
   "metadata": {},
   "outputs": [
    {
     "name": "stdout",
     "output_type": "stream",
     "text": [
      "Unique value counts in response:\n",
      "1.0    25\n",
      "2.0    26\n",
      "3.0    28\n",
      "4.0    23\n",
      "Name: 0, dtype: int64\n"
     ]
    }
   ],
   "source": [
    "# 2. Response processing\n",
    "\n",
    "print(\"Unique value counts in response:\")\n",
    "print(y.value_counts().sort_index())\n",
    "\n",
    "# Try all possible binary splits that meet the 10%-45% minority rule\n",
    "unique_classes = sorted(y.unique())\n",
    "best_split = None\n",
    "best_ratio = 0"
   ]
  },
  {
   "cell_type": "code",
   "execution_count": 9,
   "id": "8c040f45-b457-4312-b87c-fa7597115c6c",
   "metadata": {},
   "outputs": [
    {
     "name": "stdout",
     "output_type": "stream",
     "text": [
      "\n",
      "Grouping classes (4.0,) as minority. Minority ratio: 22.55%\n"
     ]
    }
   ],
   "source": [
    "# Try all combinations of unique levels as minority\n",
    "from itertools import combinations\n",
    "for r in range(1, len(unique_classes)):\n",
    "    for minority_classes in combinations(unique_classes, r):\n",
    "        target = y.isin(minority_classes).astype(int)\n",
    "        ratio = target.sum() / len(target)\n",
    "        if 0.10 <= ratio <= 0.25:\n",
    "            best_split = minority_classes\n",
    "            best_ratio = ratio\n",
    "\n",
    "if best_split is None:\n",
    "    raise Exception(\"No class grouping found to achieve the desired minority class ratio.\")\n",
    "\n",
    "print(f\"\\nGrouping classes {best_split} as minority. Minority ratio: {best_ratio:.2%}\")"
   ]
  },
  {
   "cell_type": "code",
   "execution_count": 10,
   "id": "c43f721c-2183-43ae-b6e8-a57205dac5bf",
   "metadata": {},
   "outputs": [],
   "source": [
    "target = y.isin(best_split).astype(int)\n",
    "target.name = \"target\""
   ]
  },
  {
   "cell_type": "code",
   "execution_count": 11,
   "id": "3c16a7af-e9f8-43af-a388-54e1237db369",
   "metadata": {},
   "outputs": [],
   "source": [
    "# 3. Combine and save\n",
    "final_df = pd.concat([X_bin, target], axis=1)"
   ]
  },
  {
   "cell_type": "code",
   "execution_count": 12,
   "id": "d7ebef47-6d81-4a66-8aa7-7b8b837005b4",
   "metadata": {},
   "outputs": [
    {
     "data": {
      "text/plain": [
       "(102, 5566)"
      ]
     },
     "execution_count": 12,
     "metadata": {},
     "output_type": "execute_result"
    }
   ],
   "source": [
    "final_df.shape"
   ]
  },
  {
   "cell_type": "code",
   "execution_count": 13,
   "id": "5640f513-6762-4c71-90a5-2a6feb2224bb",
   "metadata": {},
   "outputs": [
    {
     "data": {
      "text/html": [
       "<div>\n",
       "<style scoped>\n",
       "    .dataframe tbody tr th:only-of-type {\n",
       "        vertical-align: middle;\n",
       "    }\n",
       "\n",
       "    .dataframe tbody tr th {\n",
       "        vertical-align: top;\n",
       "    }\n",
       "\n",
       "    .dataframe thead th {\n",
       "        text-align: right;\n",
       "    }\n",
       "</style>\n",
       "<table border=\"1\" class=\"dataframe\">\n",
       "  <thead>\n",
       "    <tr style=\"text-align: right;\">\n",
       "      <th></th>\n",
       "      <th>f_0</th>\n",
       "      <th>f_1</th>\n",
       "      <th>f_2</th>\n",
       "      <th>f_3</th>\n",
       "      <th>f_4</th>\n",
       "      <th>f_5</th>\n",
       "      <th>f_6</th>\n",
       "      <th>f_7</th>\n",
       "      <th>f_8</th>\n",
       "      <th>f_9</th>\n",
       "      <th>...</th>\n",
       "      <th>f_5556</th>\n",
       "      <th>f_5557</th>\n",
       "      <th>f_5558</th>\n",
       "      <th>f_5559</th>\n",
       "      <th>f_5560</th>\n",
       "      <th>f_5561</th>\n",
       "      <th>f_5562</th>\n",
       "      <th>f_5563</th>\n",
       "      <th>f_5564</th>\n",
       "      <th>target</th>\n",
       "    </tr>\n",
       "  </thead>\n",
       "  <tbody>\n",
       "    <tr>\n",
       "      <th>0</th>\n",
       "      <td>1</td>\n",
       "      <td>1</td>\n",
       "      <td>0</td>\n",
       "      <td>1</td>\n",
       "      <td>0</td>\n",
       "      <td>0</td>\n",
       "      <td>1</td>\n",
       "      <td>1</td>\n",
       "      <td>1</td>\n",
       "      <td>0</td>\n",
       "      <td>...</td>\n",
       "      <td>0</td>\n",
       "      <td>1</td>\n",
       "      <td>1</td>\n",
       "      <td>1</td>\n",
       "      <td>0</td>\n",
       "      <td>1</td>\n",
       "      <td>1</td>\n",
       "      <td>0</td>\n",
       "      <td>0</td>\n",
       "      <td>0</td>\n",
       "    </tr>\n",
       "    <tr>\n",
       "      <th>1</th>\n",
       "      <td>1</td>\n",
       "      <td>0</td>\n",
       "      <td>1</td>\n",
       "      <td>1</td>\n",
       "      <td>0</td>\n",
       "      <td>0</td>\n",
       "      <td>1</td>\n",
       "      <td>0</td>\n",
       "      <td>1</td>\n",
       "      <td>0</td>\n",
       "      <td>...</td>\n",
       "      <td>1</td>\n",
       "      <td>0</td>\n",
       "      <td>0</td>\n",
       "      <td>1</td>\n",
       "      <td>1</td>\n",
       "      <td>0</td>\n",
       "      <td>1</td>\n",
       "      <td>0</td>\n",
       "      <td>0</td>\n",
       "      <td>0</td>\n",
       "    </tr>\n",
       "    <tr>\n",
       "      <th>2</th>\n",
       "      <td>1</td>\n",
       "      <td>0</td>\n",
       "      <td>0</td>\n",
       "      <td>0</td>\n",
       "      <td>0</td>\n",
       "      <td>0</td>\n",
       "      <td>1</td>\n",
       "      <td>0</td>\n",
       "      <td>1</td>\n",
       "      <td>1</td>\n",
       "      <td>...</td>\n",
       "      <td>1</td>\n",
       "      <td>1</td>\n",
       "      <td>1</td>\n",
       "      <td>1</td>\n",
       "      <td>0</td>\n",
       "      <td>0</td>\n",
       "      <td>1</td>\n",
       "      <td>0</td>\n",
       "      <td>0</td>\n",
       "      <td>0</td>\n",
       "    </tr>\n",
       "  </tbody>\n",
       "</table>\n",
       "<p>3 rows × 5566 columns</p>\n",
       "</div>"
      ],
      "text/plain": [
       "   f_0  f_1  f_2  f_3  f_4  f_5  f_6  f_7  f_8  f_9  ...  f_5556  f_5557  \\\n",
       "0    1    1    0    1    0    0    1    1    1    0  ...       0       1   \n",
       "1    1    0    1    1    0    0    1    0    1    0  ...       1       0   \n",
       "2    1    0    0    0    0    0    1    0    1    1  ...       1       1   \n",
       "\n",
       "   f_5558  f_5559  f_5560  f_5561  f_5562  f_5563  f_5564  target  \n",
       "0       1       1       0       1       1       0       0       0  \n",
       "1       0       1       1       0       1       0       0       0  \n",
       "2       1       1       0       0       1       0       0       0  \n",
       "\n",
       "[3 rows x 5566 columns]"
      ]
     },
     "execution_count": 13,
     "metadata": {},
     "output_type": "execute_result"
    }
   ],
   "source": [
    "final_df.head(3)"
   ]
  },
  {
   "cell_type": "code",
   "execution_count": 14,
   "id": "cdd2756a-7ad1-4826-94d4-e11da76343ef",
   "metadata": {},
   "outputs": [],
   "source": [
    "final_df.to_csv(output_loc + \"/\" + folder + \"/\" + \"final_data.csv.zip\", \n",
    "                     index=False, \n",
    "                     compression={'method': 'zip', 'archive_name': 'final_data.csv'})"
   ]
  },
  {
   "cell_type": "code",
   "execution_count": null,
   "id": "f39df85f-7e55-454d-8ca4-45bb37338e25",
   "metadata": {},
   "outputs": [],
   "source": []
  }
 ],
 "metadata": {
  "kernelspec": {
   "display_name": "Python 3 (ipykernel)",
   "language": "python",
   "name": "python3"
  },
  "language_info": {
   "codemirror_mode": {
    "name": "ipython",
    "version": 3
   },
   "file_extension": ".py",
   "mimetype": "text/x-python",
   "name": "python",
   "nbconvert_exporter": "python",
   "pygments_lexer": "ipython3",
   "version": "3.8.10"
  }
 },
 "nbformat": 4,
 "nbformat_minor": 5
}
