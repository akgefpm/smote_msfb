{
 "cells": [
  {
   "cell_type": "code",
   "execution_count": null,
   "id": "312698e8-0bba-473c-b208-d26cd3ef5b3a",
   "metadata": {},
   "outputs": [],
   "source": [
    "## Rotten Tomatoes Data"
   ]
  },
  {
   "cell_type": "code",
   "execution_count": null,
   "id": "9eb1fcc2-36f2-4a75-8005-06d9ba2e0f78",
   "metadata": {},
   "outputs": [],
   "source": [
    "! pip install nltk"
   ]
  },
  {
   "cell_type": "code",
   "execution_count": 1,
   "id": "5d00c5d6-3a09-49a7-a0f3-f2315559bce9",
   "metadata": {},
   "outputs": [],
   "source": [
    "import pandas as pd\n",
    "import string\n",
    "from sklearn.feature_extraction.text import CountVectorizer\n",
    "from nltk.corpus import stopwords\n",
    "from nltk.tokenize import word_tokenize\n",
    "import nltk\n",
    "import zipfile"
   ]
  },
  {
   "cell_type": "code",
   "execution_count": 2,
   "id": "091e2aa7-bdb3-4f89-9a53-ee53bd3fae61",
   "metadata": {},
   "outputs": [
    {
     "name": "stderr",
     "output_type": "stream",
     "text": [
      "[nltk_data] Downloading package punkt to /home/ubuntu/nltk_data...\n",
      "[nltk_data]   Unzipping tokenizers/punkt.zip.\n",
      "[nltk_data] Downloading package stopwords to /home/ubuntu/nltk_data...\n",
      "[nltk_data]   Unzipping corpora/stopwords.zip.\n"
     ]
    },
    {
     "data": {
      "text/plain": [
       "True"
      ]
     },
     "execution_count": 2,
     "metadata": {},
     "output_type": "execute_result"
    }
   ],
   "source": [
    "# Download NLTK resources if not already present\n",
    "import nltk\n",
    "nltk.download('punkt', force=True)\n",
    "nltk.download('stopwords', force=True)"
   ]
  },
  {
   "cell_type": "code",
   "execution_count": 3,
   "id": "f4ae18a8-afe4-4f6e-952b-749979e7ef4e",
   "metadata": {},
   "outputs": [],
   "source": [
    "path = \"/repos/smote_msfb/public_datasets/subjectivity/\""
   ]
  },
  {
   "cell_type": "code",
   "execution_count": 4,
   "id": "8bada011-473e-4d4d-816d-42c5c9e380d1",
   "metadata": {},
   "outputs": [],
   "source": [
    "# Load the subjective and objective sentences using 'latin1' encoding\n",
    "with open(path + \"quote.tok.gt9.5000\", \"r\", encoding=\"latin1\") as f_subj:\n",
    "    subjective = f_subj.readlines()\n",
    "\n",
    "with open(path + \"plot.tok.gt9.5000\", \"r\", encoding=\"latin1\") as f_obj:\n",
    "    objective = f_obj.readlines()"
   ]
  },
  {
   "cell_type": "code",
   "execution_count": 5,
   "id": "e3dcb185-5142-499a-aebf-cd9634ee6de0",
   "metadata": {},
   "outputs": [],
   "source": [
    "# Create a DataFrame with labels\n",
    "subj_df = pd.DataFrame({'text': subjective, 'target': 1})\n",
    "obj_df = pd.DataFrame({'text': objective, 'target': 0})"
   ]
  },
  {
   "cell_type": "code",
   "execution_count": 6,
   "id": "3588bc5c-ed10-4b57-9bdd-fbc61c38332f",
   "metadata": {},
   "outputs": [],
   "source": [
    "# Combine datasets\n",
    "data = pd.concat([subj_df, obj_df], ignore_index=True)"
   ]
  },
  {
   "cell_type": "code",
   "execution_count": 7,
   "id": "3044fe1b-9277-4cea-93f9-b53db6449232",
   "metadata": {},
   "outputs": [
    {
     "data": {
      "text/html": [
       "<div>\n",
       "<style scoped>\n",
       "    .dataframe tbody tr th:only-of-type {\n",
       "        vertical-align: middle;\n",
       "    }\n",
       "\n",
       "    .dataframe tbody tr th {\n",
       "        vertical-align: top;\n",
       "    }\n",
       "\n",
       "    .dataframe thead th {\n",
       "        text-align: right;\n",
       "    }\n",
       "</style>\n",
       "<table border=\"1\" class=\"dataframe\">\n",
       "  <thead>\n",
       "    <tr style=\"text-align: right;\">\n",
       "      <th></th>\n",
       "      <th>text</th>\n",
       "      <th>target</th>\n",
       "    </tr>\n",
       "  </thead>\n",
       "  <tbody>\n",
       "    <tr>\n",
       "      <th>0</th>\n",
       "      <td>smart and alert , thirteen conversations about...</td>\n",
       "      <td>1</td>\n",
       "    </tr>\n",
       "    <tr>\n",
       "      <th>1</th>\n",
       "      <td>color , musical bounce and warm seas lapping o...</td>\n",
       "      <td>1</td>\n",
       "    </tr>\n",
       "    <tr>\n",
       "      <th>2</th>\n",
       "      <td>it is not a mass-market entertainment but an u...</td>\n",
       "      <td>1</td>\n",
       "    </tr>\n",
       "  </tbody>\n",
       "</table>\n",
       "</div>"
      ],
      "text/plain": [
       "                                                text  target\n",
       "0  smart and alert , thirteen conversations about...       1\n",
       "1  color , musical bounce and warm seas lapping o...       1\n",
       "2  it is not a mass-market entertainment but an u...       1"
      ]
     },
     "execution_count": 7,
     "metadata": {},
     "output_type": "execute_result"
    }
   ],
   "source": [
    "data.head(3)"
   ]
  },
  {
   "cell_type": "code",
   "execution_count": 11,
   "id": "18f63df1-fb92-427c-a7c1-c547ad45b9a6",
   "metadata": {},
   "outputs": [],
   "source": [
    "from nltk.tokenize import TreebankWordTokenizer\n",
    "tokenizer = TreebankWordTokenizer()\n",
    "stop_words = set(stopwords.words(\"english\"))\n",
    "punct_table = str.maketrans(\"\", \"\", string.punctuation)\n",
    "\n",
    "def preprocess(text):\n",
    "    text = text.lower().translate(punct_table)\n",
    "    tokens = tokenizer.tokenize(text)\n",
    "    tokens = [word for word in tokens if word.isalpha() and word not in stop_words]\n",
    "    return \" \".join(tokens)"
   ]
  },
  {
   "cell_type": "code",
   "execution_count": 12,
   "id": "81c3021f-5d23-43a2-b667-ac9f93053bbf",
   "metadata": {},
   "outputs": [],
   "source": [
    "# Apply preprocessing\n",
    "data[\"clean_text\"] = data[\"text\"].apply(preprocess)"
   ]
  },
  {
   "cell_type": "code",
   "execution_count": 13,
   "id": "64d974d4-b938-470d-bf12-97bd63eab338",
   "metadata": {},
   "outputs": [],
   "source": [
    "# Vectorize using Binary Bag-of-Words\n",
    "vectorizer = CountVectorizer(binary=True)\n",
    "X = vectorizer.fit_transform(data[\"clean_text\"])"
   ]
  },
  {
   "cell_type": "code",
   "execution_count": 14,
   "id": "c2f9f50a-a001-491d-b3b2-229ae75da34e",
   "metadata": {},
   "outputs": [],
   "source": [
    "# Convert to DataFrame and rename columns to f_1, f_2, ...\n",
    "X_df = pd.DataFrame(X.toarray(), columns=[f\"f_{i+1}\" for i in range(X.shape[1])])"
   ]
  },
  {
   "cell_type": "code",
   "execution_count": 15,
   "id": "f03fb4c4-bed7-4022-9f53-11fa13911c05",
   "metadata": {},
   "outputs": [
    {
     "data": {
      "text/html": [
       "<div>\n",
       "<style scoped>\n",
       "    .dataframe tbody tr th:only-of-type {\n",
       "        vertical-align: middle;\n",
       "    }\n",
       "\n",
       "    .dataframe tbody tr th {\n",
       "        vertical-align: top;\n",
       "    }\n",
       "\n",
       "    .dataframe thead th {\n",
       "        text-align: right;\n",
       "    }\n",
       "</style>\n",
       "<table border=\"1\" class=\"dataframe\">\n",
       "  <thead>\n",
       "    <tr style=\"text-align: right;\">\n",
       "      <th></th>\n",
       "      <th>f_1</th>\n",
       "      <th>f_2</th>\n",
       "      <th>f_3</th>\n",
       "      <th>f_4</th>\n",
       "      <th>f_5</th>\n",
       "      <th>f_6</th>\n",
       "      <th>f_7</th>\n",
       "      <th>f_8</th>\n",
       "      <th>f_9</th>\n",
       "      <th>f_10</th>\n",
       "      <th>...</th>\n",
       "      <th>f_22403</th>\n",
       "      <th>f_22404</th>\n",
       "      <th>f_22405</th>\n",
       "      <th>f_22406</th>\n",
       "      <th>f_22407</th>\n",
       "      <th>f_22408</th>\n",
       "      <th>f_22409</th>\n",
       "      <th>f_22410</th>\n",
       "      <th>f_22411</th>\n",
       "      <th>f_22412</th>\n",
       "    </tr>\n",
       "  </thead>\n",
       "  <tbody>\n",
       "    <tr>\n",
       "      <th>0</th>\n",
       "      <td>0</td>\n",
       "      <td>0</td>\n",
       "      <td>0</td>\n",
       "      <td>0</td>\n",
       "      <td>0</td>\n",
       "      <td>0</td>\n",
       "      <td>0</td>\n",
       "      <td>0</td>\n",
       "      <td>0</td>\n",
       "      <td>0</td>\n",
       "      <td>...</td>\n",
       "      <td>0</td>\n",
       "      <td>0</td>\n",
       "      <td>0</td>\n",
       "      <td>0</td>\n",
       "      <td>0</td>\n",
       "      <td>0</td>\n",
       "      <td>0</td>\n",
       "      <td>0</td>\n",
       "      <td>0</td>\n",
       "      <td>0</td>\n",
       "    </tr>\n",
       "    <tr>\n",
       "      <th>1</th>\n",
       "      <td>0</td>\n",
       "      <td>0</td>\n",
       "      <td>0</td>\n",
       "      <td>0</td>\n",
       "      <td>0</td>\n",
       "      <td>0</td>\n",
       "      <td>0</td>\n",
       "      <td>0</td>\n",
       "      <td>0</td>\n",
       "      <td>0</td>\n",
       "      <td>...</td>\n",
       "      <td>0</td>\n",
       "      <td>0</td>\n",
       "      <td>0</td>\n",
       "      <td>0</td>\n",
       "      <td>0</td>\n",
       "      <td>0</td>\n",
       "      <td>0</td>\n",
       "      <td>0</td>\n",
       "      <td>0</td>\n",
       "      <td>0</td>\n",
       "    </tr>\n",
       "    <tr>\n",
       "      <th>2</th>\n",
       "      <td>0</td>\n",
       "      <td>0</td>\n",
       "      <td>0</td>\n",
       "      <td>0</td>\n",
       "      <td>0</td>\n",
       "      <td>0</td>\n",
       "      <td>0</td>\n",
       "      <td>0</td>\n",
       "      <td>0</td>\n",
       "      <td>0</td>\n",
       "      <td>...</td>\n",
       "      <td>0</td>\n",
       "      <td>0</td>\n",
       "      <td>0</td>\n",
       "      <td>0</td>\n",
       "      <td>0</td>\n",
       "      <td>0</td>\n",
       "      <td>0</td>\n",
       "      <td>0</td>\n",
       "      <td>0</td>\n",
       "      <td>0</td>\n",
       "    </tr>\n",
       "  </tbody>\n",
       "</table>\n",
       "<p>3 rows × 22412 columns</p>\n",
       "</div>"
      ],
      "text/plain": [
       "   f_1  f_2  f_3  f_4  f_5  f_6  f_7  f_8  f_9  f_10  ...  f_22403  f_22404  \\\n",
       "0    0    0    0    0    0    0    0    0    0     0  ...        0        0   \n",
       "1    0    0    0    0    0    0    0    0    0     0  ...        0        0   \n",
       "2    0    0    0    0    0    0    0    0    0     0  ...        0        0   \n",
       "\n",
       "   f_22405  f_22406  f_22407  f_22408  f_22409  f_22410  f_22411  f_22412  \n",
       "0        0        0        0        0        0        0        0        0  \n",
       "1        0        0        0        0        0        0        0        0  \n",
       "2        0        0        0        0        0        0        0        0  \n",
       "\n",
       "[3 rows x 22412 columns]"
      ]
     },
     "execution_count": 15,
     "metadata": {},
     "output_type": "execute_result"
    }
   ],
   "source": [
    "X_df.head(3)"
   ]
  },
  {
   "cell_type": "code",
   "execution_count": 16,
   "id": "499b0ad1-b08b-4426-a3c3-54dd53c40016",
   "metadata": {},
   "outputs": [
    {
     "data": {
      "text/plain": [
       "array([0, 1])"
      ]
     },
     "execution_count": 16,
     "metadata": {},
     "output_type": "execute_result"
    }
   ],
   "source": [
    "pd.unique(X_df.values.ravel())"
   ]
  },
  {
   "cell_type": "code",
   "execution_count": 17,
   "id": "f0ed8036-febd-4eb4-84cd-bafc0c0a22c7",
   "metadata": {},
   "outputs": [],
   "source": [
    "# Combine with target\n",
    "final_df = pd.concat([X_df, data[\"target\"].reset_index(drop=True)], axis=1)"
   ]
  },
  {
   "cell_type": "code",
   "execution_count": 18,
   "id": "e0c5e817-085e-4bf4-be84-1512555ea0cd",
   "metadata": {},
   "outputs": [
    {
     "data": {
      "text/html": [
       "<div>\n",
       "<style scoped>\n",
       "    .dataframe tbody tr th:only-of-type {\n",
       "        vertical-align: middle;\n",
       "    }\n",
       "\n",
       "    .dataframe tbody tr th {\n",
       "        vertical-align: top;\n",
       "    }\n",
       "\n",
       "    .dataframe thead th {\n",
       "        text-align: right;\n",
       "    }\n",
       "</style>\n",
       "<table border=\"1\" class=\"dataframe\">\n",
       "  <thead>\n",
       "    <tr style=\"text-align: right;\">\n",
       "      <th></th>\n",
       "      <th>f_1</th>\n",
       "      <th>f_2</th>\n",
       "      <th>f_3</th>\n",
       "      <th>f_4</th>\n",
       "      <th>f_5</th>\n",
       "      <th>f_6</th>\n",
       "      <th>f_7</th>\n",
       "      <th>f_8</th>\n",
       "      <th>f_9</th>\n",
       "      <th>f_10</th>\n",
       "      <th>...</th>\n",
       "      <th>f_22404</th>\n",
       "      <th>f_22405</th>\n",
       "      <th>f_22406</th>\n",
       "      <th>f_22407</th>\n",
       "      <th>f_22408</th>\n",
       "      <th>f_22409</th>\n",
       "      <th>f_22410</th>\n",
       "      <th>f_22411</th>\n",
       "      <th>f_22412</th>\n",
       "      <th>target</th>\n",
       "    </tr>\n",
       "  </thead>\n",
       "  <tbody>\n",
       "    <tr>\n",
       "      <th>0</th>\n",
       "      <td>0</td>\n",
       "      <td>0</td>\n",
       "      <td>0</td>\n",
       "      <td>0</td>\n",
       "      <td>0</td>\n",
       "      <td>0</td>\n",
       "      <td>0</td>\n",
       "      <td>0</td>\n",
       "      <td>0</td>\n",
       "      <td>0</td>\n",
       "      <td>...</td>\n",
       "      <td>0</td>\n",
       "      <td>0</td>\n",
       "      <td>0</td>\n",
       "      <td>0</td>\n",
       "      <td>0</td>\n",
       "      <td>0</td>\n",
       "      <td>0</td>\n",
       "      <td>0</td>\n",
       "      <td>0</td>\n",
       "      <td>1</td>\n",
       "    </tr>\n",
       "    <tr>\n",
       "      <th>1</th>\n",
       "      <td>0</td>\n",
       "      <td>0</td>\n",
       "      <td>0</td>\n",
       "      <td>0</td>\n",
       "      <td>0</td>\n",
       "      <td>0</td>\n",
       "      <td>0</td>\n",
       "      <td>0</td>\n",
       "      <td>0</td>\n",
       "      <td>0</td>\n",
       "      <td>...</td>\n",
       "      <td>0</td>\n",
       "      <td>0</td>\n",
       "      <td>0</td>\n",
       "      <td>0</td>\n",
       "      <td>0</td>\n",
       "      <td>0</td>\n",
       "      <td>0</td>\n",
       "      <td>0</td>\n",
       "      <td>0</td>\n",
       "      <td>1</td>\n",
       "    </tr>\n",
       "    <tr>\n",
       "      <th>2</th>\n",
       "      <td>0</td>\n",
       "      <td>0</td>\n",
       "      <td>0</td>\n",
       "      <td>0</td>\n",
       "      <td>0</td>\n",
       "      <td>0</td>\n",
       "      <td>0</td>\n",
       "      <td>0</td>\n",
       "      <td>0</td>\n",
       "      <td>0</td>\n",
       "      <td>...</td>\n",
       "      <td>0</td>\n",
       "      <td>0</td>\n",
       "      <td>0</td>\n",
       "      <td>0</td>\n",
       "      <td>0</td>\n",
       "      <td>0</td>\n",
       "      <td>0</td>\n",
       "      <td>0</td>\n",
       "      <td>0</td>\n",
       "      <td>1</td>\n",
       "    </tr>\n",
       "  </tbody>\n",
       "</table>\n",
       "<p>3 rows × 22413 columns</p>\n",
       "</div>"
      ],
      "text/plain": [
       "   f_1  f_2  f_3  f_4  f_5  f_6  f_7  f_8  f_9  f_10  ...  f_22404  f_22405  \\\n",
       "0    0    0    0    0    0    0    0    0    0     0  ...        0        0   \n",
       "1    0    0    0    0    0    0    0    0    0     0  ...        0        0   \n",
       "2    0    0    0    0    0    0    0    0    0     0  ...        0        0   \n",
       "\n",
       "   f_22406  f_22407  f_22408  f_22409  f_22410  f_22411  f_22412  target  \n",
       "0        0        0        0        0        0        0        0       1  \n",
       "1        0        0        0        0        0        0        0       1  \n",
       "2        0        0        0        0        0        0        0       1  \n",
       "\n",
       "[3 rows x 22413 columns]"
      ]
     },
     "execution_count": 18,
     "metadata": {},
     "output_type": "execute_result"
    }
   ],
   "source": [
    "final_df.head(3)"
   ]
  },
  {
   "cell_type": "code",
   "execution_count": 19,
   "id": "b4db2255-2077-48a4-9b20-a9bd85490ed9",
   "metadata": {},
   "outputs": [
    {
     "name": "stdout",
     "output_type": "stream",
     "text": [
      "target\n",
      "1    0.5\n",
      "0    0.5\n",
      "Name: proportion, dtype: float64\n"
     ]
    }
   ],
   "source": [
    "# If y is a column in a DataFrame (e.g., df[\"target\"])\n",
    "print(final_df[\"target\"].value_counts(normalize=True))"
   ]
  },
  {
   "cell_type": "code",
   "execution_count": 20,
   "id": "159805ef-f349-412a-ac74-cfd7d36e8ada",
   "metadata": {},
   "outputs": [
    {
     "name": "stdout",
     "output_type": "stream",
     "text": [
      "target\n",
      "0    0.833333\n",
      "1    0.166667\n",
      "Name: proportion, dtype: float64\n"
     ]
    }
   ],
   "source": [
    "# Split data by class\n",
    "minority_df = final_df[final_df[\"target\"] == 1]\n",
    "majority_df = final_df[final_df[\"target\"] == 0]\n",
    "\n",
    "# Sample 20% of minority class\n",
    "minority_sample = minority_df.sample(frac=0.2, random_state=42)\n",
    "\n",
    "# Concatenate sampled minority and full majority\n",
    "imbalanced_df = pd.concat([minority_sample, majority_df], ignore_index=True)\n",
    "\n",
    "# Shuffle the resulting DataFrame\n",
    "#imbalanced_df = imbalanced_df.sample(frac=1, random_state=42).reset_index(drop=True)\n",
    "\n",
    "# Optional: check new class balance\n",
    "print(imbalanced_df[\"target\"].value_counts(normalize=True))\n"
   ]
  },
  {
   "cell_type": "code",
   "execution_count": 21,
   "id": "ec172c50-f438-438c-be96-4201b5309f15",
   "metadata": {},
   "outputs": [
    {
     "data": {
      "text/html": [
       "<div>\n",
       "<style scoped>\n",
       "    .dataframe tbody tr th:only-of-type {\n",
       "        vertical-align: middle;\n",
       "    }\n",
       "\n",
       "    .dataframe tbody tr th {\n",
       "        vertical-align: top;\n",
       "    }\n",
       "\n",
       "    .dataframe thead th {\n",
       "        text-align: right;\n",
       "    }\n",
       "</style>\n",
       "<table border=\"1\" class=\"dataframe\">\n",
       "  <thead>\n",
       "    <tr style=\"text-align: right;\">\n",
       "      <th></th>\n",
       "      <th>f_1</th>\n",
       "      <th>f_2</th>\n",
       "      <th>f_3</th>\n",
       "      <th>f_4</th>\n",
       "      <th>f_5</th>\n",
       "      <th>f_6</th>\n",
       "      <th>f_7</th>\n",
       "      <th>f_8</th>\n",
       "      <th>f_9</th>\n",
       "      <th>f_10</th>\n",
       "      <th>...</th>\n",
       "      <th>f_22404</th>\n",
       "      <th>f_22405</th>\n",
       "      <th>f_22406</th>\n",
       "      <th>f_22407</th>\n",
       "      <th>f_22408</th>\n",
       "      <th>f_22409</th>\n",
       "      <th>f_22410</th>\n",
       "      <th>f_22411</th>\n",
       "      <th>f_22412</th>\n",
       "      <th>target</th>\n",
       "    </tr>\n",
       "  </thead>\n",
       "  <tbody>\n",
       "    <tr>\n",
       "      <th>0</th>\n",
       "      <td>0</td>\n",
       "      <td>0</td>\n",
       "      <td>0</td>\n",
       "      <td>0</td>\n",
       "      <td>0</td>\n",
       "      <td>0</td>\n",
       "      <td>0</td>\n",
       "      <td>0</td>\n",
       "      <td>0</td>\n",
       "      <td>0</td>\n",
       "      <td>...</td>\n",
       "      <td>0</td>\n",
       "      <td>0</td>\n",
       "      <td>0</td>\n",
       "      <td>0</td>\n",
       "      <td>0</td>\n",
       "      <td>0</td>\n",
       "      <td>0</td>\n",
       "      <td>0</td>\n",
       "      <td>0</td>\n",
       "      <td>1</td>\n",
       "    </tr>\n",
       "    <tr>\n",
       "      <th>1</th>\n",
       "      <td>0</td>\n",
       "      <td>0</td>\n",
       "      <td>0</td>\n",
       "      <td>0</td>\n",
       "      <td>0</td>\n",
       "      <td>0</td>\n",
       "      <td>0</td>\n",
       "      <td>0</td>\n",
       "      <td>0</td>\n",
       "      <td>0</td>\n",
       "      <td>...</td>\n",
       "      <td>0</td>\n",
       "      <td>0</td>\n",
       "      <td>0</td>\n",
       "      <td>0</td>\n",
       "      <td>0</td>\n",
       "      <td>0</td>\n",
       "      <td>0</td>\n",
       "      <td>0</td>\n",
       "      <td>0</td>\n",
       "      <td>1</td>\n",
       "    </tr>\n",
       "    <tr>\n",
       "      <th>2</th>\n",
       "      <td>0</td>\n",
       "      <td>0</td>\n",
       "      <td>0</td>\n",
       "      <td>0</td>\n",
       "      <td>0</td>\n",
       "      <td>0</td>\n",
       "      <td>0</td>\n",
       "      <td>0</td>\n",
       "      <td>0</td>\n",
       "      <td>0</td>\n",
       "      <td>...</td>\n",
       "      <td>0</td>\n",
       "      <td>0</td>\n",
       "      <td>0</td>\n",
       "      <td>0</td>\n",
       "      <td>0</td>\n",
       "      <td>0</td>\n",
       "      <td>0</td>\n",
       "      <td>0</td>\n",
       "      <td>0</td>\n",
       "      <td>1</td>\n",
       "    </tr>\n",
       "  </tbody>\n",
       "</table>\n",
       "<p>3 rows × 22413 columns</p>\n",
       "</div>"
      ],
      "text/plain": [
       "   f_1  f_2  f_3  f_4  f_5  f_6  f_7  f_8  f_9  f_10  ...  f_22404  f_22405  \\\n",
       "0    0    0    0    0    0    0    0    0    0     0  ...        0        0   \n",
       "1    0    0    0    0    0    0    0    0    0     0  ...        0        0   \n",
       "2    0    0    0    0    0    0    0    0    0     0  ...        0        0   \n",
       "\n",
       "   f_22406  f_22407  f_22408  f_22409  f_22410  f_22411  f_22412  target  \n",
       "0        0        0        0        0        0        0        0       1  \n",
       "1        0        0        0        0        0        0        0       1  \n",
       "2        0        0        0        0        0        0        0       1  \n",
       "\n",
       "[3 rows x 22413 columns]"
      ]
     },
     "execution_count": 21,
     "metadata": {},
     "output_type": "execute_result"
    }
   ],
   "source": [
    "imbalanced_df.head(3)"
   ]
  },
  {
   "cell_type": "code",
   "execution_count": 22,
   "id": "f91ae81c-f271-47f5-ab08-cee587fc1dd4",
   "metadata": {},
   "outputs": [],
   "source": [
    "imbalanced_df.columns = [str(col) for col in imbalanced_df.columns]"
   ]
  },
  {
   "cell_type": "code",
   "execution_count": 23,
   "id": "4b67d0e0-6a81-49f6-b166-239c53d692a7",
   "metadata": {},
   "outputs": [],
   "source": [
    "imbalanced_df.to_parquet(\n",
    "    path + \"/processed_dataset.parquet\",\n",
    "    engine=\"pyarrow\",\n",
    "    compression=\"snappy\",\n",
    "    index=False\n",
    ")"
   ]
  },
  {
   "cell_type": "code",
   "execution_count": null,
   "id": "938bc7c0-7fa6-46bb-919f-eca344eeb311",
   "metadata": {},
   "outputs": [],
   "source": []
  }
 ],
 "metadata": {
  "kernelspec": {
   "display_name": "Python 3 (ipykernel)",
   "language": "python",
   "name": "python3"
  },
  "language_info": {
   "codemirror_mode": {
    "name": "ipython",
    "version": 3
   },
   "file_extension": ".py",
   "mimetype": "text/x-python",
   "name": "python",
   "nbconvert_exporter": "python",
   "pygments_lexer": "ipython3",
   "version": "3.8.10"
  }
 },
 "nbformat": 4,
 "nbformat_minor": 5
}
