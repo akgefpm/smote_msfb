{
 "cells": [
  {
   "cell_type": "code",
   "execution_count": null,
   "id": "2c9f8e08-44bb-431e-a7b8-90d725ca0441",
   "metadata": {},
   "outputs": [],
   "source": [
    "## Generate the summary metrics using the generated dataset"
   ]
  },
  {
   "cell_type": "code",
   "execution_count": 1,
   "id": "b1f50954-e610-4a54-896b-f45020ead332",
   "metadata": {},
   "outputs": [
    {
     "name": "stdout",
     "output_type": "stream",
     "text": [
      "Requirement already satisfied: pandas in /home/ubuntu/.local/lib/python3.8/site-packages (2.0.3)\n",
      "Requirement already satisfied: pyarrow in /home/ubuntu/.local/lib/python3.8/site-packages (17.0.0)\n",
      "Requirement already satisfied: fastparquet in /home/ubuntu/.local/lib/python3.8/site-packages (2024.2.0)\n",
      "Requirement already satisfied: numpy>=1.20.3 in /opt/conda/lib/python3.8/site-packages (from pandas) (1.21.1)\n",
      "Requirement already satisfied: python-dateutil>=2.8.2 in /opt/conda/lib/python3.8/site-packages (from pandas) (2.8.2)\n",
      "Requirement already satisfied: pytz>=2020.1 in /opt/conda/lib/python3.8/site-packages (from pandas) (2021.1)\n",
      "Requirement already satisfied: tzdata>=2022.1 in /home/ubuntu/.local/lib/python3.8/site-packages (from pandas) (2025.2)\n",
      "Requirement already satisfied: six>=1.5 in /opt/conda/lib/python3.8/site-packages (from python-dateutil>=2.8.2->pandas) (1.15.0)\n",
      "Requirement already satisfied: fsspec in /home/ubuntu/.local/lib/python3.8/site-packages (from fastparquet) (2025.3.0)\n",
      "Requirement already satisfied: packaging in /home/ubuntu/.local/lib/python3.8/site-packages (from fastparquet) (21.0)\n",
      "Requirement already satisfied: cramjam>=2.3 in /home/ubuntu/.local/lib/python3.8/site-packages (from fastparquet) (2.11.0)\n",
      "Requirement already satisfied: pyparsing>=2.0.2 in /home/ubuntu/.local/lib/python3.8/site-packages (from packaging->fastparquet) (2.4.7)\n"
     ]
    }
   ],
   "source": [
    "! pip install --user pandas pyarrow fastparquet"
   ]
  },
  {
   "cell_type": "code",
   "execution_count": 2,
   "id": "1afe6891-00f4-415a-b52b-0185a4bf4981",
   "metadata": {},
   "outputs": [],
   "source": [
    "import pandas as pd\n",
    "import numpy as np\n",
    "import sys\n",
    "sys.path.append('/repos/smote_msfb/helper_functions')\n",
    "\n",
    "from summarize_dataset_with_hubness import summarize_dataset_with_hubness\n",
    "from create_folder_if_not_exists import create_folder_if_not_exists"
   ]
  },
  {
   "cell_type": "code",
   "execution_count": 3,
   "id": "671bd7ff-2347-46d8-bb1f-4d525f0ca7e4",
   "metadata": {},
   "outputs": [],
   "source": [
    "path = \"/repos/smote_msfb/public_datasets/tmc2007/\""
   ]
  },
  {
   "cell_type": "code",
   "execution_count": 4,
   "id": "19be46f6-c56d-4f33-8ac3-addefce011fd",
   "metadata": {},
   "outputs": [],
   "source": [
    "## Create summary metric dataset for this public dataset\n",
    "data = pd.read_parquet( path + \"processed_dataset.parquet\" , engine=\"pyarrow\")"
   ]
  },
  {
   "cell_type": "code",
   "execution_count": null,
   "id": "1bc365cf-a0db-49c4-b3a7-1463c9b542d1",
   "metadata": {},
   "outputs": [
    {
     "name": "stderr",
     "output_type": "stream",
     "text": [
      "/opt/conda/lib/python3.8/site-packages/sklearn/metrics/pairwise.py:1776: DataConversionWarning: Data was converted to boolean for metric jaccard\n",
      "  warnings.warn(msg, DataConversionWarning)\n",
      "/opt/conda/lib/python3.8/site-packages/sklearn/metrics/pairwise.py:1776: DataConversionWarning: Data was converted to boolean for metric jaccard\n",
      "  warnings.warn(msg, DataConversionWarning)\n",
      "/opt/conda/lib/python3.8/site-packages/sklearn/metrics/pairwise.py:1776: DataConversionWarning: Data was converted to boolean for metric jaccard\n",
      "  warnings.warn(msg, DataConversionWarning)\n"
     ]
    }
   ],
   "source": [
    "summary_df = summarize_dataset_with_hubness(data, k=5)"
   ]
  },
  {
   "cell_type": "code",
   "execution_count": null,
   "id": "5b7939eb-c3b3-486b-8dca-cd894ab36a96",
   "metadata": {},
   "outputs": [],
   "source": [
    "output_loc = \"/domino/datasets/local/smote_msfb/public_datasets/tmc2007/\"\n",
    "create_folder_if_not_exists(output_loc)"
   ]
  },
  {
   "cell_type": "code",
   "execution_count": null,
   "id": "8c849b8d-6316-4c53-9f99-c02d9a83aa32",
   "metadata": {},
   "outputs": [],
   "source": [
    "summary_df.to_csv(\n",
    "    output_loc + \"/Summary_metrics_data.zip\",\n",
    "    index=False,\n",
    "    compression={\n",
    "        \"method\": \"zip\",\n",
    "        \"archive_name\": \"Summary_metrics_data.csv\"\n",
    "    }\n",
    ")"
   ]
  },
  {
   "cell_type": "code",
   "execution_count": null,
   "id": "fbf0c576-6b4b-4884-9a26-cabf2f42b3e2",
   "metadata": {},
   "outputs": [],
   "source": []
  }
 ],
 "metadata": {
  "kernelspec": {
   "display_name": "Python 3 (ipykernel)",
   "language": "python",
   "name": "python3"
  },
  "language_info": {
   "codemirror_mode": {
    "name": "ipython",
    "version": 3
   },
   "file_extension": ".py",
   "mimetype": "text/x-python",
   "name": "python",
   "nbconvert_exporter": "python",
   "pygments_lexer": "ipython3",
   "version": "3.8.10"
  }
 },
 "nbformat": 4,
 "nbformat_minor": 5
}
