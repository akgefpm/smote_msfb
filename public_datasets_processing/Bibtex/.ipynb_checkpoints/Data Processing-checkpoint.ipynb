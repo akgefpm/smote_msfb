{
 "cells": [
  {
   "cell_type": "code",
   "execution_count": null,
   "id": "ea83ef86-78dd-4452-b45a-5aac32c244e7",
   "metadata": {},
   "outputs": [],
   "source": [
    "! pip install liac-arff"
   ]
  },
  {
   "cell_type": "code",
   "execution_count": null,
   "id": "b1f50954-e610-4a54-896b-f45020ead332",
   "metadata": {},
   "outputs": [],
   "source": [
    "! pip install pandas pyarrow fastparquet"
   ]
  },
  {
   "cell_type": "code",
   "execution_count": null,
   "id": "2c9f8e08-44bb-431e-a7b8-90d725ca0441",
   "metadata": {},
   "outputs": [],
   "source": [
    "## Checks to be executed for each dataset\n",
    "## 1. The unique values across the entire dataset should be 0 or 1 only\n",
    "## 2. There should NOT be any columns in the co-variate space with all value equal. Let's remove those columns"
   ]
  },
  {
   "cell_type": "code",
   "execution_count": 2,
   "id": "1afe6891-00f4-415a-b52b-0185a4bf4981",
   "metadata": {},
   "outputs": [],
   "source": [
    "import arff\n",
    "import pandas as pd\n",
    "from scipy.sparse import csr_matrix\n",
    "import numpy as np\n"
   ]
  },
  {
   "cell_type": "code",
   "execution_count": 3,
   "id": "671bd7ff-2347-46d8-bb1f-4d525f0ca7e4",
   "metadata": {},
   "outputs": [],
   "source": [
    "path = \"/repos/smote_msfb/public_datasets/bibtex/\""
   ]
  },
  {
   "cell_type": "code",
   "execution_count": 4,
   "id": "ec235a55-f63f-43b2-baac-bcc3912b8f5c",
   "metadata": {},
   "outputs": [],
   "source": [
    "# Load the .arff file - With full data in one file\n",
    "with open(path + 'bibtex.arff', 'r') as f:\n",
    "    dataset = arff.load(f)\n",
    "    \n",
    "# Extract data and attributes\n",
    "data = dataset['data']\n",
    "attributes = dataset['attributes']\n",
    "\n",
    "# Create DataFrame\n",
    "columns = [attr[0] for attr in attributes]\n",
    "bibtex_data = pd.DataFrame(data, columns=columns)"
   ]
  },
  {
   "cell_type": "code",
   "execution_count": 5,
   "id": "bbab1187-1cf3-4568-a878-cc6f5116f5ad",
   "metadata": {},
   "outputs": [
    {
     "name": "stdout",
     "output_type": "stream",
     "text": [
      "Shape of the bibtex_data file : (7395, 1995)\n"
     ]
    }
   ],
   "source": [
    "print(\"Shape of the bibtex_data file :\", bibtex_data.shape)"
   ]
  },
  {
   "cell_type": "code",
   "execution_count": 6,
   "id": "b6768b85-6836-4031-90f5-282951e1f5e1",
   "metadata": {},
   "outputs": [
    {
     "name": "stdout",
     "output_type": "stream",
     "text": [
      "1836\n"
     ]
    }
   ],
   "source": [
    "### Get the position of the first Label columns\n",
    "col_position = bibtex_data.columns.get_loc(\"TAG_2005\")\n",
    "print(col_position)"
   ]
  },
  {
   "cell_type": "code",
   "execution_count": 7,
   "id": "1c34ebb9-bbc7-4591-9405-8e42ce110cc7",
   "metadata": {},
   "outputs": [
    {
     "data": {
      "text/plain": [
       "Index(['0', '000', '02', '05', '06', '1', '10', '100', '11', '12',\n",
       "       ...\n",
       "       'TAG_topic7', 'TAG_topic8', 'TAG_topic9', 'TAG_toread',\n",
       "       'TAG_transition', 'TAG_visual', 'TAG_visualization', 'TAG_web',\n",
       "       'TAG_web20', 'TAG_wiki'],\n",
       "      dtype='object', length=1995)"
      ]
     },
     "execution_count": 7,
     "metadata": {},
     "output_type": "execute_result"
    }
   ],
   "source": [
    "bibtex_data.columns"
   ]
  },
  {
   "cell_type": "code",
   "execution_count": 10,
   "id": "31203618-52b0-4071-8a2c-a0fc621e1033",
   "metadata": {},
   "outputs": [
    {
     "data": {
      "text/plain": [
       "Index(['0', '000', '02', '05', '06', '1', '10', '100', '11', '12',\n",
       "       ...\n",
       "       'years', 'yet', 'yield', 'yields', 'you', 'young', 'z', 'zero', 'zu',\n",
       "       'zur'],\n",
       "      dtype='object', length=1836)"
      ]
     },
     "execution_count": 10,
     "metadata": {},
     "output_type": "execute_result"
    }
   ],
   "source": [
    "bibtex_data.iloc[:,:1836].columns"
   ]
  },
  {
   "cell_type": "code",
   "execution_count": 11,
   "id": "ae764af1-cd47-4388-b0a3-dc6d68f33143",
   "metadata": {},
   "outputs": [
    {
     "name": "stdout",
     "output_type": "stream",
     "text": [
      "['0' '1']\n"
     ]
    }
   ],
   "source": [
    "##Check if the unique values across the entire co-variate space is 0 and 1 only or not\n",
    "unique_values = np.unique(bibtex_data.iloc[:, :1836].values)\n",
    "print(unique_values)"
   ]
  },
  {
   "cell_type": "code",
   "execution_count": 12,
   "id": "a3b1c775-4dea-4711-b164-86e9ba0b4849",
   "metadata": {},
   "outputs": [
    {
     "name": "stdout",
     "output_type": "stream",
     "text": [
      "['0' '1']\n"
     ]
    }
   ],
   "source": [
    "## Check if the unique values in the mulit labels is 0 and 1 only or not\n",
    "unique_values = np.unique(bibtex_data.iloc[:,1837:].values)\n",
    "print(unique_values)"
   ]
  },
  {
   "cell_type": "code",
   "execution_count": 13,
   "id": "947ccbe4-54e8-42a8-a329-e475251b81c1",
   "metadata": {},
   "outputs": [
    {
     "name": "stdout",
     "output_type": "stream",
     "text": [
      "Shape of the non_constant_cols : (7395, 1836)\n",
      "Shape of bibtex_data_cleaned : (7395, 1995)\n"
     ]
    }
   ],
   "source": [
    "## Check to drop columns from the dataset with same values for all rows\n",
    "\n",
    "# Subset the first 1836 columns\n",
    "features = bibtex_data.iloc[:, :1836]\n",
    "\n",
    "# Identify columns with more than one unique value\n",
    "non_constant_cols = features.loc[:, features.nunique(dropna=False) > 1]\n",
    "\n",
    "print(\"Shape of the non_constant_cols :\", non_constant_cols.shape)\n",
    "\n",
    "# Concatenate with the remaining part of the DataFrame (e.g., label columns)\n",
    "bibtex_data_cleaned = pd.concat([non_constant_cols, bibtex_data.iloc[:, 1836:]], axis=1)\n",
    "\n",
    "print(\"Shape of bibtex_data_cleaned :\", bibtex_data_cleaned.shape)"
   ]
  },
  {
   "cell_type": "code",
   "execution_count": null,
   "id": "92f9bae4-6ea8-4015-9303-748038d58c75",
   "metadata": {},
   "outputs": [],
   "source": [
    "## No columns were deleted during constant value checks"
   ]
  },
  {
   "cell_type": "code",
   "execution_count": 15,
   "id": "7b711968-b174-48c9-9043-d3cea269b41d",
   "metadata": {},
   "outputs": [
    {
     "data": {
      "text/plain": [
       "Index(['0', '000', '02', '05', '06', '1', '10', '100', '11', '12',\n",
       "       ...\n",
       "       'z', 'zero', 'zu', 'zur', 'TAG_2005', 'TAG_2006', 'TAG_2007',\n",
       "       'TAG_agdetection', 'TAG_algorithms', 'TAG_amperometry'],\n",
       "      dtype='object', length=1842)"
      ]
     },
     "execution_count": 15,
     "metadata": {},
     "output_type": "execute_result"
    }
   ],
   "source": [
    "bibtex_data_cleaned.iloc[:,:1842].columns"
   ]
  },
  {
   "cell_type": "code",
   "execution_count": 16,
   "id": "59a8c12f-696e-40e4-a483-e3a206231d79",
   "metadata": {},
   "outputs": [],
   "source": [
    "##  Rename the co-variate feature space of the dataset\n",
    "\n",
    "# Generate new column names\n",
    "new_feature_names = [f\"f_{i}\" for i in range(1836)]\n",
    "\n",
    "# Assign the new names to the first 1836 columns\n",
    "bibtex_data_cleaned.columns.values[:1836] = new_feature_names"
   ]
  },
  {
   "cell_type": "code",
   "execution_count": 17,
   "id": "48cad269-ec5e-4d89-a39d-2b946c7efc82",
   "metadata": {},
   "outputs": [
    {
     "data": {
      "text/html": [
       "<div>\n",
       "<style scoped>\n",
       "    .dataframe tbody tr th:only-of-type {\n",
       "        vertical-align: middle;\n",
       "    }\n",
       "\n",
       "    .dataframe tbody tr th {\n",
       "        vertical-align: top;\n",
       "    }\n",
       "\n",
       "    .dataframe thead th {\n",
       "        text-align: right;\n",
       "    }\n",
       "</style>\n",
       "<table border=\"1\" class=\"dataframe\">\n",
       "  <thead>\n",
       "    <tr style=\"text-align: right;\">\n",
       "      <th></th>\n",
       "      <th>f_0</th>\n",
       "      <th>f_1</th>\n",
       "      <th>f_2</th>\n",
       "      <th>f_3</th>\n",
       "      <th>f_4</th>\n",
       "      <th>f_5</th>\n",
       "      <th>f_6</th>\n",
       "      <th>f_7</th>\n",
       "      <th>f_8</th>\n",
       "      <th>f_9</th>\n",
       "      <th>...</th>\n",
       "      <th>TAG_topic7</th>\n",
       "      <th>TAG_topic8</th>\n",
       "      <th>TAG_topic9</th>\n",
       "      <th>TAG_toread</th>\n",
       "      <th>TAG_transition</th>\n",
       "      <th>TAG_visual</th>\n",
       "      <th>TAG_visualization</th>\n",
       "      <th>TAG_web</th>\n",
       "      <th>TAG_web20</th>\n",
       "      <th>TAG_wiki</th>\n",
       "    </tr>\n",
       "  </thead>\n",
       "  <tbody>\n",
       "    <tr>\n",
       "      <th>0</th>\n",
       "      <td>0</td>\n",
       "      <td>0</td>\n",
       "      <td>0</td>\n",
       "      <td>0</td>\n",
       "      <td>0</td>\n",
       "      <td>0</td>\n",
       "      <td>0</td>\n",
       "      <td>0</td>\n",
       "      <td>0</td>\n",
       "      <td>0</td>\n",
       "      <td>...</td>\n",
       "      <td>0</td>\n",
       "      <td>0</td>\n",
       "      <td>0</td>\n",
       "      <td>0</td>\n",
       "      <td>0</td>\n",
       "      <td>0</td>\n",
       "      <td>0</td>\n",
       "      <td>0</td>\n",
       "      <td>0</td>\n",
       "      <td>1</td>\n",
       "    </tr>\n",
       "    <tr>\n",
       "      <th>1</th>\n",
       "      <td>1</td>\n",
       "      <td>0</td>\n",
       "      <td>0</td>\n",
       "      <td>0</td>\n",
       "      <td>0</td>\n",
       "      <td>0</td>\n",
       "      <td>0</td>\n",
       "      <td>0</td>\n",
       "      <td>0</td>\n",
       "      <td>0</td>\n",
       "      <td>...</td>\n",
       "      <td>0</td>\n",
       "      <td>0</td>\n",
       "      <td>0</td>\n",
       "      <td>0</td>\n",
       "      <td>1</td>\n",
       "      <td>0</td>\n",
       "      <td>0</td>\n",
       "      <td>0</td>\n",
       "      <td>0</td>\n",
       "      <td>0</td>\n",
       "    </tr>\n",
       "    <tr>\n",
       "      <th>2</th>\n",
       "      <td>1</td>\n",
       "      <td>0</td>\n",
       "      <td>0</td>\n",
       "      <td>0</td>\n",
       "      <td>0</td>\n",
       "      <td>1</td>\n",
       "      <td>0</td>\n",
       "      <td>1</td>\n",
       "      <td>0</td>\n",
       "      <td>0</td>\n",
       "      <td>...</td>\n",
       "      <td>0</td>\n",
       "      <td>0</td>\n",
       "      <td>0</td>\n",
       "      <td>0</td>\n",
       "      <td>0</td>\n",
       "      <td>0</td>\n",
       "      <td>0</td>\n",
       "      <td>0</td>\n",
       "      <td>0</td>\n",
       "      <td>0</td>\n",
       "    </tr>\n",
       "  </tbody>\n",
       "</table>\n",
       "<p>3 rows × 1995 columns</p>\n",
       "</div>"
      ],
      "text/plain": [
       "  f_0 f_1 f_2 f_3 f_4 f_5 f_6 f_7 f_8 f_9  ... TAG_topic7 TAG_topic8  \\\n",
       "0   0   0   0   0   0   0   0   0   0   0  ...          0          0   \n",
       "1   1   0   0   0   0   0   0   0   0   0  ...          0          0   \n",
       "2   1   0   0   0   0   1   0   1   0   0  ...          0          0   \n",
       "\n",
       "  TAG_topic9 TAG_toread TAG_transition TAG_visual TAG_visualization TAG_web  \\\n",
       "0          0          0              0          0                 0       0   \n",
       "1          0          0              1          0                 0       0   \n",
       "2          0          0              0          0                 0       0   \n",
       "\n",
       "  TAG_web20 TAG_wiki  \n",
       "0         0        1  \n",
       "1         0        0  \n",
       "2         0        0  \n",
       "\n",
       "[3 rows x 1995 columns]"
      ]
     },
     "execution_count": 17,
     "metadata": {},
     "output_type": "execute_result"
    }
   ],
   "source": [
    "bibtex_data_cleaned.head(3)"
   ]
  },
  {
   "cell_type": "code",
   "execution_count": 33,
   "id": "3f22399c-a1ab-4bcd-9df9-a636ffb84ba7",
   "metadata": {},
   "outputs": [
    {
     "name": "stdout",
     "output_type": "stream",
     "text": [
      "target_1: 0's = 0.9907, 1's = 0.0093\n",
      "target_2: 0's = 0.9822, 1's = 0.0178\n",
      "target_3: 0's = 0.9904, 1's = 0.0096\n",
      "target_4: 0's = 0.9859, 1's = 0.0141\n",
      "target_5: 0's = 0.9923, 1's = 0.0077\n",
      "target_6: 0's = 0.9867, 1's = 0.0133\n",
      "target_7: 0's = 0.9723, 1's = 0.0277\n",
      "target_8: 0's = 0.9889, 1's = 0.0111\n",
      "target_9: 0's = 0.9918, 1's = 0.0082\n",
      "target_10: 0's = 0.9817, 1's = 0.0183\n",
      "target_11: 0's = 0.9604, 1's = 0.0396\n",
      "target_12: 0's = 0.9874, 1's = 0.0126\n",
      "target_13: 0's = 0.9918, 1's = 0.0082\n",
      "target_14: 0's = 0.9801, 1's = 0.0199\n",
      "target_15: 0's = 0.9294, 1's = 0.0706\n",
      "target_16: 0's = 0.9870, 1's = 0.0130\n",
      "target_17: 0's = 0.9861, 1's = 0.0139\n",
      "target_18: 0's = 0.9918, 1's = 0.0082\n",
      "target_19: 0's = 0.9823, 1's = 0.0177\n",
      "target_20: 0's = 0.9869, 1's = 0.0131\n",
      "target_21: 0's = 0.9900, 1's = 0.0100\n",
      "target_22: 0's = 0.9843, 1's = 0.0157\n",
      "target_23: 0's = 0.9827, 1's = 0.0173\n",
      "target_24: 0's = 0.9897, 1's = 0.0103\n",
      "target_25: 0's = 0.9908, 1's = 0.0092\n",
      "target_26: 0's = 0.9920, 1's = 0.0080\n",
      "target_27: 0's = 0.9878, 1's = 0.0122\n",
      "target_28: 0's = 0.9842, 1's = 0.0158\n",
      "target_29: 0's = 0.9931, 1's = 0.0069\n",
      "target_30: 0's = 0.9918, 1's = 0.0082\n",
      "target_31: 0's = 0.9896, 1's = 0.0104\n",
      "target_32: 0's = 0.9931, 1's = 0.0069\n",
      "target_33: 0's = 0.9903, 1's = 0.0097\n",
      "target_34: 0's = 0.9913, 1's = 0.0087\n",
      "target_35: 0's = 0.9918, 1's = 0.0082\n",
      "target_36: 0's = 0.9869, 1's = 0.0131\n",
      "target_37: 0's = 0.9685, 1's = 0.0315\n",
      "target_38: 0's = 0.9926, 1's = 0.0074\n",
      "target_39: 0's = 0.9884, 1's = 0.0116\n",
      "target_40: 0's = 0.9915, 1's = 0.0085\n",
      "target_41: 0's = 0.9930, 1's = 0.0070\n",
      "target_42: 0's = 0.9771, 1's = 0.0229\n",
      "target_43: 0's = 0.9844, 1's = 0.0156\n",
      "target_44: 0's = 0.9884, 1's = 0.0116\n",
      "target_45: 0's = 0.9736, 1's = 0.0264\n",
      "target_46: 0's = 0.9927, 1's = 0.0073\n",
      "target_47: 0's = 0.9930, 1's = 0.0070\n",
      "target_48: 0's = 0.9903, 1's = 0.0097\n",
      "target_49: 0's = 0.9859, 1's = 0.0141\n",
      "target_50: 0's = 0.9857, 1's = 0.0143\n",
      "target_51: 0's = 0.9928, 1's = 0.0072\n",
      "target_52: 0's = 0.9904, 1's = 0.0096\n",
      "target_53: 0's = 0.9602, 1's = 0.0398\n",
      "target_54: 0's = 0.9927, 1's = 0.0073\n",
      "target_55: 0's = 0.9820, 1's = 0.0180\n",
      "target_56: 0's = 0.9888, 1's = 0.0112\n",
      "target_57: 0's = 0.9927, 1's = 0.0073\n",
      "target_58: 0's = 0.9924, 1's = 0.0076\n",
      "target_59: 0's = 0.9923, 1's = 0.0077\n",
      "target_60: 0's = 0.9927, 1's = 0.0073\n",
      "target_61: 0's = 0.9913, 1's = 0.0087\n",
      "target_62: 0's = 0.9863, 1's = 0.0137\n",
      "target_63: 0's = 0.9913, 1's = 0.0087\n",
      "target_64: 0's = 0.9662, 1's = 0.0338\n",
      "target_65: 0's = 0.9915, 1's = 0.0085\n",
      "target_66: 0's = 0.9901, 1's = 0.0099\n",
      "target_67: 0's = 0.9769, 1's = 0.0231\n",
      "target_68: 0's = 0.9897, 1's = 0.0103\n",
      "target_69: 0's = 0.9918, 1's = 0.0082\n",
      "target_70: 0's = 0.9927, 1's = 0.0073\n",
      "target_71: 0's = 0.9753, 1's = 0.0247\n",
      "target_72: 0's = 0.9889, 1's = 0.0111\n",
      "target_73: 0's = 0.9893, 1's = 0.0107\n",
      "target_74: 0's = 0.9889, 1's = 0.0111\n",
      "target_75: 0's = 0.9927, 1's = 0.0073\n",
      "target_76: 0's = 0.9585, 1's = 0.0415\n",
      "target_77: 0's = 0.9919, 1's = 0.0081\n",
      "target_78: 0's = 0.9865, 1's = 0.0135\n",
      "target_79: 0's = 0.9923, 1's = 0.0077\n",
      "target_80: 0's = 0.9928, 1's = 0.0072\n",
      "target_81: 0's = 0.9835, 1's = 0.0165\n",
      "target_82: 0's = 0.9820, 1's = 0.0180\n",
      "target_83: 0's = 0.9926, 1's = 0.0074\n",
      "target_84: 0's = 0.9743, 1's = 0.0257\n",
      "target_85: 0's = 0.9819, 1's = 0.0181\n",
      "target_86: 0's = 0.9824, 1's = 0.0176\n",
      "target_87: 0's = 0.9903, 1's = 0.0097\n",
      "target_88: 0's = 0.9901, 1's = 0.0099\n",
      "target_89: 0's = 0.9681, 1's = 0.0319\n",
      "target_90: 0's = 0.9881, 1's = 0.0119\n",
      "target_91: 0's = 0.9869, 1's = 0.0131\n",
      "target_92: 0's = 0.9908, 1's = 0.0092\n",
      "target_93: 0's = 0.9926, 1's = 0.0074\n",
      "target_94: 0's = 0.9761, 1's = 0.0239\n",
      "target_95: 0's = 0.9918, 1's = 0.0082\n",
      "target_96: 0's = 0.9922, 1's = 0.0078\n",
      "target_97: 0's = 0.9765, 1's = 0.0235\n",
      "target_98: 0's = 0.9724, 1's = 0.0276\n",
      "target_99: 0's = 0.9922, 1's = 0.0078\n",
      "target_100: 0's = 0.9907, 1's = 0.0093\n",
      "target_101: 0's = 0.9823, 1's = 0.0177\n",
      "target_102: 0's = 0.9866, 1's = 0.0134\n",
      "target_103: 0's = 0.9916, 1's = 0.0084\n",
      "target_104: 0's = 0.9899, 1's = 0.0101\n",
      "target_105: 0's = 0.9685, 1's = 0.0315\n",
      "target_106: 0's = 0.9909, 1's = 0.0091\n",
      "target_107: 0's = 0.9903, 1's = 0.0097\n",
      "target_108: 0's = 0.9854, 1's = 0.0146\n",
      "target_109: 0's = 0.9903, 1's = 0.0097\n",
      "target_110: 0's = 0.9922, 1's = 0.0078\n",
      "target_111: 0's = 0.9889, 1's = 0.0111\n",
      "target_112: 0's = 0.9828, 1's = 0.0172\n",
      "target_113: 0's = 0.9927, 1's = 0.0073\n",
      "target_114: 0's = 0.9828, 1's = 0.0172\n",
      "target_115: 0's = 0.9905, 1's = 0.0095\n",
      "target_116: 0's = 0.9924, 1's = 0.0076\n",
      "target_117: 0's = 0.9928, 1's = 0.0072\n",
      "target_118: 0's = 0.9755, 1's = 0.0245\n",
      "target_119: 0's = 0.9874, 1's = 0.0126\n",
      "target_120: 0's = 0.9850, 1's = 0.0150\n",
      "target_121: 0's = 0.9896, 1's = 0.0104\n",
      "target_122: 0's = 0.9890, 1's = 0.0110\n",
      "target_123: 0's = 0.9685, 1's = 0.0315\n",
      "target_124: 0's = 0.9908, 1's = 0.0092\n",
      "target_125: 0's = 0.9761, 1's = 0.0239\n",
      "target_126: 0's = 0.9927, 1's = 0.0073\n",
      "target_127: 0's = 0.9873, 1's = 0.0127\n",
      "target_128: 0's = 0.9927, 1's = 0.0073\n",
      "target_129: 0's = 0.9922, 1's = 0.0078\n",
      "target_130: 0's = 0.9719, 1's = 0.0281\n",
      "target_131: 0's = 0.9918, 1's = 0.0082\n",
      "target_132: 0's = 0.9401, 1's = 0.0599\n",
      "target_133: 0's = 0.9920, 1's = 0.0080\n",
      "target_134: 0's = 0.9926, 1's = 0.0074\n",
      "target_135: 0's = 0.8591, 1's = 0.1409\n",
      "target_136: 0's = 0.9873, 1's = 0.0127\n",
      "target_137: 0's = 0.9931, 1's = 0.0069\n",
      "target_138: 0's = 0.9915, 1's = 0.0085\n",
      "target_139: 0's = 0.9808, 1's = 0.0192\n",
      "target_140: 0's = 0.9822, 1's = 0.0178\n",
      "target_141: 0's = 0.9913, 1's = 0.0087\n",
      "target_142: 0's = 0.9721, 1's = 0.0279\n",
      "target_143: 0's = 0.9884, 1's = 0.0116\n",
      "target_144: 0's = 0.9824, 1's = 0.0176\n",
      "target_145: 0's = 0.9807, 1's = 0.0193\n",
      "target_146: 0's = 0.9899, 1's = 0.0101\n",
      "target_147: 0's = 0.9796, 1's = 0.0204\n",
      "target_148: 0's = 0.9916, 1's = 0.0084\n",
      "target_149: 0's = 0.9915, 1's = 0.0085\n",
      "target_150: 0's = 0.9826, 1's = 0.0174\n",
      "target_151: 0's = 0.9901, 1's = 0.0099\n",
      "target_152: 0's = 0.9889, 1's = 0.0111\n",
      "target_153: 0's = 0.9823, 1's = 0.0177\n",
      "target_154: 0's = 0.9867, 1's = 0.0133\n",
      "target_155: 0's = 0.9907, 1's = 0.0093\n",
      "target_156: 0's = 0.9850, 1's = 0.0150\n",
      "target_157: 0's = 0.9686, 1's = 0.0314\n",
      "target_158: 0's = 0.9863, 1's = 0.0137\n",
      "target_159: 0's = 0.9919, 1's = 0.0081\n"
     ]
    }
   ],
   "source": [
    "## Dataset is highly imbalanced\n",
    "\n",
    "# Slice only the label columns\n",
    "label_data = bibtex_data_cleaned.iloc[:, 1836:]\n",
    "\n",
    "# Calculate proportions of 0's and 1's for each column\n",
    "for col in label_data.columns:\n",
    "    value_counts = label_data[col].value_counts(normalize=True).sort_index()\n",
    "    prop_0 = value_counts.get(0, 0)\n",
    "    prop_1 = value_counts.get(1, 0)\n",
    "    print(f\"{col}: 0's = {prop_0:.4f}, 1's = {prop_1:.4f}\")"
   ]
  },
  {
   "cell_type": "code",
   "execution_count": 19,
   "id": "83f4ab6f-380d-49b2-96d6-c471dfcfa534",
   "metadata": {},
   "outputs": [],
   "source": [
    "## Rename all the response variables as target_X\n",
    "\n",
    "# Total number of columns\n",
    "total_cols = bibtex_data_cleaned.shape[1]\n",
    "\n",
    "# Generate new names for response variables\n",
    "num_targets = total_cols - 1836\n",
    "new_target_names = [f\"target_{i+1}\" for i in range(num_targets)]\n",
    "\n",
    "# Apply the new names\n",
    "bibtex_data_cleaned.columns.values[1836:] = new_target_names"
   ]
  },
  {
   "cell_type": "code",
   "execution_count": 22,
   "id": "0c5633cc-b171-4ab6-b449-b1502a7cf256",
   "metadata": {},
   "outputs": [
    {
     "data": {
      "text/html": [
       "<div>\n",
       "<style scoped>\n",
       "    .dataframe tbody tr th:only-of-type {\n",
       "        vertical-align: middle;\n",
       "    }\n",
       "\n",
       "    .dataframe tbody tr th {\n",
       "        vertical-align: top;\n",
       "    }\n",
       "\n",
       "    .dataframe thead th {\n",
       "        text-align: right;\n",
       "    }\n",
       "</style>\n",
       "<table border=\"1\" class=\"dataframe\">\n",
       "  <thead>\n",
       "    <tr style=\"text-align: right;\">\n",
       "      <th></th>\n",
       "      <th>f_1835</th>\n",
       "      <th>target_1</th>\n",
       "      <th>target_2</th>\n",
       "      <th>target_3</th>\n",
       "      <th>target_4</th>\n",
       "      <th>target_5</th>\n",
       "      <th>target_6</th>\n",
       "      <th>target_7</th>\n",
       "      <th>target_8</th>\n",
       "      <th>target_9</th>\n",
       "      <th>...</th>\n",
       "      <th>target_150</th>\n",
       "      <th>target_151</th>\n",
       "      <th>target_152</th>\n",
       "      <th>target_153</th>\n",
       "      <th>target_154</th>\n",
       "      <th>target_155</th>\n",
       "      <th>target_156</th>\n",
       "      <th>target_157</th>\n",
       "      <th>target_158</th>\n",
       "      <th>target_159</th>\n",
       "    </tr>\n",
       "  </thead>\n",
       "  <tbody>\n",
       "    <tr>\n",
       "      <th>0</th>\n",
       "      <td>0</td>\n",
       "      <td>0</td>\n",
       "      <td>0</td>\n",
       "      <td>0</td>\n",
       "      <td>0</td>\n",
       "      <td>0</td>\n",
       "      <td>0</td>\n",
       "      <td>0</td>\n",
       "      <td>0</td>\n",
       "      <td>0</td>\n",
       "      <td>...</td>\n",
       "      <td>0</td>\n",
       "      <td>0</td>\n",
       "      <td>0</td>\n",
       "      <td>0</td>\n",
       "      <td>0</td>\n",
       "      <td>0</td>\n",
       "      <td>0</td>\n",
       "      <td>0</td>\n",
       "      <td>0</td>\n",
       "      <td>1</td>\n",
       "    </tr>\n",
       "    <tr>\n",
       "      <th>1</th>\n",
       "      <td>0</td>\n",
       "      <td>0</td>\n",
       "      <td>0</td>\n",
       "      <td>0</td>\n",
       "      <td>0</td>\n",
       "      <td>0</td>\n",
       "      <td>0</td>\n",
       "      <td>0</td>\n",
       "      <td>0</td>\n",
       "      <td>0</td>\n",
       "      <td>...</td>\n",
       "      <td>0</td>\n",
       "      <td>0</td>\n",
       "      <td>0</td>\n",
       "      <td>0</td>\n",
       "      <td>1</td>\n",
       "      <td>0</td>\n",
       "      <td>0</td>\n",
       "      <td>0</td>\n",
       "      <td>0</td>\n",
       "      <td>0</td>\n",
       "    </tr>\n",
       "    <tr>\n",
       "      <th>2</th>\n",
       "      <td>0</td>\n",
       "      <td>0</td>\n",
       "      <td>0</td>\n",
       "      <td>0</td>\n",
       "      <td>0</td>\n",
       "      <td>0</td>\n",
       "      <td>0</td>\n",
       "      <td>0</td>\n",
       "      <td>0</td>\n",
       "      <td>0</td>\n",
       "      <td>...</td>\n",
       "      <td>0</td>\n",
       "      <td>0</td>\n",
       "      <td>0</td>\n",
       "      <td>0</td>\n",
       "      <td>0</td>\n",
       "      <td>0</td>\n",
       "      <td>0</td>\n",
       "      <td>0</td>\n",
       "      <td>0</td>\n",
       "      <td>0</td>\n",
       "    </tr>\n",
       "  </tbody>\n",
       "</table>\n",
       "<p>3 rows × 160 columns</p>\n",
       "</div>"
      ],
      "text/plain": [
       "  f_1835 target_1 target_2 target_3 target_4 target_5 target_6 target_7  \\\n",
       "0      0        0        0        0        0        0        0        0   \n",
       "1      0        0        0        0        0        0        0        0   \n",
       "2      0        0        0        0        0        0        0        0   \n",
       "\n",
       "  target_8 target_9  ... target_150 target_151 target_152 target_153  \\\n",
       "0        0        0  ...          0          0          0          0   \n",
       "1        0        0  ...          0          0          0          0   \n",
       "2        0        0  ...          0          0          0          0   \n",
       "\n",
       "  target_154 target_155 target_156 target_157 target_158 target_159  \n",
       "0          0          0          0          0          0          1  \n",
       "1          1          0          0          0          0          0  \n",
       "2          0          0          0          0          0          0  \n",
       "\n",
       "[3 rows x 160 columns]"
      ]
     },
     "execution_count": 22,
     "metadata": {},
     "output_type": "execute_result"
    }
   ],
   "source": [
    "bibtex_data_cleaned.iloc[:, 1835:].head(3)"
   ]
  },
  {
   "cell_type": "code",
   "execution_count": 27,
   "id": "22dd7cfe-cd34-47de-8b16-6fbde7d213f7",
   "metadata": {},
   "outputs": [],
   "source": [
    "## Reset multi index before storing the data\n",
    "bibtex_data_cleaned.columns = [str(col) for col in bibtex_data_cleaned.columns]"
   ]
  },
  {
   "cell_type": "code",
   "execution_count": 29,
   "id": "87e0ae6d-bcbc-49e5-b1ca-b6a54dd45981",
   "metadata": {},
   "outputs": [],
   "source": [
    "# Save in Parquet format (using pyarrow)\n",
    "bibtex_data_cleaned.to_parquet( path + \"processed_dataset.parquet\", compression=\"snappy\", engine=\"pyarrow\", index=False)"
   ]
  }
 ],
 "metadata": {
  "kernelspec": {
   "display_name": "Python 3 (ipykernel)",
   "language": "python",
   "name": "python3"
  },
  "language_info": {
   "codemirror_mode": {
    "name": "ipython",
    "version": 3
   },
   "file_extension": ".py",
   "mimetype": "text/x-python",
   "name": "python",
   "nbconvert_exporter": "python",
   "pygments_lexer": "ipython3",
   "version": "3.8.10"
  }
 },
 "nbformat": 4,
 "nbformat_minor": 5
}
