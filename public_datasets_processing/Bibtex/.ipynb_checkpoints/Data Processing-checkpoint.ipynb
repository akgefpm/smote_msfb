{
 "cells": [
  {
   "cell_type": "code",
   "execution_count": null,
   "id": "ea83ef86-78dd-4452-b45a-5aac32c244e7",
   "metadata": {},
   "outputs": [],
   "source": [
    "! pip install liac-arff"
   ]
  },
  {
   "cell_type": "code",
   "execution_count": null,
   "id": "2c9f8e08-44bb-431e-a7b8-90d725ca0441",
   "metadata": {},
   "outputs": [],
   "source": [
    "## Checks to be executed for each dataset\n",
    "## 1. The unique values across the entire dataset should be 0 or 1 only\n",
    "## 2. There should NOT be any columns in the co-variate space with all value equal. Let's remove those columns"
   ]
  },
  {
   "cell_type": "code",
   "execution_count": 1,
   "id": "1afe6891-00f4-415a-b52b-0185a4bf4981",
   "metadata": {},
   "outputs": [],
   "source": [
    "import arff\n",
    "import pandas as pd\n",
    "from scipy.sparse import csr_matrix\n",
    "import numpy as np"
   ]
  },
  {
   "cell_type": "code",
   "execution_count": 2,
   "id": "671bd7ff-2347-46d8-bb1f-4d525f0ca7e4",
   "metadata": {},
   "outputs": [],
   "source": [
    "path = \"/domino/datasets/local/CustomerSegmentation/public_datasets/bibtex/\""
   ]
  },
  {
   "cell_type": "code",
   "execution_count": 3,
   "id": "ec235a55-f63f-43b2-baac-bcc3912b8f5c",
   "metadata": {},
   "outputs": [],
   "source": [
    "# Load the .arff file - With full data in one file\n",
    "with open(path + 'bibtex.arff', 'r') as f:\n",
    "    dataset = arff.load(f)\n",
    "    \n",
    "# Extract data and attributes\n",
    "data = dataset['data']\n",
    "attributes = dataset['attributes']\n",
    "\n",
    "# Create DataFrame\n",
    "columns = [attr[0] for attr in attributes]\n",
    "bibtex_data = pd.DataFrame(data, columns=columns)"
   ]
  },
  {
   "cell_type": "code",
   "execution_count": 4,
   "id": "bbab1187-1cf3-4568-a878-cc6f5116f5ad",
   "metadata": {},
   "outputs": [
    {
     "name": "stdout",
     "output_type": "stream",
     "text": [
      "Shape of the bibtex_data file : (7395, 1995)\n"
     ]
    }
   ],
   "source": [
    "print(\"Shape of the bibtex_data file :\", bibtex_data.shape)"
   ]
  },
  {
   "cell_type": "code",
   "execution_count": 5,
   "id": "b6768b85-6836-4031-90f5-282951e1f5e1",
   "metadata": {},
   "outputs": [
    {
     "name": "stdout",
     "output_type": "stream",
     "text": [
      "1836\n"
     ]
    }
   ],
   "source": [
    "### Get the position of the first Label columns\n",
    "col_position = bibtex_data.columns.get_loc(\"TAG_2005\")\n",
    "print(col_position)"
   ]
  },
  {
   "cell_type": "code",
   "execution_count": null,
   "id": "1c34ebb9-bbc7-4591-9405-8e42ce110cc7",
   "metadata": {},
   "outputs": [],
   "source": [
    "bibtex_data.columns"
   ]
  },
  {
   "cell_type": "code",
   "execution_count": 8,
   "id": "31203618-52b0-4071-8a2c-a0fc621e1033",
   "metadata": {},
   "outputs": [
    {
     "data": {
      "text/plain": [
       "Index(['0', '000', '02', '05', '06', '1', '10', '100', '11', '12',\n",
       "       ...\n",
       "       'years', 'yet', 'yield', 'yields', 'you', 'young', 'z', 'zero', 'zu',\n",
       "       'zur'],\n",
       "      dtype='object', length=1836)"
      ]
     },
     "execution_count": 8,
     "metadata": {},
     "output_type": "execute_result"
    }
   ],
   "source": [
    "bibtex_data.iloc[:,:1836].columns"
   ]
  },
  {
   "cell_type": "code",
   "execution_count": 9,
   "id": "ae764af1-cd47-4388-b0a3-dc6d68f33143",
   "metadata": {},
   "outputs": [
    {
     "name": "stdout",
     "output_type": "stream",
     "text": [
      "['0' '1']\n"
     ]
    }
   ],
   "source": [
    "##Check if the unique values across the entire co-variate space is 0 and 1 only or not\n",
    "unique_values = np.unique(bibtex_data.iloc[:, :1836].values)\n",
    "print(unique_values)"
   ]
  },
  {
   "cell_type": "code",
   "execution_count": 10,
   "id": "a3b1c775-4dea-4711-b164-86e9ba0b4849",
   "metadata": {},
   "outputs": [
    {
     "name": "stdout",
     "output_type": "stream",
     "text": [
      "['0' '1']\n"
     ]
    }
   ],
   "source": [
    "## Check if the unique values in the mulit labels is 0 and 1 only or not\n",
    "unique_values = np.unique(bibtex_data.iloc[:,1837:].values)\n",
    "print(unique_values)"
   ]
  },
  {
   "cell_type": "code",
   "execution_count": 11,
   "id": "947ccbe4-54e8-42a8-a329-e475251b81c1",
   "metadata": {},
   "outputs": [
    {
     "name": "stdout",
     "output_type": "stream",
     "text": [
      "Shape of the non_constant_cols : (7395, 1836)\n",
      "Shape of bibtex_data_cleaned : (7395, 1995)\n"
     ]
    }
   ],
   "source": [
    "## Check to drop columns from the dataset with same values for all rows\n",
    "\n",
    "# Subset the first 1836 columns\n",
    "features = bibtex_data.iloc[:, :1836]\n",
    "\n",
    "# Identify columns with more than one unique value\n",
    "non_constant_cols = features.loc[:, features.nunique(dropna=False) > 1]\n",
    "\n",
    "print(\"Shape of the non_constant_cols :\", non_constant_cols.shape)\n",
    "\n",
    "# Concatenate with the remaining part of the DataFrame (e.g., label columns)\n",
    "bibtex_data_cleaned = pd.concat([non_constant_cols, bibtex_data.iloc[:, 1836:]], axis=1)\n",
    "\n",
    "print(\"Shape of bibtex_data_cleaned :\", bibtex_data_cleaned.shape)"
   ]
  },
  {
   "cell_type": "code",
   "execution_count": null,
   "id": "92f9bae4-6ea8-4015-9303-748038d58c75",
   "metadata": {},
   "outputs": [],
   "source": [
    "## No columns were deleted during constant value checks"
   ]
  },
  {
   "cell_type": "code",
   "execution_count": 13,
   "id": "7b711968-b174-48c9-9043-d3cea269b41d",
   "metadata": {},
   "outputs": [
    {
     "data": {
      "text/plain": [
       "Index(['0', '000', '02', '05', '06', '1', '10', '100', '11', '12',\n",
       "       ...\n",
       "       'yet', 'yield', 'yields', 'you', 'young', 'z', 'zero', 'zu', 'zur',\n",
       "       'TAG_2005'],\n",
       "      dtype='object', length=1837)"
      ]
     },
     "execution_count": 13,
     "metadata": {},
     "output_type": "execute_result"
    }
   ],
   "source": [
    "bibtex_data_cleaned.iloc[:,:1837].columns"
   ]
  },
  {
   "cell_type": "code",
   "execution_count": 14,
   "id": "59a8c12f-696e-40e4-a483-e3a206231d79",
   "metadata": {},
   "outputs": [],
   "source": [
    "##  Rename the co-variate feature space of the dataset\n",
    "\n",
    "# Generate new column names\n",
    "new_feature_names = [f\"f_{i}\" for i in range(1836)]\n",
    "\n",
    "# Assign the new names to the first 1836 columns\n",
    "bibtex_data_cleaned.columns.values[:1836] = new_feature_names"
   ]
  },
  {
   "cell_type": "code",
   "execution_count": 15,
   "id": "48cad269-ec5e-4d89-a39d-2b946c7efc82",
   "metadata": {},
   "outputs": [
    {
     "data": {
      "text/html": [
       "<div>\n",
       "<style scoped>\n",
       "    .dataframe tbody tr th:only-of-type {\n",
       "        vertical-align: middle;\n",
       "    }\n",
       "\n",
       "    .dataframe tbody tr th {\n",
       "        vertical-align: top;\n",
       "    }\n",
       "\n",
       "    .dataframe thead th {\n",
       "        text-align: right;\n",
       "    }\n",
       "</style>\n",
       "<table border=\"1\" class=\"dataframe\">\n",
       "  <thead>\n",
       "    <tr style=\"text-align: right;\">\n",
       "      <th></th>\n",
       "      <th>f_0</th>\n",
       "      <th>f_1</th>\n",
       "      <th>f_2</th>\n",
       "      <th>f_3</th>\n",
       "      <th>f_4</th>\n",
       "      <th>f_5</th>\n",
       "      <th>f_6</th>\n",
       "      <th>f_7</th>\n",
       "      <th>f_8</th>\n",
       "      <th>f_9</th>\n",
       "      <th>...</th>\n",
       "      <th>TAG_topic7</th>\n",
       "      <th>TAG_topic8</th>\n",
       "      <th>TAG_topic9</th>\n",
       "      <th>TAG_toread</th>\n",
       "      <th>TAG_transition</th>\n",
       "      <th>TAG_visual</th>\n",
       "      <th>TAG_visualization</th>\n",
       "      <th>TAG_web</th>\n",
       "      <th>TAG_web20</th>\n",
       "      <th>TAG_wiki</th>\n",
       "    </tr>\n",
       "  </thead>\n",
       "  <tbody>\n",
       "    <tr>\n",
       "      <th>0</th>\n",
       "      <td>0</td>\n",
       "      <td>0</td>\n",
       "      <td>0</td>\n",
       "      <td>0</td>\n",
       "      <td>0</td>\n",
       "      <td>0</td>\n",
       "      <td>0</td>\n",
       "      <td>0</td>\n",
       "      <td>0</td>\n",
       "      <td>0</td>\n",
       "      <td>...</td>\n",
       "      <td>0</td>\n",
       "      <td>0</td>\n",
       "      <td>0</td>\n",
       "      <td>0</td>\n",
       "      <td>0</td>\n",
       "      <td>0</td>\n",
       "      <td>0</td>\n",
       "      <td>0</td>\n",
       "      <td>0</td>\n",
       "      <td>1</td>\n",
       "    </tr>\n",
       "    <tr>\n",
       "      <th>1</th>\n",
       "      <td>1</td>\n",
       "      <td>0</td>\n",
       "      <td>0</td>\n",
       "      <td>0</td>\n",
       "      <td>0</td>\n",
       "      <td>0</td>\n",
       "      <td>0</td>\n",
       "      <td>0</td>\n",
       "      <td>0</td>\n",
       "      <td>0</td>\n",
       "      <td>...</td>\n",
       "      <td>0</td>\n",
       "      <td>0</td>\n",
       "      <td>0</td>\n",
       "      <td>0</td>\n",
       "      <td>1</td>\n",
       "      <td>0</td>\n",
       "      <td>0</td>\n",
       "      <td>0</td>\n",
       "      <td>0</td>\n",
       "      <td>0</td>\n",
       "    </tr>\n",
       "    <tr>\n",
       "      <th>2</th>\n",
       "      <td>1</td>\n",
       "      <td>0</td>\n",
       "      <td>0</td>\n",
       "      <td>0</td>\n",
       "      <td>0</td>\n",
       "      <td>1</td>\n",
       "      <td>0</td>\n",
       "      <td>1</td>\n",
       "      <td>0</td>\n",
       "      <td>0</td>\n",
       "      <td>...</td>\n",
       "      <td>0</td>\n",
       "      <td>0</td>\n",
       "      <td>0</td>\n",
       "      <td>0</td>\n",
       "      <td>0</td>\n",
       "      <td>0</td>\n",
       "      <td>0</td>\n",
       "      <td>0</td>\n",
       "      <td>0</td>\n",
       "      <td>0</td>\n",
       "    </tr>\n",
       "  </tbody>\n",
       "</table>\n",
       "<p>3 rows × 1995 columns</p>\n",
       "</div>"
      ],
      "text/plain": [
       "  f_0 f_1 f_2 f_3 f_4 f_5 f_6 f_7 f_8 f_9  ... TAG_topic7 TAG_topic8  \\\n",
       "0   0   0   0   0   0   0   0   0   0   0  ...          0          0   \n",
       "1   1   0   0   0   0   0   0   0   0   0  ...          0          0   \n",
       "2   1   0   0   0   0   1   0   1   0   0  ...          0          0   \n",
       "\n",
       "  TAG_topic9 TAG_toread TAG_transition TAG_visual TAG_visualization TAG_web  \\\n",
       "0          0          0              0          0                 0       0   \n",
       "1          0          0              1          0                 0       0   \n",
       "2          0          0              0          0                 0       0   \n",
       "\n",
       "  TAG_web20 TAG_wiki  \n",
       "0         0        1  \n",
       "1         0        0  \n",
       "2         0        0  \n",
       "\n",
       "[3 rows x 1995 columns]"
      ]
     },
     "execution_count": 15,
     "metadata": {},
     "output_type": "execute_result"
    }
   ],
   "source": [
    "bibtex_data_cleaned.head(3)"
   ]
  },
  {
   "cell_type": "code",
   "execution_count": 17,
   "id": "3f22399c-a1ab-4bcd-9df9-a636ffb84ba7",
   "metadata": {},
   "outputs": [
    {
     "name": "stdout",
     "output_type": "stream",
     "text": [
      "TAG_2005: 0's = 0.9907, 1's = 0.0093\n",
      "TAG_2006: 0's = 0.9822, 1's = 0.0178\n",
      "TAG_2007: 0's = 0.9904, 1's = 0.0096\n",
      "TAG_agdetection: 0's = 0.9859, 1's = 0.0141\n",
      "TAG_algorithms: 0's = 0.9923, 1's = 0.0077\n",
      "TAG_amperometry: 0's = 0.9867, 1's = 0.0133\n",
      "TAG_analysis: 0's = 0.9723, 1's = 0.0277\n",
      "TAG_and: 0's = 0.9889, 1's = 0.0111\n",
      "TAG_annotation: 0's = 0.9918, 1's = 0.0082\n",
      "TAG_antibody: 0's = 0.9817, 1's = 0.0183\n",
      "TAG_apob: 0's = 0.9604, 1's = 0.0396\n",
      "TAG_architecture: 0's = 0.9874, 1's = 0.0126\n",
      "TAG_article: 0's = 0.9918, 1's = 0.0082\n",
      "TAG_bettasplendens: 0's = 0.9801, 1's = 0.0199\n",
      "TAG_bibteximport: 0's = 0.9294, 1's = 0.0706\n",
      "TAG_book: 0's = 0.9870, 1's = 0.0130\n",
      "TAG_children: 0's = 0.9861, 1's = 0.0139\n",
      "TAG_classification: 0's = 0.9918, 1's = 0.0082\n",
      "TAG_clustering: 0's = 0.9823, 1's = 0.0177\n",
      "TAG_cognition: 0's = 0.9869, 1's = 0.0131\n",
      "TAG_collaboration: 0's = 0.9900, 1's = 0.0100\n",
      "TAG_collaborative: 0's = 0.9843, 1's = 0.0157\n",
      "TAG_community: 0's = 0.9827, 1's = 0.0173\n",
      "TAG_competition: 0's = 0.9897, 1's = 0.0103\n",
      "TAG_complex: 0's = 0.9908, 1's = 0.0092\n",
      "TAG_complexity: 0's = 0.9920, 1's = 0.0080\n",
      "TAG_compounds: 0's = 0.9878, 1's = 0.0122\n",
      "TAG_computer: 0's = 0.9842, 1's = 0.0158\n",
      "TAG_computing: 0's = 0.9931, 1's = 0.0069\n",
      "TAG_concept: 0's = 0.9918, 1's = 0.0082\n",
      "TAG_context: 0's = 0.9896, 1's = 0.0104\n",
      "TAG_cortex: 0's = 0.9931, 1's = 0.0069\n",
      "TAG_critical: 0's = 0.9903, 1's = 0.0097\n",
      "TAG_data: 0's = 0.9913, 1's = 0.0087\n",
      "TAG_datamining: 0's = 0.9918, 1's = 0.0082\n",
      "TAG_date: 0's = 0.9869, 1's = 0.0131\n",
      "TAG_design: 0's = 0.9685, 1's = 0.0315\n",
      "TAG_development: 0's = 0.9926, 1's = 0.0074\n",
      "TAG_diffusion: 0's = 0.9884, 1's = 0.0116\n",
      "TAG_diplomathesis: 0's = 0.9915, 1's = 0.0085\n",
      "TAG_disability: 0's = 0.9930, 1's = 0.0070\n",
      "TAG_dynamics: 0's = 0.9771, 1's = 0.0229\n",
      "TAG_education: 0's = 0.9844, 1's = 0.0156\n",
      "TAG_elearning: 0's = 0.9884, 1's = 0.0116\n",
      "TAG_electrochemistry: 0's = 0.9736, 1's = 0.0264\n",
      "TAG_elisa: 0's = 0.9927, 1's = 0.0073\n",
      "TAG_empirical: 0's = 0.9930, 1's = 0.0070\n",
      "TAG_energy: 0's = 0.9903, 1's = 0.0097\n",
      "TAG_engineering: 0's = 0.9859, 1's = 0.0141\n",
      "TAG_epitope: 0's = 0.9857, 1's = 0.0143\n",
      "TAG_equation: 0's = 0.9928, 1's = 0.0072\n",
      "TAG_evaluation: 0's = 0.9904, 1's = 0.0096\n",
      "TAG_evolution: 0's = 0.9602, 1's = 0.0398\n",
      "TAG_fca: 0's = 0.9927, 1's = 0.0073\n",
      "TAG_folksonomy: 0's = 0.9820, 1's = 0.0180\n",
      "TAG_formal: 0's = 0.9888, 1's = 0.0112\n",
      "TAG_fornepomuk: 0's = 0.9927, 1's = 0.0073\n",
      "TAG_games: 0's = 0.9924, 1's = 0.0076\n",
      "TAG_granular: 0's = 0.9923, 1's = 0.0077\n",
      "TAG_graph: 0's = 0.9927, 1's = 0.0073\n",
      "TAG_hci: 0's = 0.9913, 1's = 0.0087\n",
      "TAG_homogeneous: 0's = 0.9863, 1's = 0.0137\n",
      "TAG_imaging: 0's = 0.9913, 1's = 0.0087\n",
      "TAG_immunoassay: 0's = 0.9662, 1's = 0.0338\n",
      "TAG_immunoelectrode: 0's = 0.9915, 1's = 0.0085\n",
      "TAG_immunosensor: 0's = 0.9901, 1's = 0.0099\n",
      "TAG_information: 0's = 0.9769, 1's = 0.0231\n",
      "TAG_informationretrieval: 0's = 0.9897, 1's = 0.0103\n",
      "TAG_kaldesignresearch: 0's = 0.9918, 1's = 0.0082\n",
      "TAG_kinetic: 0's = 0.9927, 1's = 0.0073\n",
      "TAG_knowledge: 0's = 0.9753, 1's = 0.0247\n",
      "TAG_knowledgemanagement: 0's = 0.9889, 1's = 0.0111\n",
      "TAG_langen: 0's = 0.9893, 1's = 0.0107\n",
      "TAG_language: 0's = 0.9889, 1's = 0.0111\n",
      "TAG_ldl: 0's = 0.9927, 1's = 0.0073\n",
      "TAG_learning: 0's = 0.9585, 1's = 0.0415\n",
      "TAG_liposome: 0's = 0.9919, 1's = 0.0081\n",
      "TAG_litreview: 0's = 0.9865, 1's = 0.0135\n",
      "TAG_logic: 0's = 0.9923, 1's = 0.0077\n",
      "TAG_maintenance: 0's = 0.9928, 1's = 0.0072\n",
      "TAG_management: 0's = 0.9835, 1's = 0.0165\n",
      "TAG_mapping: 0's = 0.9820, 1's = 0.0180\n",
      "TAG_marotzkiwinfried: 0's = 0.9926, 1's = 0.0074\n",
      "TAG_mathematics: 0's = 0.9743, 1's = 0.0257\n",
      "TAG_mathgamespatterns: 0's = 0.9819, 1's = 0.0181\n",
      "TAG_methodology: 0's = 0.9824, 1's = 0.0176\n",
      "TAG_metrics: 0's = 0.9903, 1's = 0.0097\n",
      "TAG_mining: 0's = 0.9901, 1's = 0.0099\n",
      "TAG_model: 0's = 0.9681, 1's = 0.0319\n",
      "TAG_modeling: 0's = 0.9881, 1's = 0.0119\n",
      "TAG_models: 0's = 0.9869, 1's = 0.0131\n",
      "TAG_molecular: 0's = 0.9908, 1's = 0.0092\n",
      "TAG_montecarlo: 0's = 0.9926, 1's = 0.0074\n",
      "TAG_myown: 0's = 0.9761, 1's = 0.0239\n",
      "TAG_narrative: 0's = 0.9918, 1's = 0.0082\n",
      "TAG_nepomuk: 0's = 0.9922, 1's = 0.0078\n",
      "TAG_network: 0's = 0.9765, 1's = 0.0235\n",
      "TAG_networks: 0's = 0.9724, 1's = 0.0276\n",
      "TAG_nlp: 0's = 0.9922, 1's = 0.0078\n",
      "TAG_nonequilibrium: 0's = 0.9907, 1's = 0.0093\n",
      "TAG_notag: 0's = 0.9823, 1's = 0.0177\n",
      "TAG_objectoriented: 0's = 0.9866, 1's = 0.0134\n",
      "TAG_of: 0's = 0.9916, 1's = 0.0084\n",
      "TAG_ontologies: 0's = 0.9899, 1's = 0.0101\n",
      "TAG_ontology: 0's = 0.9685, 1's = 0.0315\n",
      "TAG_pattern: 0's = 0.9909, 1's = 0.0091\n",
      "TAG_patterns: 0's = 0.9903, 1's = 0.0097\n",
      "TAG_phase: 0's = 0.9854, 1's = 0.0146\n",
      "TAG_physics: 0's = 0.9903, 1's = 0.0097\n",
      "TAG_process: 0's = 0.9922, 1's = 0.0078\n",
      "TAG_programming: 0's = 0.9889, 1's = 0.0111\n",
      "TAG_prolearn: 0's = 0.9828, 1's = 0.0172\n",
      "TAG_psycholinguistics: 0's = 0.9927, 1's = 0.0073\n",
      "TAG_quantum: 0's = 0.9828, 1's = 0.0172\n",
      "TAG_random: 0's = 0.9905, 1's = 0.0095\n",
      "TAG_rdf: 0's = 0.9924, 1's = 0.0076\n",
      "TAG_representation: 0's = 0.9928, 1's = 0.0072\n",
      "TAG_requirements: 0's = 0.9755, 1's = 0.0245\n",
      "TAG_research: 0's = 0.9874, 1's = 0.0126\n",
      "TAG_review: 0's = 0.9850, 1's = 0.0150\n",
      "TAG_science: 0's = 0.9896, 1's = 0.0104\n",
      "TAG_search: 0's = 0.9890, 1's = 0.0110\n",
      "TAG_semantic: 0's = 0.9685, 1's = 0.0315\n",
      "TAG_semantics: 0's = 0.9908, 1's = 0.0092\n",
      "TAG_semanticweb: 0's = 0.9761, 1's = 0.0239\n",
      "TAG_sequence: 0's = 0.9927, 1's = 0.0073\n",
      "TAG_simulation: 0's = 0.9873, 1's = 0.0127\n",
      "TAG_simulations: 0's = 0.9927, 1's = 0.0073\n",
      "TAG_sna: 0's = 0.9922, 1's = 0.0078\n",
      "TAG_social: 0's = 0.9719, 1's = 0.0281\n",
      "TAG_socialnets: 0's = 0.9918, 1's = 0.0082\n",
      "TAG_software: 0's = 0.9401, 1's = 0.0599\n",
      "TAG_spin: 0's = 0.9920, 1's = 0.0080\n",
      "TAG_statistics: 0's = 0.9926, 1's = 0.0074\n",
      "TAG_statphys23: 0's = 0.8591, 1's = 0.1409\n",
      "TAG_structure: 0's = 0.9873, 1's = 0.0127\n",
      "TAG_survey: 0's = 0.9931, 1's = 0.0069\n",
      "TAG_system: 0's = 0.9915, 1's = 0.0085\n",
      "TAG_systems: 0's = 0.9808, 1's = 0.0192\n",
      "TAG_tagging: 0's = 0.9822, 1's = 0.0178\n",
      "TAG_technology: 0's = 0.9913, 1's = 0.0087\n",
      "TAG_theory: 0's = 0.9721, 1's = 0.0279\n",
      "TAG_topic1: 0's = 0.9884, 1's = 0.0116\n",
      "TAG_topic10: 0's = 0.9824, 1's = 0.0176\n",
      "TAG_topic11: 0's = 0.9807, 1's = 0.0193\n",
      "TAG_topic2: 0's = 0.9899, 1's = 0.0101\n",
      "TAG_topic3: 0's = 0.9796, 1's = 0.0204\n",
      "TAG_topic4: 0's = 0.9916, 1's = 0.0084\n",
      "TAG_topic6: 0's = 0.9915, 1's = 0.0085\n",
      "TAG_topic7: 0's = 0.9826, 1's = 0.0174\n",
      "TAG_topic8: 0's = 0.9901, 1's = 0.0099\n",
      "TAG_topic9: 0's = 0.9889, 1's = 0.0111\n",
      "TAG_toread: 0's = 0.9823, 1's = 0.0177\n",
      "TAG_transition: 0's = 0.9867, 1's = 0.0133\n",
      "TAG_visual: 0's = 0.9907, 1's = 0.0093\n",
      "TAG_visualization: 0's = 0.9850, 1's = 0.0150\n",
      "TAG_web: 0's = 0.9686, 1's = 0.0314\n",
      "TAG_web20: 0's = 0.9863, 1's = 0.0137\n",
      "TAG_wiki: 0's = 0.9919, 1's = 0.0081\n"
     ]
    }
   ],
   "source": [
    "## Dataset is highly imbalanced\n",
    "\n",
    "# Slice only the label columns\n",
    "label_data = bibtex_data_cleaned.iloc[:, 1836:]\n",
    "\n",
    "# Calculate proportions of 0's and 1's for each column\n",
    "for col in label_data.columns:\n",
    "    value_counts = label_data[col].value_counts(normalize=True).sort_index()\n",
    "    prop_0 = value_counts.get(0, 0)\n",
    "    prop_1 = value_counts.get(1, 0)\n",
    "    print(f\"{col}: 0's = {prop_0:.4f}, 1's = {prop_1:.4f}\")"
   ]
  },
  {
   "cell_type": "code",
   "execution_count": 19,
   "id": "83f4ab6f-380d-49b2-96d6-c471dfcfa534",
   "metadata": {},
   "outputs": [],
   "source": [
    "## Rename all the response variables as target_X\n",
    "\n",
    "# Total number of columns\n",
    "total_cols = bibtex_data_cleaned.shape[1]\n",
    "\n",
    "# Generate new names for response variables\n",
    "num_targets = total_cols - 1836\n",
    "new_target_names = [f\"target_{i+1}\" for i in range(num_targets)]\n",
    "\n",
    "# Apply the new names\n",
    "bibtex_data_cleaned.columns.values[1836:] = new_target_names"
   ]
  },
  {
   "cell_type": "code",
   "execution_count": 20,
   "id": "0c5633cc-b171-4ab6-b449-b1502a7cf256",
   "metadata": {},
   "outputs": [
    {
     "data": {
      "text/html": [
       "<div>\n",
       "<style scoped>\n",
       "    .dataframe tbody tr th:only-of-type {\n",
       "        vertical-align: middle;\n",
       "    }\n",
       "\n",
       "    .dataframe tbody tr th {\n",
       "        vertical-align: top;\n",
       "    }\n",
       "\n",
       "    .dataframe thead th {\n",
       "        text-align: right;\n",
       "    }\n",
       "</style>\n",
       "<table border=\"1\" class=\"dataframe\">\n",
       "  <thead>\n",
       "    <tr style=\"text-align: right;\">\n",
       "      <th></th>\n",
       "      <th>f_0</th>\n",
       "      <th>f_1</th>\n",
       "      <th>f_2</th>\n",
       "      <th>f_3</th>\n",
       "      <th>f_4</th>\n",
       "      <th>f_5</th>\n",
       "      <th>f_6</th>\n",
       "      <th>f_7</th>\n",
       "      <th>f_8</th>\n",
       "      <th>f_9</th>\n",
       "      <th>...</th>\n",
       "      <th>target_150</th>\n",
       "      <th>target_151</th>\n",
       "      <th>target_152</th>\n",
       "      <th>target_153</th>\n",
       "      <th>target_154</th>\n",
       "      <th>target_155</th>\n",
       "      <th>target_156</th>\n",
       "      <th>target_157</th>\n",
       "      <th>target_158</th>\n",
       "      <th>target_159</th>\n",
       "    </tr>\n",
       "  </thead>\n",
       "  <tbody>\n",
       "    <tr>\n",
       "      <th>0</th>\n",
       "      <td>0</td>\n",
       "      <td>0</td>\n",
       "      <td>0</td>\n",
       "      <td>0</td>\n",
       "      <td>0</td>\n",
       "      <td>0</td>\n",
       "      <td>0</td>\n",
       "      <td>0</td>\n",
       "      <td>0</td>\n",
       "      <td>0</td>\n",
       "      <td>...</td>\n",
       "      <td>0</td>\n",
       "      <td>0</td>\n",
       "      <td>0</td>\n",
       "      <td>0</td>\n",
       "      <td>0</td>\n",
       "      <td>0</td>\n",
       "      <td>0</td>\n",
       "      <td>0</td>\n",
       "      <td>0</td>\n",
       "      <td>1</td>\n",
       "    </tr>\n",
       "    <tr>\n",
       "      <th>1</th>\n",
       "      <td>1</td>\n",
       "      <td>0</td>\n",
       "      <td>0</td>\n",
       "      <td>0</td>\n",
       "      <td>0</td>\n",
       "      <td>0</td>\n",
       "      <td>0</td>\n",
       "      <td>0</td>\n",
       "      <td>0</td>\n",
       "      <td>0</td>\n",
       "      <td>...</td>\n",
       "      <td>0</td>\n",
       "      <td>0</td>\n",
       "      <td>0</td>\n",
       "      <td>0</td>\n",
       "      <td>1</td>\n",
       "      <td>0</td>\n",
       "      <td>0</td>\n",
       "      <td>0</td>\n",
       "      <td>0</td>\n",
       "      <td>0</td>\n",
       "    </tr>\n",
       "    <tr>\n",
       "      <th>2</th>\n",
       "      <td>1</td>\n",
       "      <td>0</td>\n",
       "      <td>0</td>\n",
       "      <td>0</td>\n",
       "      <td>0</td>\n",
       "      <td>1</td>\n",
       "      <td>0</td>\n",
       "      <td>1</td>\n",
       "      <td>0</td>\n",
       "      <td>0</td>\n",
       "      <td>...</td>\n",
       "      <td>0</td>\n",
       "      <td>0</td>\n",
       "      <td>0</td>\n",
       "      <td>0</td>\n",
       "      <td>0</td>\n",
       "      <td>0</td>\n",
       "      <td>0</td>\n",
       "      <td>0</td>\n",
       "      <td>0</td>\n",
       "      <td>0</td>\n",
       "    </tr>\n",
       "  </tbody>\n",
       "</table>\n",
       "<p>3 rows × 1995 columns</p>\n",
       "</div>"
      ],
      "text/plain": [
       "  f_0 f_1 f_2 f_3 f_4 f_5 f_6 f_7 f_8 f_9  ... target_150 target_151  \\\n",
       "0   0   0   0   0   0   0   0   0   0   0  ...          0          0   \n",
       "1   1   0   0   0   0   0   0   0   0   0  ...          0          0   \n",
       "2   1   0   0   0   0   1   0   1   0   0  ...          0          0   \n",
       "\n",
       "  target_152 target_153 target_154 target_155 target_156 target_157  \\\n",
       "0          0          0          0          0          0          0   \n",
       "1          0          0          1          0          0          0   \n",
       "2          0          0          0          0          0          0   \n",
       "\n",
       "  target_158 target_159  \n",
       "0          0          1  \n",
       "1          0          0  \n",
       "2          0          0  \n",
       "\n",
       "[3 rows x 1995 columns]"
      ]
     },
     "execution_count": 20,
     "metadata": {},
     "output_type": "execute_result"
    }
   ],
   "source": [
    "bibtex_data_cleaned.head(3)"
   ]
  },
  {
   "cell_type": "code",
   "execution_count": 21,
   "id": "87e0ae6d-bcbc-49e5-b1ca-b6a54dd45981",
   "metadata": {},
   "outputs": [],
   "source": [
    "bibtex_data_cleaned.to_csv(\"/domino/datasets/local/CustomerSegmentation/public_datasets/bibtex/Final_dataset.csv\", index=False)"
   ]
  }
 ],
 "metadata": {
  "kernelspec": {
   "display_name": "Python 3 (ipykernel)",
   "language": "python",
   "name": "python3"
  },
  "language_info": {
   "codemirror_mode": {
    "name": "ipython",
    "version": 3
   },
   "file_extension": ".py",
   "mimetype": "text/x-python",
   "name": "python",
   "nbconvert_exporter": "python",
   "pygments_lexer": "ipython3",
   "version": "3.8.10"
  }
 },
 "nbformat": 4,
 "nbformat_minor": 5
}
